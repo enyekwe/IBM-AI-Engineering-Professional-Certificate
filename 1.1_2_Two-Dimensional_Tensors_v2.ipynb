{
    "cells": [
        {
            "cell_type": "markdown",
            "id": "70668c69-0534-4235-b780-0bfcfe1bde3f",
            "metadata": {},
            "source": "<p style=\"text-align:center\">\n    <a href=\"https://skills.network/?utm_medium=Exinfluencer&utm_source=Exinfluencer&utm_content=000026UJ&utm_term=10006555&utm_id=NA-SkillsNetwork-Channel-SkillsNetworkCoursesIBMDeveloperSkillsNetworkDL0110ENSkillsNetwork952-2022-01-01\" target=\"_blank\">\n    <img src=\"https://cf-courses-data.s3.us.cloud-object-storage.appdomain.cloud/assets/logos/SN_web_lightmode.png\" width=\"200\" alt=\"Skills Network Logo\"  />\n    </a>\n</p>\n"
        },
        {
            "cell_type": "markdown",
            "id": "ff689970-30a7-4531-a361-98bb8b97c7ca",
            "metadata": {},
            "source": "<h1>Two-Dimensional Tensors</h1>\n"
        },
        {
            "cell_type": "markdown",
            "id": "02fbbe37-8402-4b1d-86c3-5de747c65a42",
            "metadata": {},
            "source": "<h2>Objective</h2><ul><li> How to perform tensor operations on 2D tensors.</li></ul> \n"
        },
        {
            "cell_type": "markdown",
            "id": "ab85398e-c55f-4711-8d7d-32d995eb15ad",
            "metadata": {},
            "source": "<h2>Table of Contents</h2>\n"
        },
        {
            "cell_type": "markdown",
            "id": "3467ce74-86d2-4fa9-aeaf-d23fe552a7ff",
            "metadata": {},
            "source": "<p>In this lab, you will learn the basics of tensor operations on 2D tensors.</p>\n<ul>\n    <li><a href=\"#Types_Shape\">Types and Shape </a></li>\n    <li><a href=\"#Index_Slice\">Indexing and Slicing</a></li>\n    <li><a href=\"#Tensor_Op\">Tensor Operations</a></li>\n</ul>\n\n<p>Estimated Time Needed: <b>10 min</b></p>\n<hr>\n"
        },
        {
            "cell_type": "markdown",
            "id": "6a261f47-ba90-4119-8461-195dc32f995d",
            "metadata": {},
            "source": "<h2>Preparation</h2>\n"
        },
        {
            "cell_type": "markdown",
            "id": "e3228dec-5672-45af-a844-56143a6d4683",
            "metadata": {},
            "source": "The following are the libraries we are going to use for this lab.\n"
        },
        {
            "cell_type": "code",
            "execution_count": 1,
            "id": "706fdcc1-64e3-4bfe-a064-c4971f76d292",
            "metadata": {},
            "outputs": [],
            "source": "# These are the libraries will be used for this lab.\n\nimport numpy as np \nimport matplotlib.pyplot as plt\nimport torch\nimport pandas as pd"
        },
        {
            "cell_type": "markdown",
            "id": "697b4758-661d-4c37-aa0f-df6ad871f67d",
            "metadata": {},
            "source": "<!--Empty Space for separating topics-->\n"
        },
        {
            "cell_type": "markdown",
            "id": "beda3904-4e50-4633-a191-31d33b56366e",
            "metadata": {},
            "source": "<h2 id=\"Types_Shape\">Types and Shape</h2>\n"
        },
        {
            "cell_type": "markdown",
            "id": "421314d3-d50a-4412-a360-ac96c22f0d77",
            "metadata": {},
            "source": "The methods and types for 2D tensors is similar to the methods and types for 1D tensors which has been introduced in <i>Previous Lab</i>.\n"
        },
        {
            "cell_type": "markdown",
            "id": "103bcce4-3572-4163-acee-4d5780ed7a64",
            "metadata": {},
            "source": "Let us see how to convert a 2D list to a 2D tensor. First, let us create a 3X3 2D tensor. Then let us try to use <code>torch.tensor()</code> which we used for converting a 1D list to 1D tensor. Is it going to work?\n"
        },
        {
            "cell_type": "code",
            "execution_count": 2,
            "id": "b17e7824-fe93-41b6-b1db-b08dcb616279",
            "metadata": {},
            "outputs": [
                {
                    "name": "stdout",
                    "output_type": "stream",
                    "text": "The New 2D Tensor:  tensor([[11, 12, 13],\n        [21, 22, 23],\n        [31, 32, 33]])\n"
                }
            ],
            "source": "# Convert 2D List to 2D Tensor\n\ntwoD_list = [[11, 12, 13], [21, 22, 23], [31, 32, 33]]\ntwoD_tensor = torch.tensor(twoD_list)\nprint(\"The New 2D Tensor: \", twoD_tensor)"
        },
        {
            "cell_type": "markdown",
            "id": "7eae857a-ec25-4058-82e6-d2b4f1b5d959",
            "metadata": {},
            "source": "Bravo! The method <code>torch.tensor()</code> works perfectly.Now, let us try other functions we studied in the <i>Previous Lab</i>.\n"
        },
        {
            "cell_type": "markdown",
            "id": "91d24e15-9438-481b-92f1-13337715dd03",
            "metadata": {},
            "source": "<!--Empty Space for separating topics-->\n"
        },
        {
            "cell_type": "markdown",
            "id": "7549f45c-131c-4811-95da-c61f685f1b84",
            "metadata": {},
            "source": "Let us try <code><i>tensor_obj</i>.ndimension()</code> (<code>tensor_obj</code>: This can be any tensor object), <code><i>tensor_obj</i>.shape</code>, and <code><i>tensor_obj</i>.size()</code>\n"
        },
        {
            "cell_type": "code",
            "execution_count": 3,
            "id": "995e78c1-9b9b-452b-bde3-3b06065f746d",
            "metadata": {},
            "outputs": [
                {
                    "name": "stdout",
                    "output_type": "stream",
                    "text": "The dimension of twoD_tensor:  2\nThe shape of twoD_tensor:  torch.Size([3, 3])\nThe shape of twoD_tensor:  torch.Size([3, 3])\nThe number of elements in twoD_tensor:  9\n"
                }
            ],
            "source": "# Try tensor_obj.ndimension(), tensor_obj.shape, tensor_obj.size()\n\nprint(\"The dimension of twoD_tensor: \", twoD_tensor.ndimension())\nprint(\"The shape of twoD_tensor: \", twoD_tensor.shape)\nprint(\"The shape of twoD_tensor: \", twoD_tensor.size())\nprint(\"The number of elements in twoD_tensor: \", twoD_tensor.numel())"
        },
        {
            "cell_type": "markdown",
            "id": "d35aeaf9-3602-463f-ae38-014d3885eaf3",
            "metadata": {},
            "source": "Because it is a 2D 3X3 tensor,  the outputs are correct.\n"
        },
        {
            "cell_type": "markdown",
            "id": "ce81e1ea-3ce0-4639-bf93-de9a64396f7d",
            "metadata": {},
            "source": "<!--Empty Space for separating topics-->\n"
        },
        {
            "cell_type": "markdown",
            "id": "9374a1aa-df1d-487a-97ed-6a79a3b38c6f",
            "metadata": {},
            "source": "Now, let us try converting the tensor to a numpy array and convert the numpy array back to a tensor.\n"
        },
        {
            "cell_type": "code",
            "execution_count": 4,
            "id": "47b94883-97bb-45f1-8d6c-dbd58004904e",
            "metadata": {},
            "outputs": [
                {
                    "name": "stdout",
                    "output_type": "stream",
                    "text": "Tensor -> Numpy Array:\nThe numpy array after converting:  [[11 12 13]\n [21 22 23]\n [31 32 33]]\nType after converting:  int64\n================================================\nNumpy Array -> Tensor:\nThe tensor after converting: tensor([[11, 12, 13],\n        [21, 22, 23],\n        [31, 32, 33]])\nType after converting:  torch.int64\n"
                }
            ],
            "source": "# Convert tensor to numpy array; Convert numpy array to tensor\n\ntwoD_numpy = twoD_tensor.numpy()\nprint(\"Tensor -> Numpy Array:\")\nprint(\"The numpy array after converting: \", twoD_numpy)\nprint(\"Type after converting: \", twoD_numpy.dtype)\n\nprint(\"================================================\")\n\nnew_twoD_tensor = torch.from_numpy(twoD_numpy)\nprint(\"Numpy Array -> Tensor:\")\nprint(\"The tensor after converting:\", new_twoD_tensor)\nprint(\"Type after converting: \", new_twoD_tensor.dtype)"
        },
        {
            "cell_type": "markdown",
            "id": "b3314bc2-19f1-4096-88b7-4611967c83b1",
            "metadata": {},
            "source": "The result shows the tensor has successfully been converted to a numpy array and then converted back to a tensor.\n"
        },
        {
            "cell_type": "markdown",
            "id": "291b9332-4d66-452b-925f-ff5de9183dd9",
            "metadata": {},
            "source": "<!--Empty Space for separating topics-->\n"
        },
        {
            "cell_type": "markdown",
            "id": "b843aee6-7ad6-430d-b54f-88f43349fffe",
            "metadata": {},
            "source": "Now let us try to convert a Pandas Dataframe to a tensor. The process is the  Same as the 1D conversion, we can obtain the numpy array via the attribute <code>values</code>. Then, we can use <code>torch.from_numpy()</code> to convert the value of the Pandas Series to a tensor.\n"
        },
        {
            "cell_type": "code",
            "execution_count": 5,
            "id": "fbeea62d-220e-419d-a618-098372d41983",
            "metadata": {},
            "outputs": [
                {
                    "name": "stdout",
                    "output_type": "stream",
                    "text": "Pandas Dataframe to numpy:  [[ 11  12]\n [ 21  22]\n [ 31 312]]\nType BEFORE converting:  int64\n================================================\nTensor AFTER converting:  tensor([[ 11,  12],\n        [ 21,  22],\n        [ 31, 312]])\nType AFTER converting:  torch.int64\n"
                }
            ],
            "source": "# Try to convert the Panda Dataframe to tensor\n\ndf = pd.DataFrame({'a':[11,21,31],'b':[12,22,312]})\n\nprint(\"Pandas Dataframe to numpy: \", df.values)\nprint(\"Type BEFORE converting: \", df.values.dtype)\n\nprint(\"================================================\")\n\nnew_tensor = torch.from_numpy(df.values)\nprint(\"Tensor AFTER converting: \", new_tensor)\nprint(\"Type AFTER converting: \", new_tensor.dtype)"
        },
        {
            "cell_type": "markdown",
            "id": "924b9d3c-e902-4901-898b-bcbfe7c18ad1",
            "metadata": {},
            "source": "<!--Empty Space for separating topics-->\n"
        },
        {
            "cell_type": "markdown",
            "id": "8f3e8c95-b6f0-4070-9c30-59a62750e920",
            "metadata": {},
            "source": "<!--Empty Space for separating topics-->\n"
        },
        {
            "cell_type": "markdown",
            "id": "3e5ba6b8-c072-4467-ba81-11210d84fb0a",
            "metadata": {},
            "source": "<h3>Practice</h3>\n"
        },
        {
            "cell_type": "markdown",
            "id": "aec5ade3-e6ef-451c-8de7-fd7fb336172e",
            "metadata": {},
            "source": "Try to convert the following Pandas Dataframe  to a tensor\n"
        },
        {
            "cell_type": "code",
            "execution_count": 6,
            "id": "753d93e0-3f71-4a9a-be2b-5070a85325a2",
            "metadata": {},
            "outputs": [
                {
                    "name": "stdout",
                    "output_type": "stream",
                    "text": "Tensor AFTER converting:  tensor([[11,  3],\n        [33,  3],\n        [22,  2]])\n"
                }
            ],
            "source": "# Practice: try to convert Pandas Series to tensor\n\ndf = pd.DataFrame({'A':[11, 33, 22],'B':[3, 3, 2]})\ndf2tensor = torch.from_numpy(df.values)\nprint(\"Tensor AFTER converting: \", df2tensor)"
        },
        {
            "cell_type": "markdown",
            "id": "fb4290a9-d87b-42dc-86e2-990b81fb5110",
            "metadata": {},
            "source": "Double-click <b>here</b> for the solution.\n\n<!--\nconverted_tensor = torch.tensor(df.values)\nprint (\"Tensor: \", converted_tensor)\n-->\n"
        },
        {
            "cell_type": "markdown",
            "id": "e9913ea2-e8c6-421d-a89f-696c7a7a4586",
            "metadata": {},
            "source": "<h2 id=\"Index_Slice\">Indexing and Slicing</h2>\n"
        },
        {
            "cell_type": "markdown",
            "id": "4935dbaf-bfa1-4e24-a592-266ad7d9fe5d",
            "metadata": {},
            "source": "You can use rectangular brackets to access the different elements of the tensor. The correspondence between the rectangular brackets and the list and the rectangular representation is shown in the following figure for a 3X3 tensor:  \n"
        },
        {
            "cell_type": "markdown",
            "id": "4f5bb36b-b6f3-45e6-a498-9586fe795e87",
            "metadata": {},
            "source": "<img src=\"https://s3-api.us-geo.objectstorage.softlayer.net/cf-courses-data/CognitiveClass/DL0110EN/notebook_images%20/chapter%201/1.2index1.png\" width=\"500\" alt=\"Matrix Structure Introduce\">\n"
        },
        {
            "cell_type": "markdown",
            "id": "64b1f09d-2cbe-41ef-9a36-90ac6b501c27",
            "metadata": {},
            "source": "You can access the 2nd-row 3rd-column as shown in the following figure:\n"
        },
        {
            "cell_type": "markdown",
            "id": "48e12c0c-c0df-40ab-a16c-da9d27482af4",
            "metadata": {},
            "source": "<img src=\"https://s3-api.us-geo.objectstorage.softlayer.net/cf-courses-data/CognitiveClass/DL0110EN/notebook_images%20/chapter%201/1.2index.png\" width=\"500\" alt=\"Example of Matrix Index\">\n"
        },
        {
            "cell_type": "markdown",
            "id": "9060ad6f-d2c1-40d9-912a-5ede39731cd7",
            "metadata": {},
            "source": "You simply use the square brackets and the indices corresponding to the element that you want.\n"
        },
        {
            "cell_type": "markdown",
            "id": "0c898c35-cbc0-4d73-a55d-529c945ac662",
            "metadata": {},
            "source": "Now, let us try to access the value on position 2nd-row 3rd-column. Remember that the index is always 1 less than how we count rows and columns. There are two ways to access the certain value of a tensor. The example in code will be the same as the example picture above.\n"
        },
        {
            "cell_type": "code",
            "execution_count": 7,
            "id": "ca19faff-4ac6-4f2b-a1ed-c14fc53928ef",
            "metadata": {},
            "outputs": [
                {
                    "name": "stdout",
                    "output_type": "stream",
                    "text": "What is the value on 2nd-row 3rd-column?  tensor(23)\nWhat is the value on 2nd-row 3rd-column?  tensor(23)\n"
                }
            ],
            "source": "# Use tensor_obj[row, column] and tensor_obj[row][column] to access certain position\n\ntensor_example = torch.tensor([[11, 12, 13], [21, 22, 23], [31, 32, 33]])\nprint(\"What is the value on 2nd-row 3rd-column? \", tensor_example[1, 2])\nprint(\"What is the value on 2nd-row 3rd-column? \", tensor_example[1][2])"
        },
        {
            "cell_type": "markdown",
            "id": "cd84e4fe-2d47-4069-8e9d-d41e47779d51",
            "metadata": {},
            "source": "As we can see, both methods return the true value (the same value as the picture above). Therefore, both of the methods work.\n"
        },
        {
            "cell_type": "markdown",
            "id": "d4c51635-e567-4d9c-8b8e-27075515e321",
            "metadata": {},
            "source": "<!--Empty Space for separating topics-->\n"
        },
        {
            "cell_type": "markdown",
            "id": "47a9d223-9f67-417b-bb32-0dadc92947d5",
            "metadata": {},
            "source": "Consider the elements shown in the following figure: \n"
        },
        {
            "cell_type": "markdown",
            "id": "e4eadfcb-fc6a-48be-974e-a6f2b397348b",
            "metadata": {},
            "source": "<img src=\"https://s3-api.us-geo.objectstorage.softlayer.net/cf-courses-data/CognitiveClass/DL0110EN/notebook_images%20/chapter%201/1.2_index2.png\" width=\"500\" alt=\"Example of Matrix Index\">\n"
        },
        {
            "cell_type": "markdown",
            "id": "b293c06e-5ddc-4609-bc5a-0b5306758919",
            "metadata": {},
            "source": "Use the method above, we can access the 1st-row 1st-column by <code>tensor_example[0][0]</code>\n"
        },
        {
            "cell_type": "code",
            "execution_count": 8,
            "id": "7dc36d4a-7683-49df-ba82-6a4954b9a1d0",
            "metadata": {},
            "outputs": [
                {
                    "data": {
                        "text/plain": "tensor(11)"
                    },
                    "execution_count": 8,
                    "metadata": {},
                    "output_type": "execute_result"
                }
            ],
            "source": "tensor_example[0][0]"
        },
        {
            "cell_type": "markdown",
            "id": "6b899004-822e-44b8-a5dd-e1519185bf23",
            "metadata": {},
            "source": "But what if we want to get the value on both 1st-row 1st-column and 1st-row 2nd-column?\n"
        },
        {
            "cell_type": "markdown",
            "id": "50a887b9-39c5-4acc-9852-15810d3247d7",
            "metadata": {},
            "source": "You can also use slicing in a tensor. Consider the following figure. You want to obtain the 1st two columns in the 1st row:  \n"
        },
        {
            "cell_type": "markdown",
            "id": "09fd60fd-4866-4115-8ac4-1ff80e175cfb",
            "metadata": {},
            "source": "<img src=\"https://s3-api.us-geo.objectstorage.softlayer.net/cf-courses-data/CognitiveClass/DL0110EN/notebook_images%20/chapter%201/1.2sliceing.png\" width=\"500\" alt=\"Example of Matrix Index and Slicing\">\n"
        },
        {
            "cell_type": "markdown",
            "id": "b16aaaa3-e4ea-4798-beff-d4e3c9531cca",
            "metadata": {},
            "source": "## Let us see how  we use slicing with 2D tensors to get the values in the above picture.\n"
        },
        {
            "cell_type": "code",
            "execution_count": 9,
            "id": "fd895c6c-bcb3-4891-b6c0-6616b4318699",
            "metadata": {},
            "outputs": [
                {
                    "name": "stdout",
                    "output_type": "stream",
                    "text": "What is the value on 1st-row first two columns?  tensor([11, 12])\nWhat is the value on 1st-row first two columns?  tensor([11, 12])\n"
                }
            ],
            "source": "# Use tensor_obj[begin_row_number: end_row_number, begin_column_number: end_column number] \n# and tensor_obj[row][begin_column_number: end_column number] to do the slicing\n\ntensor_example = torch.tensor([[11, 12, 13], [21, 22, 23], [31, 32, 33]])\nprint(\"What is the value on 1st-row first two columns? \", tensor_example[0, 0:2])\nprint(\"What is the value on 1st-row first two columns? \", tensor_example[0][0:2])"
        },
        {
            "cell_type": "markdown",
            "id": "c5a649ea-724f-4bc2-afc8-eb08168612fc",
            "metadata": {},
            "source": "We get the result as <code>tensor([11, 12])</code> successfully.\n"
        },
        {
            "cell_type": "markdown",
            "id": "16671d3f-e066-43c1-afca-8d8efbcfd63c",
            "metadata": {},
            "source": "<!--Empty Space for separating topics-->\n"
        },
        {
            "cell_type": "markdown",
            "id": "7f4b3955-1fca-4e67-be8b-be1f06170c7b",
            "metadata": {},
            "source": "But we <b>can't</b> combine using slicing on row and pick one column by using the code <code>tensor_obj[begin_row_number: end_row_number][begin_column_number: end_column number]</code>. The reason is that the slicing will be applied on the tensor first. The result type will be a two dimension again. The second bracket will no longer represent the index of the column it will be the index of the row at that time. Let us see an example. \n"
        },
        {
            "cell_type": "code",
            "execution_count": 10,
            "id": "39b90761-fc95-4005-894b-ce20fd7fa38b",
            "metadata": {},
            "outputs": [
                {
                    "name": "stdout",
                    "output_type": "stream",
                    "text": "1. Slicing step on tensor_example: \nResult after tensor_example[1:3]:  tensor([[21, 22, 23],\n        [31, 32, 33]])\nDimension after tensor_example[1:3]:  2\n================================================\n2. Pick an index on sliced_tensor_example: \nResult after sliced_tensor_example[1]:  tensor([31, 32, 33])\nDimension after sliced_tensor_example[1]:  1\n================================================\n3. Combine these step together:\nResult:  tensor([31, 32, 33])\nDimension:  1\n"
                }
            ],
            "source": "# Give an idea on tensor_obj[number: number][number]\n\ntensor_example = torch.tensor([[11, 12, 13], [21, 22, 23], [31, 32, 33]])\nsliced_tensor_example = tensor_example[1:3]\nprint(\"1. Slicing step on tensor_example: \")\nprint(\"Result after tensor_example[1:3]: \", sliced_tensor_example)\nprint(\"Dimension after tensor_example[1:3]: \", sliced_tensor_example.ndimension())\nprint(\"================================================\")\nprint(\"2. Pick an index on sliced_tensor_example: \")\nprint(\"Result after sliced_tensor_example[1]: \", sliced_tensor_example[1])\nprint(\"Dimension after sliced_tensor_example[1]: \", sliced_tensor_example[1].ndimension())\nprint(\"================================================\")\nprint(\"3. Combine these step together:\")\nprint(\"Result: \", tensor_example[1:3][1])\nprint(\"Dimension: \", tensor_example[1:3][1].ndimension())"
        },
        {
            "cell_type": "markdown",
            "id": "6120bfff-3141-4607-b93b-1073dbcbb2eb",
            "metadata": {},
            "source": "See the results and dimensions in 2 and 3 are the same. Both of them contains the 3rd row in the <code>tensor_example</code>, but not the last two values in the 3rd column.\n"
        },
        {
            "cell_type": "markdown",
            "id": "6f11c9b1-1a84-4486-85ed-32103e3d3124",
            "metadata": {},
            "source": "<!--Empty Space for separating topics-->\n"
        },
        {
            "cell_type": "markdown",
            "id": "ebcee3e5-9a1b-46d5-9c1a-562b9c4907e0",
            "metadata": {},
            "source": "So how can we get the elements in the 3rd column with the last two rows? As the below picture.\n"
        },
        {
            "cell_type": "markdown",
            "id": "5d8b85ed-9f00-4e13-8fa3-966e57e84d59",
            "metadata": {},
            "source": "<img src=\"https://s3-api.us-geo.objectstorage.softlayer.net/cf-courses-data/CognitiveClass/DL0110EN/notebook_images%20/chapter%201/1.2slicing2.png\" width=\"500\" alt=\"Example of Matrix Index and Slicing\">\n"
        },
        {
            "cell_type": "markdown",
            "id": "3ea3430c-9d8f-49ac-bce1-8f412da24890",
            "metadata": {},
            "source": "Let's see the code below.\n"
        },
        {
            "cell_type": "code",
            "execution_count": 11,
            "id": "a511180a-6e97-419b-8eb3-55ab4e4b4ddc",
            "metadata": {},
            "outputs": [
                {
                    "name": "stdout",
                    "output_type": "stream",
                    "text": "What is the value on 3rd-column last two rows?  tensor([23, 33])\n"
                }
            ],
            "source": "# Use tensor_obj[begin_row_number: end_row_number, begin_column_number: end_column number] \n\ntensor_example = torch.tensor([[11, 12, 13], [21, 22, 23], [31, 32, 33]])\nprint(\"What is the value on 3rd-column last two rows? \", tensor_example[1:3, 2])"
        },
        {
            "cell_type": "markdown",
            "id": "3d6db9b3-d5a4-4352-8657-cb844fc8348e",
            "metadata": {},
            "source": "Fortunately, the code <code>tensor_obj[begin_row_number: end_row_number, begin_column_number: end_column number]</code> is still works.\n"
        },
        {
            "cell_type": "markdown",
            "id": "271f8714-93dc-4686-b356-6b1b7cd4c47e",
            "metadata": {},
            "source": "<!--Empty Space for separating topics-->\n"
        },
        {
            "cell_type": "markdown",
            "id": "d3a5e599-4ee8-485c-9b21-75ab7e8222e4",
            "metadata": {},
            "source": "<h3>Practice</h3>\n"
        },
        {
            "cell_type": "markdown",
            "id": "7da52e57-f9d5-4bbc-9386-b585f61810b4",
            "metadata": {},
            "source": "Try to change the values on the second column and the last two rows to 0. Basically, change the values on <code>tensor_ques[1][1]</code> and <code>tensor_ques[2][1]</code> to 0.\n"
        },
        {
            "cell_type": "code",
            "execution_count": 12,
            "id": "b7cd6187-1c0e-4834-95f5-a76b34bee9fc",
            "metadata": {},
            "outputs": [
                {
                    "name": "stdout",
                    "output_type": "stream",
                    "text": "Before change: tensor([[11, 12, 13],\n        [21, 22, 23],\n        [31, 32, 33]])\nAfter change: tensor([[11, 12, 13],\n        [21,  0, 23],\n        [31,  0, 33]])\n"
                }
            ],
            "source": "# Practice: Use slice and index to change the values on the matrix tensor_ques.\n\ntensor_ques = torch.tensor([[11, 12, 13], [21, 22, 23], [31, 32, 33]])\nprint('Before change:', tensor_ques)\ntensor_ques[1:3,1] = 0\nprint('After change:', tensor_ques)\n"
        },
        {
            "cell_type": "markdown",
            "id": "c02d5fc2-bbf0-4b4b-ad59-918f8680a59d",
            "metadata": {},
            "source": "Double-click <b>here</b> for the solution.\n\n<!--\ntensor_ques[1:3, 1] = 0\nprint(\"The result: \", tensor_ques)\n-->\n"
        },
        {
            "cell_type": "markdown",
            "id": "257986c2-24f0-4c10-bc5a-0f573f471e5e",
            "metadata": {},
            "source": "<!--Empty Space for separating topics-->\n"
        },
        {
            "cell_type": "markdown",
            "id": "f6fac049-c850-4e7c-86bf-d44725f8365c",
            "metadata": {},
            "source": "<h2 id=\"Tensor_Op\">Tensor Operations</h2> \n"
        },
        {
            "cell_type": "markdown",
            "id": "52e35f37-2b9e-46a6-9e44-22fd127a9103",
            "metadata": {},
            "source": "We can also do some calculations on 2D tensors.\n"
        },
        {
            "cell_type": "markdown",
            "id": "63472d9b-9950-47b5-8c4c-9dfd4395c109",
            "metadata": {},
            "source": "<!--Empty Space for separating topics-->\n"
        },
        {
            "cell_type": "markdown",
            "id": "4e7fb0ad-0294-4e6c-8c74-31aa583037ed",
            "metadata": {},
            "source": "<h3>Tensor Addition</h3>\n"
        },
        {
            "cell_type": "markdown",
            "id": "6e1b28df-eec7-444f-a924-65b6e4a947a6",
            "metadata": {},
            "source": "You can also add tensors; the process is identical to matrix addition. Matrix addition of <b>X</b> and <b>Y</b> is shown in the following figure:\n"
        },
        {
            "cell_type": "markdown",
            "id": "9f0f7b5e-c1fa-4b6b-999e-d45e3fbbfcb6",
            "metadata": {},
            "source": "<img src=\"https://s3-api.us-geo.objectstorage.softlayer.net/cf-courses-data/CognitiveClass/DL0110EN/notebook_images%20/chapter%201/1.2add.png\" width=\"500\" alt=\"Tensor Addition in 2D\">\n"
        },
        {
            "cell_type": "markdown",
            "id": "e56b3ffc-cb63-4dfa-89f6-1f12abcd012e",
            "metadata": {},
            "source": "Let us see how tensor addition works with <code>X</code> and <code>Y</code>.\n"
        },
        {
            "cell_type": "code",
            "execution_count": 13,
            "id": "4ba907d5-a81e-43fd-bc93-8c1643a0c29a",
            "metadata": {},
            "outputs": [
                {
                    "name": "stdout",
                    "output_type": "stream",
                    "text": "The result of X + Y:  tensor([[3, 1],\n        [1, 3]])\n"
                }
            ],
            "source": "# Calculate [[1, 0], [0, 1]] + [[2, 1], [1, 2]]\n\nX = torch.tensor([[1, 0],[0, 1]]) \nY = torch.tensor([[2, 1],[1, 2]])\nX_plus_Y = X + Y\nprint(\"The result of X + Y: \", X_plus_Y)"
        },
        {
            "cell_type": "markdown",
            "id": "7fdbbef3-3cc4-4ed1-9e2a-429e662512b2",
            "metadata": {},
            "source": "Like the result shown in the picture above. The result is <code>[[3, 1], [1, 3]]</code>\n"
        },
        {
            "cell_type": "markdown",
            "id": "e1ae84b6-1bd5-4e65-a4b7-fff3f6ccfabb",
            "metadata": {},
            "source": "<!--Empty Space for separating topics-->\n"
        },
        {
            "cell_type": "markdown",
            "id": "529e2b21-77a8-40e3-af37-95ca5c9244a7",
            "metadata": {},
            "source": "<h3> Scalar Multiplication </h3>\n"
        },
        {
            "cell_type": "markdown",
            "id": "1047320c-2b11-495e-846e-5aec394c6bb1",
            "metadata": {},
            "source": "Multiplying a tensor by a scalar is identical to multiplying a matrix by a scaler. If you multiply the matrix <b>Y</b> by the scalar 2, you simply multiply every element in the matrix by 2 as shown in the figure:\n"
        },
        {
            "cell_type": "markdown",
            "id": "e617bee7-d017-484d-ad20-274432acd39d",
            "metadata": {},
            "source": "<img src=\"https://s3-api.us-geo.objectstorage.softlayer.net/cf-courses-data/CognitiveClass/DL0110EN/notebook_images%20/chapter%201/1.2scaller_mult.png\" width=\"500\" alt=\"The product of tensor and scalar\">\n"
        },
        {
            "cell_type": "markdown",
            "id": "d8f29647-596f-432d-8af9-84c9ba3f2aae",
            "metadata": {},
            "source": "Let us try to calculate the product of <b>2Y</b>.\n"
        },
        {
            "cell_type": "code",
            "execution_count": 14,
            "id": "c8588c7e-2cb9-4cae-9e94-2f083ff1dc4a",
            "metadata": {},
            "outputs": [
                {
                    "name": "stdout",
                    "output_type": "stream",
                    "text": "The result of 2Y:  tensor([[4, 2],\n        [2, 4]])\n"
                }
            ],
            "source": "# Calculate 2 * [[2, 1], [1, 2]]\n\nY = torch.tensor([[2, 1], [1, 2]]) \ntwo_Y = 2 * Y\nprint(\"The result of 2Y: \", two_Y)"
        },
        {
            "cell_type": "markdown",
            "id": "883b4a89-5c17-469d-945b-a1c65a06af7f",
            "metadata": {},
            "source": "<!--Empty Space for separating topics-->\n"
        },
        {
            "cell_type": "markdown",
            "id": "4ef844fa-c021-43dd-a232-82607d3d7007",
            "metadata": {},
            "source": "<h3>Element-wise Product/Hadamard Product</h3>\n"
        },
        {
            "cell_type": "markdown",
            "id": "26c9f4d5-f48d-41ec-9c27-eb3f16e6db78",
            "metadata": {},
            "source": "Multiplication of two tensors corresponds to an element-wise product or Hadamard product.  Consider matrix the <b>X</b> and <b>Y</b> with the same size. The Hadamard product corresponds to multiplying each of the elements at the same position, that is, multiplying elements with the same color together. The result is a new matrix that is the same size as matrix <b>X</b> and <b>Y</b> as shown in the following figure:\n"
        },
        {
            "cell_type": "markdown",
            "id": "02096562-90ff-4d7b-a330-0e4cbe8fac42",
            "metadata": {},
            "source": " <a><img src=\"https://s3-api.us-geo.objectstorage.softlayer.net/cf-courses-data/CognitiveClass/DL0110EN/notebook_images%20/chapter%201/1.2tensor_pruduct.png\" width=\"500\" align=\"center\"> </a>\n"
        },
        {
            "cell_type": "markdown",
            "id": "8a4f126d-f88c-45ca-ab4d-f946284d7e82",
            "metadata": {},
            "source": "The code below calculates the element-wise product of the tensor <strong>X</strong> and <strong>Y</strong>:\n"
        },
        {
            "cell_type": "code",
            "execution_count": 15,
            "id": "4b6d16f5-1da3-4553-8da4-43f1ce46bcc8",
            "metadata": {},
            "outputs": [
                {
                    "name": "stdout",
                    "output_type": "stream",
                    "text": "The result of X * Y:  tensor([[2, 0],\n        [0, 2]])\n"
                }
            ],
            "source": "# Calculate [[1, 0], [0, 1]] * [[2, 1], [1, 2]]\n\nX = torch.tensor([[1, 0], [0, 1]])\nY = torch.tensor([[2, 1], [1, 2]]) \nX_times_Y = X * Y\nprint(\"The result of X * Y: \", X_times_Y)"
        },
        {
            "cell_type": "markdown",
            "id": "cd011fe4-6897-4d69-9eae-a50587a3eea2",
            "metadata": {},
            "source": "This is a simple calculation. The result from the code matches the result shown in the picture.\n"
        },
        {
            "cell_type": "markdown",
            "id": "4205ac5d-0abf-4e70-8e18-b847cabd40b3",
            "metadata": {},
            "source": "<!--Empty Space for separating topics-->\n"
        },
        {
            "cell_type": "markdown",
            "id": "bc2cc0bc-3c59-4da5-af37-f58b95faf400",
            "metadata": {},
            "source": "<h3>Matrix Multiplication </h3>\n"
        },
        {
            "cell_type": "markdown",
            "id": "70c7a51a-0a08-407c-b973-3abc5a43ca05",
            "metadata": {},
            "source": "We can also apply matrix multiplication to two tensors, if you have learned linear algebra, you should know that in the multiplication of two matrices order matters. This means if <i>X * Y</i> is valid, it does not mean <i>Y * X</i> is valid. The number of columns of the matrix on the left side of the multiplication sign must equal to the number of rows of the matrix on the right side.\n"
        },
        {
            "cell_type": "markdown",
            "id": "7cbaf48f-2388-4860-9e6f-df145005f304",
            "metadata": {},
            "source": "First, let us create a tensor <code>X</code> with size 2X3. Then, let us create another tensor <code>Y</code> with size 3X2. Since the number of columns of <code>X</code> is equal to the number of rows of <code>Y</code>. We are able to perform the multiplication.\n"
        },
        {
            "cell_type": "markdown",
            "id": "59a1e8cc-2717-438d-8c5c-60f66bb3d6a6",
            "metadata": {},
            "source": "We use <code>torch.mm()</code> for calculating the multiplication between tensors with different sizes.\n"
        },
        {
            "cell_type": "code",
            "execution_count": 16,
            "id": "3fc5ad35-82e1-4c44-b65d-f6ef17dee7d7",
            "metadata": {},
            "outputs": [
                {
                    "name": "stdout",
                    "output_type": "stream",
                    "text": "The result of A * B:  tensor([[0, 2],\n        [0, 2]])\n"
                }
            ],
            "source": "# Calculate [[0, 1, 1], [1, 0, 1]] * [[1, 1], [1, 1], [-1, 1]]\n\nA = torch.tensor([[0, 1, 1], [1, 0, 1]])\nB = torch.tensor([[1, 1], [1, 1], [-1, 1]])\nA_times_B = torch.mm(A,B)\nprint(\"The result of A * B: \", A_times_B)"
        },
        {
            "cell_type": "markdown",
            "id": "626b64d4-74e6-4903-b931-f3f4b0bbf2fe",
            "metadata": {},
            "source": "<!--Empty Space for separating topics-->\n"
        },
        {
            "cell_type": "markdown",
            "id": "e8d8648d-d8d6-4f10-80ea-28138028b4d3",
            "metadata": {},
            "source": "<h3>Practice</h3>\n"
        },
        {
            "cell_type": "markdown",
            "id": "14b25efd-5ac9-441f-af34-7bcaf829f044",
            "metadata": {},
            "source": "Try to create your own two tensors (<code>X</code> and <code>Y</code>) with different sizes, and multiply them.\n"
        },
        {
            "cell_type": "code",
            "execution_count": null,
            "id": "b48ab9d2-2837-4150-855e-ecf785a425cd",
            "metadata": {},
            "outputs": [],
            "source": "# Practice: Calculate the product of two tensors (X and Y) with different sizes \n\n# Type your code here"
        },
        {
            "cell_type": "markdown",
            "id": "0f42ec13-ca79-429f-983f-a571680ffb8e",
            "metadata": {},
            "source": "Double-click <b>here</b> for the solution.\n\n<!--\nX = torch.tensor([[0, 1], [1, 2]])\nY = torch.tensor([[-1, -2, 0], [2, 1, 2]])\nX_times_Y = torch.mm(X, Y)\nprint(\"The result of X * Y: \", X_times_Y)\n-->\n"
        },
        {
            "cell_type": "markdown",
            "id": "e67234ad-362e-41c5-b187-d107a176c14e",
            "metadata": {},
            "source": "<a href=\"https://dataplatform.cloud.ibm.com/registration/stepone?utm_medium=Exinfluencer&utm_source=Exinfluencer&utm_content=000026UJ&utm_term=10006555&utm_id=NA-SkillsNetwork-Channel-SkillsNetworkCoursesIBMDeveloperSkillsNetworkDL0110ENSkillsNetwork952-2022-01-01&context=cpdaas&apps=data_science_experience%2Cwatson_machine_learning\"><img src=\"https://cf-courses-data.s3.us.cloud-object-storage.appdomain.cloud/IBMDeveloperSkillsNetwork-DL0110EN-SkillsNetwork/Template/module%201/images/Watson_Studio.png\"></a>\n"
        },
        {
            "cell_type": "markdown",
            "id": "70974073-e206-402b-87a6-2ed60db5b638",
            "metadata": {},
            "source": "<!--Empty Space for separating topics-->\n"
        },
        {
            "cell_type": "markdown",
            "id": "784061a2-80de-405c-899b-12908a37ac4d",
            "metadata": {},
            "source": "<h2>About the Authors:</h2> \n\n<a href=\"https://www.linkedin.com/in/joseph-s-50398b136/?utm_medium=Exinfluencer&utm_source=Exinfluencer&utm_content=000026UJ&utm_term=10006555&utm_id=NA-SkillsNetwork-Channel-SkillsNetworkCoursesIBMDeveloperSkillsNetworkDL0110ENSkillsNetwork952-2022-01-01\">Joseph Santarcangelo</a> has a PhD in Electrical Engineering, his research focused on using machine learning, signal processing, and computer vision to determine how videos impact human cognition. Joseph has been working for IBM since he completed his PhD.\n"
        },
        {
            "cell_type": "markdown",
            "id": "2215de10-2764-4a76-9351-15bb65ce222a",
            "metadata": {},
            "source": "Other contributors: <a href=\"https://www.linkedin.com/in/michelleccarey/?utm_medium=Exinfluencer&utm_source=Exinfluencer&utm_content=000026UJ&utm_term=10006555&utm_id=NA-SkillsNetwork-Channel-SkillsNetworkCoursesIBMDeveloperSkillsNetworkDL0110ENSkillsNetwork952-2022-01-01\">Michelle Carey</a>, <a href=\"www.linkedin.com/in/jiahui-mavis-zhou-a4537814a\">Mavis Zhou</a> \n"
        },
        {
            "cell_type": "markdown",
            "id": "0015f216-e92a-4789-8849-2e5bfa93e6fc",
            "metadata": {},
            "source": "\n## Change Log\n\n|  Date (YYYY-MM-DD) |  Version | Changed By  |  Change Description |\n|---|---|---|---|\n| 2020-09-21  | 2.0  | Shubham  |  Migrated Lab to Markdown and added to course repo in GitLab |\n\n"
        },
        {
            "cell_type": "markdown",
            "id": "7929e9f2-db6c-45a8-92f3-ea323841b91a",
            "metadata": {},
            "source": "<hr>\n"
        },
        {
            "cell_type": "markdown",
            "id": "b7b321f0-b502-46c7-8cb9-0761f0a363ed",
            "metadata": {},
            "source": "## <h3 align=\"center\"> \u00a9 IBM Corporation 2020. All rights reserved. <h3/>\n"
        }
    ],
    "metadata": {
        "kernelspec": {
            "display_name": "Python 3.10",
            "language": "python",
            "name": "python3"
        },
        "language_info": {
            "codemirror_mode": {
                "name": "ipython",
                "version": 3
            },
            "file_extension": ".py",
            "mimetype": "text/x-python",
            "name": "python",
            "nbconvert_exporter": "python",
            "pygments_lexer": "ipython3",
            "version": "3.10.13"
        }
    },
    "nbformat": 4,
    "nbformat_minor": 4
}