{
    "cells": [
        {
            "cell_type": "markdown",
            "id": "de4e4f79-5c74-4fcd-ba8a-95aaef52fa2b",
            "metadata": {},
            "source": "<p style=\"text-align:center\">\n    <a href=\"https://skills.network/?utm_medium=Exinfluencer&utm_source=Exinfluencer&utm_content=000026UJ&utm_term=10006555&utm_id=NA-SkillsNetwork-Channel-SkillsNetworkCoursesIBMDeveloperSkillsNetworkDL0110ENSkillsNetwork952-2022-01-01\" target=\"_blank\">\n    <img src=\"https://cf-courses-data.s3.us.cloud-object-storage.appdomain.cloud/assets/logos/SN_web_lightmode.png\" width=\"200\" alt=\"Skills Network Logo\"  />\n    </a>\n</p>\n"
        },
        {
            "cell_type": "markdown",
            "id": "332c115a-11c4-4913-9bb8-beabcf9773a3",
            "metadata": {},
            "source": "<h1>Linear Regression 1D: Prediction</h1>\n"
        },
        {
            "cell_type": "markdown",
            "id": "654f6c80-0b50-4b11-b9ee-955db565e3f6",
            "metadata": {},
            "source": "<h2>Objective</h2><ul><li> How to make the prediction for multiple inputs.</li><li> How to use linear class to build more complex models.</li><li> How to build a custom module.</li></ul> \n"
        },
        {
            "cell_type": "markdown",
            "id": "c90b2649-0dda-4811-9dd3-74c5fd9dc881",
            "metadata": {},
            "source": "<h2>Table of Contents</h2>\n<p>In this lab, we will  review how to make a prediction in several different ways by using PyTorch.</h2>\n<ul>\n    <li><a href=\"#Prediction\">Prediction</a></li>\n    <li><a href=\"#Linear\">Class Linear</a></li>\n    <li><a href=\"#Cust\">Build Custom Modules</a></li>\n</ul>\n<p>Estimated Time Needed: <strong>15 min</strong></p>\n\n<hr>\n"
        },
        {
            "cell_type": "markdown",
            "id": "248d9762-5f11-4a18-a18c-4abfb5137493",
            "metadata": {},
            "source": "<h2>Preparation</h2>\n"
        },
        {
            "cell_type": "markdown",
            "id": "20bd4bd5-efe0-4ced-86b1-449581f9b6b3",
            "metadata": {},
            "source": "The following are the libraries we are going to use for this lab.\n"
        },
        {
            "cell_type": "code",
            "execution_count": 1,
            "id": "4c2243a2-dd95-4787-b8d2-546c7b57f169",
            "metadata": {},
            "outputs": [],
            "source": "# These are the libraries will be used for this lab.\n\nimport torch"
        },
        {
            "cell_type": "markdown",
            "id": "85b7e34e-5ea6-47d7-b1a3-d7bef4bf4fba",
            "metadata": {},
            "source": "<!--Empty Space for separating topics-->\n"
        },
        {
            "cell_type": "markdown",
            "id": "083a62e3-2e15-4654-8b8d-9d825d6a553f",
            "metadata": {},
            "source": "<h2 id=\"Prediction\">Prediction</h2>\n"
        },
        {
            "cell_type": "markdown",
            "id": "7ee734d6-5b29-418d-bfc8-c00ef50b0658",
            "metadata": {},
            "source": "Let us create the following expressions:\n"
        },
        {
            "cell_type": "markdown",
            "id": "f8513cbb-2cfc-422c-9332-37c6cb72da4b",
            "metadata": {},
            "source": "$b=-1,w=2$\n\n$\\hat{y}=-1+2x$\n"
        },
        {
            "cell_type": "markdown",
            "id": "487f23a0-121d-4e64-87eb-d92a0e24712e",
            "metadata": {},
            "source": "First, define the parameters:\n"
        },
        {
            "cell_type": "code",
            "execution_count": 2,
            "id": "b72ae75b-5900-4213-a4e1-f17ba9a25e50",
            "metadata": {},
            "outputs": [],
            "source": "# Define w = 2 and b = -1 for y = wx + b\n\nw = torch.tensor(2.0, requires_grad = True)\nb = torch.tensor(-1.0, requires_grad = True)"
        },
        {
            "cell_type": "markdown",
            "id": "eb443bd2-3f02-42ac-8739-99aaa848fcff",
            "metadata": {},
            "source": "Then, define the function <code>forward(x, w, b)</code> makes the prediction: \n"
        },
        {
            "cell_type": "code",
            "execution_count": 3,
            "id": "4ba83527-8bf4-42e0-a6b8-3965c3526384",
            "metadata": {},
            "outputs": [],
            "source": "# Function forward(x) for prediction\n\ndef forward(x):\n    yhat = w * x + b\n    return yhat"
        },
        {
            "cell_type": "markdown",
            "id": "96a01071-6a0c-47a2-8003-94744b5394df",
            "metadata": {},
            "source": "Let's make the following prediction at <i>x = 1</i>\n"
        },
        {
            "cell_type": "markdown",
            "id": "78f1d865-24e4-4e6a-b8fa-b462cc3de3eb",
            "metadata": {},
            "source": "$\\hat{y}=-1+2x$\n\n$\\hat{y}=-1+2(1)$\n"
        },
        {
            "cell_type": "code",
            "execution_count": 4,
            "id": "ed8a164e-f0f6-421a-938f-1a50e4235812",
            "metadata": {},
            "outputs": [
                {
                    "name": "stdout",
                    "output_type": "stream",
                    "text": "The prediction:  tensor([[1.]], grad_fn=<AddBackward0>)\n"
                }
            ],
            "source": "# Predict y = 2x - 1 at x = 1\n\nx = torch.tensor([[1.0]])\nyhat = forward(x)\nprint(\"The prediction: \", yhat)"
        },
        {
            "cell_type": "markdown",
            "id": "9309f20b-8752-4462-9277-d1831090728c",
            "metadata": {},
            "source": "<!--Empty Space for separating topics-->\n"
        },
        {
            "cell_type": "markdown",
            "id": "8c8d6bc6-8887-4f41-b84f-bb54d85c913e",
            "metadata": {},
            "source": "Now, let us try to make the prediction for multiple inputs:\n"
        },
        {
            "cell_type": "markdown",
            "id": "80d5466c-6681-4d23-b48e-3f8977f35640",
            "metadata": {},
            "source": "<img src=\"https://s3-api.us-geo.objectstorage.softlayer.net/cf-courses-data/CognitiveClass/DL0110EN/notebook_images%20/chapter2/2.1.2.png\" width=\"500\" alt=\"Linear Regression Multiple Input Samples\">\n"
        },
        {
            "cell_type": "markdown",
            "id": "7d4d94b1-1491-4fdd-85ef-6d673cb0996c",
            "metadata": {},
            "source": "Let us construct the <code>x</code> tensor first. Check the shape of <code>x</code>.\n"
        },
        {
            "cell_type": "code",
            "execution_count": 5,
            "id": "a1e12d81-f682-467a-8df6-2e7f49271f1c",
            "metadata": {},
            "outputs": [
                {
                    "name": "stdout",
                    "output_type": "stream",
                    "text": "The shape of x:  torch.Size([2, 1])\n"
                }
            ],
            "source": "# Create x Tensor and check the shape of x tensor\n\nx = torch.tensor([[1.0], [2.0]])\nprint(\"The shape of x: \", x.shape)"
        },
        {
            "cell_type": "markdown",
            "id": "791177ac-d56c-46d9-b3c2-4b0c9ba38f41",
            "metadata": {},
            "source": "Now make the prediction: \n"
        },
        {
            "cell_type": "code",
            "execution_count": 6,
            "id": "77083b4c-8dc3-40d1-a718-1401eec37467",
            "metadata": {},
            "outputs": [
                {
                    "name": "stdout",
                    "output_type": "stream",
                    "text": "The prediction:  tensor([[1.],\n        [3.]], grad_fn=<AddBackward0>)\n"
                }
            ],
            "source": "# Make the prediction of y = 2x - 1 at x = [1, 2]\n\nyhat = forward(x)\nprint(\"The prediction: \", yhat)"
        },
        {
            "cell_type": "markdown",
            "id": "2285e633-f556-4d70-bdea-2ebb21985b7d",
            "metadata": {},
            "source": "The result is the same as what it is in the image above.\n"
        },
        {
            "cell_type": "markdown",
            "id": "440bfede-a3f7-43bc-9368-438e56e76c94",
            "metadata": {},
            "source": "<!--Empty Space for separating topics-->\n"
        },
        {
            "cell_type": "markdown",
            "id": "0301f20c-9012-46a2-99eb-a4d5414125f2",
            "metadata": {},
            "source": "<h3>Practice</h3>\n"
        },
        {
            "cell_type": "markdown",
            "id": "eb11ed1e-240a-4b8e-aaaf-cdb6b069c69e",
            "metadata": {},
            "source": "Make a prediction of the following <code>x</code> tensor using the <code>w</code> and <code>b</code> from above.\n"
        },
        {
            "cell_type": "code",
            "execution_count": 7,
            "id": "9cefc60f-4b1a-45d9-9bb6-6b564a074f3f",
            "metadata": {},
            "outputs": [
                {
                    "name": "stdout",
                    "output_type": "stream",
                    "text": "The prediction:  tensor([[1.],\n        [3.],\n        [5.]], grad_fn=<AddBackward0>)\n"
                }
            ],
            "source": "# Practice: Make a prediction of y = 2x - 1 at x = [[1.0], [2.0], [3.0]]\n\nx = torch.tensor([[1.0], [2.0], [3.0]])\nprint(\"The prediction: \", forward(x))"
        },
        {
            "cell_type": "markdown",
            "id": "9e56f9e9-ecc3-486e-9fb1-08a4a1b46b24",
            "metadata": {},
            "source": "Double-click <b>here</b> for the solution.\n\n<!-- Your answer is below:\nyhat = forward(x)\nprint(\"The prediction: \", yhat)\n-->\n"
        },
        {
            "cell_type": "markdown",
            "id": "df89e2da-1b7b-41a4-8d97-345c416537ec",
            "metadata": {},
            "source": "<!--Empty Space for separating topics-->\n"
        },
        {
            "cell_type": "markdown",
            "id": "f0d9c295-a96f-457d-a689-242641e571a1",
            "metadata": {},
            "source": "<h2 id=\"Linear\">Class Linear</h2>\n"
        },
        {
            "cell_type": "markdown",
            "id": "bc1f3099-5481-441f-8b35-b2f6b11647bc",
            "metadata": {},
            "source": "The linear class can be used to make a prediction. We can also use the linear class to build more complex models. Let's import the module:\n"
        },
        {
            "cell_type": "code",
            "execution_count": 8,
            "id": "7af58173-a1d7-4182-b0d5-5e03e691b449",
            "metadata": {},
            "outputs": [],
            "source": "# Import Class Linear\n\nfrom torch.nn import Linear"
        },
        {
            "cell_type": "markdown",
            "id": "5079ce70-8b7d-429c-ae31-ea935c422115",
            "metadata": {},
            "source": "Set the random seed because the parameters are randomly initialized:\n"
        },
        {
            "cell_type": "code",
            "execution_count": 9,
            "id": "445a7b1d-6e02-4f96-8369-a02b78591bd5",
            "metadata": {},
            "outputs": [
                {
                    "data": {
                        "text/plain": "<torch._C.Generator at 0x7f914527b110>"
                    },
                    "execution_count": 9,
                    "metadata": {},
                    "output_type": "execute_result"
                }
            ],
            "source": "# Set random seed\n\ntorch.manual_seed(1)"
        },
        {
            "cell_type": "markdown",
            "id": "d8cb7e63-242e-480e-85b8-14fd6f6091f0",
            "metadata": {},
            "source": "<!--Empty Space for separating topics-->\n"
        },
        {
            "cell_type": "markdown",
            "id": "61a1c98b-4bfd-4ce0-8796-1c70f33f8e83",
            "metadata": {},
            "source": "Let us create the linear object by using the constructor. The parameters are randomly created. Let us print out to see what <i>w</i> and <i>b</i>. The parameters of an <code>torch.nn.Module</code> model are contained in the model\u2019s parameters accessed with <code>lr.parameters()</code>:\n"
        },
        {
            "cell_type": "code",
            "execution_count": 10,
            "id": "07294c76-860e-4d38-819d-4c91c638db5a",
            "metadata": {},
            "outputs": [
                {
                    "name": "stdout",
                    "output_type": "stream",
                    "text": "Parameters w and b:  [Parameter containing:\ntensor([[0.5153]], requires_grad=True), Parameter containing:\ntensor([-0.4414], requires_grad=True)]\n"
                }
            ],
            "source": "# Create Linear Regression Model, and print out the parameters\n\nlr = Linear(in_features=1, out_features=1, bias=True)\nprint(\"Parameters w and b: \", list(lr.parameters()))\n"
        },
        {
            "cell_type": "markdown",
            "id": "9a32c96d-2b5b-4580-9b12-088df636ca6c",
            "metadata": {},
            "source": "This is equivalent to the following expression:  \n"
        },
        {
            "cell_type": "markdown",
            "id": "d1d22890-7e96-4df8-94e7-a7c58d07b474",
            "metadata": {},
            "source": "$b=-0.44, w=0.5153$\n\n$\\hat{y}=-0.44+0.5153x$\n"
        },
        {
            "cell_type": "markdown",
            "id": "8ed41cb0-6f84-4048-82a5-5d591211da2c",
            "metadata": {},
            "source": "A method  <code>state_dict()</code> Returns a Python dictionary object corresponding to the layers of each parameter  tensor. \n"
        },
        {
            "cell_type": "code",
            "execution_count": 11,
            "id": "3a2f0211-4181-4f2b-8692-16c44dd91ee3",
            "metadata": {},
            "outputs": [
                {
                    "name": "stdout",
                    "output_type": "stream",
                    "text": "Python dictionary:  OrderedDict([('weight', tensor([[0.5153]])), ('bias', tensor([-0.4414]))])\nkeys:  odict_keys(['weight', 'bias'])\nvalues:  odict_values([tensor([[0.5153]]), tensor([-0.4414])])\n"
                }
            ],
            "source": "print(\"Python dictionary: \",lr.state_dict())\nprint(\"keys: \",lr.state_dict().keys())\nprint(\"values: \",lr.state_dict().values())"
        },
        {
            "cell_type": "markdown",
            "id": "2ff093ef-2d53-4cb9-a526-8fea0335bd67",
            "metadata": {},
            "source": "The keys correspond to the name of the attributes and the values correspond to the parameter value.\n"
        },
        {
            "cell_type": "code",
            "execution_count": 12,
            "id": "0c9292d3-86ac-4bd4-9ac3-140b3b46b453",
            "metadata": {},
            "outputs": [
                {
                    "name": "stdout",
                    "output_type": "stream",
                    "text": "weight: Parameter containing:\ntensor([[0.5153]], requires_grad=True)\nbias: Parameter containing:\ntensor([-0.4414], requires_grad=True)\n"
                }
            ],
            "source": "print(\"weight:\",lr.weight)\nprint(\"bias:\",lr.bias)"
        },
        {
            "cell_type": "markdown",
            "id": "0f14b0dc-baf4-4ef4-ab75-e82a5a4c1f5a",
            "metadata": {},
            "source": "Now let us make a single prediction at <i>x = [[1.0]]</i>.\n"
        },
        {
            "cell_type": "code",
            "execution_count": 13,
            "id": "f8dc5691-01f1-4c5a-94f8-2d3ab3f3182d",
            "metadata": {},
            "outputs": [
                {
                    "name": "stdout",
                    "output_type": "stream",
                    "text": "The prediction:  tensor([[0.0739]], grad_fn=<AddmmBackward0>)\n"
                }
            ],
            "source": "# Make the prediction at x = [[1.0]]\n\nx = torch.tensor([[1.0]])\nyhat = lr(x)\nprint(\"The prediction: \", yhat)"
        },
        {
            "cell_type": "markdown",
            "id": "3abc2479-070b-4e6f-92e6-51bc9f742f9b",
            "metadata": {},
            "source": "<!--Empty Space for separating topics-->\n"
        },
        {
            "cell_type": "markdown",
            "id": "131c9a14-9e83-4a7b-82e6-7cb02bb06d98",
            "metadata": {},
            "source": "Similarly, you can make multiple predictions:\n"
        },
        {
            "cell_type": "markdown",
            "id": "d1877165-4b3a-42bc-9f99-afa9e6948d48",
            "metadata": {},
            "source": "<img src=\"https://s3-api.us-geo.objectstorage.softlayer.net/cf-courses-data/CognitiveClass/DL0110EN/notebook_images%20/chapter2/2.1.2vector_function.png\" width=\"500\" alt=\"Linear Class Sample with Multiple Inputs\">\n"
        },
        {
            "cell_type": "markdown",
            "id": "d7f4312e-677b-4e1c-b354-eea7cb211455",
            "metadata": {},
            "source": "Use model <code>lr(x)</code> to predict the result.\n"
        },
        {
            "cell_type": "code",
            "execution_count": 14,
            "id": "9605034d-a00e-4555-a2dd-138d01e240e4",
            "metadata": {},
            "outputs": [
                {
                    "name": "stdout",
                    "output_type": "stream",
                    "text": "The prediction:  tensor([[0.0739],\n        [0.5891]], grad_fn=<AddmmBackward0>)\n"
                }
            ],
            "source": "# Create the prediction using linear model\n\nx = torch.tensor([[1.0], [2.0]])\nyhat = lr(x)\nprint(\"The prediction: \", yhat)"
        },
        {
            "cell_type": "markdown",
            "id": "0b5d6473-8405-4838-a0e4-cf5b61cea74f",
            "metadata": {},
            "source": "<!--Empty Space for separating topics-->\n"
        },
        {
            "cell_type": "markdown",
            "id": "24371143-9fb0-491a-b447-a4aed5a584f3",
            "metadata": {},
            "source": "<h3>Practice</h3>\n"
        },
        {
            "cell_type": "markdown",
            "id": "9697e67d-eb2a-4eaa-91c1-8098e2ae50ca",
            "metadata": {},
            "source": "Make a prediction of the following <code>x</code> tensor using the linear regression model <code>lr</code>.\n"
        },
        {
            "cell_type": "code",
            "execution_count": 15,
            "id": "df3c62c0-9d5f-411d-ad59-d47a7cb32a8c",
            "metadata": {},
            "outputs": [
                {
                    "name": "stdout",
                    "output_type": "stream",
                    "text": "The prediction:  tensor([[0.0739],\n        [0.5891],\n        [1.1044]], grad_fn=<AddmmBackward0>)\n"
                }
            ],
            "source": "# Practice: Use the linear regression model object lr to make the prediction.\n\nx = torch.tensor([[1.0],[2.0],[3.0]])\nprint(\"The prediction: \", lr(x))"
        },
        {
            "cell_type": "markdown",
            "id": "7ed8f273-fb18-472c-87be-0530262967cc",
            "metadata": {},
            "source": "Double-click <b>here</b> for the solution.\n\n<!-- Your answer is below:\nx=torch.tensor([[1.0],[2.0],[3.0]])\nyhat = lr(x)\nprint(\"The prediction: \", yhat)\n-->\n"
        },
        {
            "cell_type": "markdown",
            "id": "aa8c6e0f-a236-490f-8111-0c390b1f7d26",
            "metadata": {},
            "source": "<!--Empty Space for separating topics-->\n"
        },
        {
            "cell_type": "markdown",
            "id": "12d7885a-0a24-47b3-9acf-7c6853255775",
            "metadata": {},
            "source": "<h2 id=\"Cust\">Build Custom Modules</h2>\n"
        },
        {
            "cell_type": "markdown",
            "id": "2f3197d3-97ae-4c59-99b5-365e92624e6f",
            "metadata": {},
            "source": "Now, let's build a custom module. We can make more complex models by using this method later on. \n"
        },
        {
            "cell_type": "markdown",
            "id": "c464917d-04d0-4b4a-bb05-61dd0b62f850",
            "metadata": {},
            "source": "First, import the following library.\n"
        },
        {
            "cell_type": "code",
            "execution_count": 16,
            "id": "b9c392fb-9277-43de-b474-19c06bc14492",
            "metadata": {},
            "outputs": [],
            "source": "# Library for this section\n\nfrom torch import nn"
        },
        {
            "cell_type": "markdown",
            "id": "a8fb659b-71cd-4f3b-b80d-a2ee99cbdc75",
            "metadata": {},
            "source": "Now, let us define the class: \n"
        },
        {
            "cell_type": "code",
            "execution_count": 18,
            "id": "2a7c8b41-09c2-4f8b-96a7-00f38266cd3a",
            "metadata": {},
            "outputs": [],
            "source": "# Customize Linear Regression Class\n\nclass LR(nn.Module):\n    \n    # Constructor\n    def __init__(self, input_size, output_size):\n        \n        # Inherit from parent\n        super(LR, self).__init__()\n        self.linear = nn.Linear(input_size, output_size)\n    \n    # Prediction function\n    def forward(self, x):\n        out = self.linear(x)\n        return out"
        },
        {
            "cell_type": "markdown",
            "id": "6b3b991e-7903-48d4-8f4b-47a563fa7ad9",
            "metadata": {},
            "source": "Create an object by using the constructor. Print out the parameters we get and the model.\n"
        },
        {
            "cell_type": "code",
            "execution_count": 19,
            "id": "ffe48a22-89f9-4cdc-9ac1-5c97cdbb1978",
            "metadata": {},
            "outputs": [
                {
                    "name": "stdout",
                    "output_type": "stream",
                    "text": "The parameters:  [Parameter containing:\ntensor([[-0.1939]], requires_grad=True), Parameter containing:\ntensor([0.4694], requires_grad=True)]\nLinear model:  Linear(in_features=1, out_features=1, bias=True)\n"
                }
            ],
            "source": "# Create the linear regression model. Print out the parameters.\n\nlr = LR(1, 1)\nprint(\"The parameters: \", list(lr.parameters()))\nprint(\"Linear model: \", lr.linear)"
        },
        {
            "cell_type": "markdown",
            "id": "a6c8f96b-278c-4715-91fb-4d4c210823f5",
            "metadata": {},
            "source": "<!--Empty Space for separating topics-->\n"
        },
        {
            "cell_type": "markdown",
            "id": "16eeacb6-8d01-4d3a-882b-b85b1feb22b0",
            "metadata": {},
            "source": "Let us try to make a prediction of a single input sample.\n"
        },
        {
            "cell_type": "code",
            "execution_count": 20,
            "id": "733b85c7-958a-4626-b616-dc5fb2b90325",
            "metadata": {},
            "outputs": [
                {
                    "name": "stdout",
                    "output_type": "stream",
                    "text": "The prediction:  tensor([[0.2755]], grad_fn=<AddmmBackward0>)\n"
                }
            ],
            "source": "# Try our customize linear regression model with single input\n\nx = torch.tensor([[1.0]])\nyhat = lr(x)\nprint(\"The prediction: \", yhat)"
        },
        {
            "cell_type": "markdown",
            "id": "3d5ff976-e5a7-4457-a840-d8dad8f492ac",
            "metadata": {},
            "source": "<!--Empty Space for separating topics-->\n"
        },
        {
            "cell_type": "markdown",
            "id": "52bddee2-1bb3-475c-807e-195e013a65f8",
            "metadata": {},
            "source": "Now, let us try another example with multiple samples.\n"
        },
        {
            "cell_type": "code",
            "execution_count": 21,
            "id": "651b8fdc-8d26-418c-aa73-c19b3ce427e3",
            "metadata": {},
            "outputs": [
                {
                    "name": "stdout",
                    "output_type": "stream",
                    "text": "The prediction:  tensor([[0.2755],\n        [0.0816]], grad_fn=<AddmmBackward0>)\n"
                }
            ],
            "source": "# Try our customize linear regression model with multiple input\n\nx = torch.tensor([[1.0], [2.0]])\nyhat = lr(x)\nprint(\"The prediction: \", yhat)"
        },
        {
            "cell_type": "markdown",
            "id": "cd227cf2-9760-4370-8139-e91351d23b90",
            "metadata": {},
            "source": "the parameters are also stored in an ordered dictionary :\n"
        },
        {
            "cell_type": "code",
            "execution_count": 22,
            "id": "cabfccba-ce3b-44f4-975a-9b283b3a02ff",
            "metadata": {},
            "outputs": [
                {
                    "name": "stdout",
                    "output_type": "stream",
                    "text": "Python dictionary:  OrderedDict([('linear.weight', tensor([[-0.1939]])), ('linear.bias', tensor([0.4694]))])\nkeys:  odict_keys(['linear.weight', 'linear.bias'])\nvalues:  odict_values([tensor([[-0.1939]]), tensor([0.4694])])\n"
                }
            ],
            "source": "print(\"Python dictionary: \", lr.state_dict())\nprint(\"keys: \",lr.state_dict().keys())\nprint(\"values: \",lr.state_dict().values())\n"
        },
        {
            "cell_type": "markdown",
            "id": "9933f280-c46e-4ab4-8e95-35c63a4cbdf5",
            "metadata": {},
            "source": "<!--Empty Space for separating topics-->\n"
        },
        {
            "cell_type": "markdown",
            "id": "b563e5bf-485b-41cd-a2f8-109b4afebc7e",
            "metadata": {},
            "source": "<h3>Practice</h3>\n"
        },
        {
            "cell_type": "markdown",
            "id": "120c50f5-126f-4cd9-9ccf-34f74bb2102c",
            "metadata": {},
            "source": "Create an object <code>lr1</code> from the class we created before and make a prediction by using the following tensor: \n"
        },
        {
            "cell_type": "code",
            "execution_count": 23,
            "id": "c09f523b-cfc5-454e-accf-bfb7647cf117",
            "metadata": {},
            "outputs": [
                {
                    "name": "stdout",
                    "output_type": "stream",
                    "text": "The prediction of lr1:  tensor([[-0.3417],\n        [-1.2832],\n        [-2.2246]], grad_fn=<AddmmBackward0>)\n"
                }
            ],
            "source": "# Practice: Use the LR class to create a model and make a prediction of the following tensor.\n\nx = torch.tensor([[1.0], [2.0], [3.0]])\nlr1 = LR(1,1)\nprint(\"The prediction of lr1: \", lr1(x))"
        },
        {
            "cell_type": "markdown",
            "id": "62ff1a68-66c4-4481-8fbe-7425bbfde9d5",
            "metadata": {},
            "source": "Double-click <b>here</b> for the solution.\n\n<!-- Your answer is below:\nx=torch.tensor([[1.0],[2.0],[3.0]])\nlr1=LR(1,1)\nyhat=lr(x)\nyhat\n-->\n"
        },
        {
            "cell_type": "markdown",
            "id": "ea92fa6f-a434-4ef5-9986-251f87b440ee",
            "metadata": {},
            "source": " <!-- Your answer is below:\nx=torch.tensor([[1.0],[2.0],[3.0]])\nlr1=LR(1,1)\nyhat=lr1(x)\nyhat\n-->\n"
        },
        {
            "cell_type": "markdown",
            "id": "4e47a0f1-2591-454c-9312-4a82ae3a6d7e",
            "metadata": {},
            "source": "<a href=\"https://dataplatform.cloud.ibm.com/registration/stepone?utm_medium=Exinfluencer&utm_source=Exinfluencer&utm_content=000026UJ&utm_term=10006555&utm_id=NA-SkillsNetwork-Channel-SkillsNetworkCoursesIBMDeveloperSkillsNetworkDL0110ENSkillsNetwork952-2022-01-01&context=cpdaas&apps=data_science_experience%2Cwatson_machine_learning\"><img src=\"https://cf-courses-data.s3.us.cloud-object-storage.appdomain.cloud/IBMDeveloperSkillsNetwork-DL0110EN-SkillsNetwork/Template/module%201/images/Watson_Studio.png\"></a>\n"
        },
        {
            "cell_type": "markdown",
            "id": "469d6f5b-81b0-41ea-913b-3beccef017da",
            "metadata": {},
            "source": "<h2>About the Authors:</h2> \n\n<a href=\"https://www.linkedin.com/in/joseph-s-50398b136/?utm_medium=Exinfluencer&utm_source=Exinfluencer&utm_content=000026UJ&utm_term=10006555&utm_id=NA-SkillsNetwork-Channel-SkillsNetworkCoursesIBMDeveloperSkillsNetworkDL0110ENSkillsNetwork952-2022-01-01\">Joseph Santarcangelo</a> has a PhD in Electrical Engineering, his research focused on using machine learning, signal processing, and computer vision to determine how videos impact human cognition. Joseph has been working for IBM since he completed his PhD.\n"
        },
        {
            "cell_type": "markdown",
            "id": "5bced5b3-a84f-4923-8e8a-5b148b262248",
            "metadata": {},
            "source": "Other contributors: <a href=\"https://www.linkedin.com/in/michelleccarey/?utm_medium=Exinfluencer&utm_source=Exinfluencer&utm_content=000026UJ&utm_term=10006555&utm_id=NA-SkillsNetwork-Channel-SkillsNetworkCoursesIBMDeveloperSkillsNetworkDL0110ENSkillsNetwork952-2022-01-01\">Michelle Carey</a>, <a href=\"www.linkedin.com/in/jiahui-mavis-zhou-a4537814a\">Mavis Zhou</a> \n"
        },
        {
            "cell_type": "markdown",
            "id": "cd096fe7-b93b-4854-b362-1848ccb4843e",
            "metadata": {},
            "source": "\n## Change Log\n\n|  Date (YYYY-MM-DD) |  Version | Changed By  |  Change Description |\n|---|---|---|---|\n| 2020-09-21  | 2.0  | Shubham  |  Migrated Lab to Markdown and added to course repo in GitLab |\n\n"
        },
        {
            "cell_type": "markdown",
            "id": "267fb9d4-9da0-4fbc-b10f-1465131683a5",
            "metadata": {},
            "source": "<hr>\n"
        },
        {
            "cell_type": "markdown",
            "id": "ee050902-31ae-4211-8a58-bc086bfa069a",
            "metadata": {},
            "source": "## <h3 align=\"center\"> \u00a9 IBM Corporation 2020. All rights reserved. <h3/>\n"
        }
    ],
    "metadata": {
        "kernelspec": {
            "display_name": "Python 3.10",
            "language": "python",
            "name": "python3"
        },
        "language_info": {
            "codemirror_mode": {
                "name": "ipython",
                "version": 3
            },
            "file_extension": ".py",
            "mimetype": "text/x-python",
            "name": "python",
            "nbconvert_exporter": "python",
            "pygments_lexer": "ipython3",
            "version": "3.10.13"
        }
    },
    "nbformat": 4,
    "nbformat_minor": 4
}