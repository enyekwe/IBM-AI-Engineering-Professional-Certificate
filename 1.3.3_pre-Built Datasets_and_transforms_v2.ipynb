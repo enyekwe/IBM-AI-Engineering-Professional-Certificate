{
    "cells": [
        {
            "cell_type": "markdown",
            "id": "7469c3bb-2a9b-45c8-bf33-522cedaa5bfc",
            "metadata": {},
            "source": "<p style=\"text-align:center\">\n    <a href=\"https://skills.network/?utm_medium=Exinfluencer&utm_source=Exinfluencer&utm_content=000026UJ&utm_term=10006555&utm_id=NA-SkillsNetwork-Channel-SkillsNetworkCoursesIBMDeveloperSkillsNetworkDL0110ENSkillsNetwork952-2022-01-01\" target=\"_blank\">\n    <img src=\"https://cf-courses-data.s3.us.cloud-object-storage.appdomain.cloud/assets/logos/SN_web_lightmode.png\" width=\"200\" alt=\"Skills Network Logo\"  />\n    </a>\n</p>\n"
        },
        {
            "cell_type": "markdown",
            "id": "5a79b21a-7340-46b7-bd15-3b5ee0872845",
            "metadata": {},
            "source": "<h1>Prebuilt Datasets and Transforms</h1> \n"
        },
        {
            "cell_type": "markdown",
            "id": "0e274b31-5186-405e-8275-631be9c4f299",
            "metadata": {},
            "source": "<h2>Objective</h2><ul><li> How to use MNIST prebuilt dataset in pytorch.</li></ul> \n"
        },
        {
            "cell_type": "markdown",
            "id": "643ce20c-cc75-44ab-99a6-8bcfdb5ee35e",
            "metadata": {},
            "source": "<h2>Table of Contents</h2>\n<p>In this lab, you will use a prebuilt dataset and then use some prebuilt dataset transforms.</p>\n<ul>\n    <li><a href=\"#Prebuilt_Dataset\">Prebuilt Datasets</a></li>\n    <li><a href=\"#Torchvision\">Torchvision Transforms</a></li>\n</ul>\n<p>Estimated Time Needed: <strong>10 min</strong></p>\n\n<hr>\n"
        },
        {
            "cell_type": "markdown",
            "id": "0f17d842-a015-4db8-83fe-7eaced42c999",
            "metadata": {},
            "source": "<h2>Preparation</h2>\n"
        },
        {
            "cell_type": "markdown",
            "id": "883d5f82-0ed3-497a-aa7d-2515289d6c15",
            "metadata": {},
            "source": "The following are the libraries we are going to use for this lab. The <code>torch.manual_seed()</code> is for forcing the random function to give the same number every time we try to recompile it.\n"
        },
        {
            "cell_type": "code",
            "execution_count": 1,
            "id": "9d5c6c4d-2e36-416d-933e-5e46f7c4f277",
            "metadata": {},
            "outputs": [
                {
                    "name": "stdout",
                    "output_type": "stream",
                    "text": "\u001b[31mERROR: Ignored the following yanked versions: 0.1.6, 0.1.7, 0.1.8, 0.1.9, 0.2.0, 0.2.1, 0.2.2, 0.2.2.post2, 0.2.2.post3, 0.15.0\u001b[0m\u001b[31m\r\n\u001b[0m\u001b[31mERROR: Could not find a version that satisfies the requirement torchvision==0.9.1 (from versions: 0.12.0, 0.13.0, 0.13.1, 0.14.0, 0.14.1, 0.15.1, 0.15.2, 0.16.0, 0.16.1)\u001b[0m\u001b[31m\r\n\u001b[0m\u001b[31mERROR: No matching distribution found for torchvision==0.9.1\u001b[0m\u001b[31m\r\n\u001b[0m"
                },
                {
                    "data": {
                        "text/plain": "<torch._C.Generator at 0x7f87786972b0>"
                    },
                    "execution_count": 1,
                    "metadata": {},
                    "output_type": "execute_result"
                }
            ],
            "source": "# These are the libraries will be used for this lab.\n\n!pip install torchvision==0.9.1 torch==1.8.1 \nimport torch \nimport matplotlib.pylab as plt\nimport numpy as np\ntorch.manual_seed(0)"
        },
        {
            "cell_type": "markdown",
            "id": "fc7a5686-064c-4f47-a7c8-3f10a00a78f1",
            "metadata": {},
            "source": "This is the function for displaying images.\n"
        },
        {
            "cell_type": "code",
            "execution_count": 2,
            "id": "9f593f50-2f12-440e-a894-c6ae3a94144d",
            "metadata": {},
            "outputs": [],
            "source": "# Show data by diagram\n\ndef show_data(data_sample, shape = (28, 28)):\n    plt.imshow(data_sample[0].numpy().reshape(shape), cmap='gray')\n    plt.title('y = ' + str(data_sample[1]))"
        },
        {
            "cell_type": "markdown",
            "id": "fbd25ed4-26ab-4561-ba8d-b412246cc700",
            "metadata": {},
            "source": "<!--Empty Space for separating topics-->\n"
        },
        {
            "cell_type": "markdown",
            "id": "8c58042e-6767-4952-8405-04af69e2fac4",
            "metadata": {},
            "source": "<h2 id=\"Prebuilt_Dataset\">Prebuilt Datasets</h2> \n"
        },
        {
            "cell_type": "markdown",
            "id": "7de048bb-b80b-45f8-bc5a-a730708afa2d",
            "metadata": {},
            "source": "You will focus on the following libraries: \n"
        },
        {
            "cell_type": "code",
            "execution_count": 3,
            "id": "53cf3d0d-8c21-44ef-badc-4fec166e48fe",
            "metadata": {},
            "outputs": [],
            "source": "# Run the command below when you do not have torchvision installed\n# !mamba install -y torchvision\n\nimport torchvision.transforms as transforms\nimport torchvision.datasets as dsets"
        },
        {
            "cell_type": "markdown",
            "id": "941af806-70c0-43bf-ae98-4232ac69d2b3",
            "metadata": {},
            "source": "We can import a prebuilt dataset. In this case, use MNIST. You'll work with several of these parameters later by placing a transform object in the argument <code>transform</code>.\n"
        },
        {
            "cell_type": "code",
            "execution_count": 5,
            "id": "07dc6e4d-3a9c-41c9-b40c-cbbd9b823be2",
            "metadata": {},
            "outputs": [
                {
                    "name": "stdout",
                    "output_type": "stream",
                    "text": "Downloading http://yann.lecun.com/exdb/mnist/train-images-idx3-ubyte.gz\nDownloading http://yann.lecun.com/exdb/mnist/train-images-idx3-ubyte.gz to ./data/MNIST/raw/train-images-idx3-ubyte.gz\n"
                },
                {
                    "name": "stderr",
                    "output_type": "stream",
                    "text": "100%|\u2588\u2588\u2588\u2588\u2588\u2588\u2588\u2588\u2588\u2588| 9912422/9912422 [00:00<00:00, 198013522.53it/s]\n"
                },
                {
                    "name": "stdout",
                    "output_type": "stream",
                    "text": "Extracting ./data/MNIST/raw/train-images-idx3-ubyte.gz to ./data/MNIST/raw\n\nDownloading http://yann.lecun.com/exdb/mnist/train-labels-idx1-ubyte.gz\nDownloading http://yann.lecun.com/exdb/mnist/train-labels-idx1-ubyte.gz to ./data/MNIST/raw/train-labels-idx1-ubyte.gz\n"
                },
                {
                    "name": "stderr",
                    "output_type": "stream",
                    "text": "100%|\u2588\u2588\u2588\u2588\u2588\u2588\u2588\u2588\u2588\u2588| 28881/28881 [00:00<00:00, 33435190.13it/s]"
                },
                {
                    "name": "stdout",
                    "output_type": "stream",
                    "text": "Extracting ./data/MNIST/raw/train-labels-idx1-ubyte.gz to ./data/MNIST/raw\n\nDownloading http://yann.lecun.com/exdb/mnist/t10k-images-idx3-ubyte.gz\n"
                },
                {
                    "name": "stderr",
                    "output_type": "stream",
                    "text": "\n"
                },
                {
                    "name": "stdout",
                    "output_type": "stream",
                    "text": "Downloading http://yann.lecun.com/exdb/mnist/t10k-images-idx3-ubyte.gz to ./data/MNIST/raw/t10k-images-idx3-ubyte.gz\n"
                },
                {
                    "name": "stderr",
                    "output_type": "stream",
                    "text": "100%|\u2588\u2588\u2588\u2588\u2588\u2588\u2588\u2588\u2588\u2588| 1648877/1648877 [00:00<00:00, 146108323.75it/s]"
                },
                {
                    "name": "stdout",
                    "output_type": "stream",
                    "text": "Extracting ./data/MNIST/raw/t10k-images-idx3-ubyte.gz to ./data/MNIST/raw\n\nDownloading http://yann.lecun.com/exdb/mnist/t10k-labels-idx1-ubyte.gz\n"
                },
                {
                    "name": "stderr",
                    "output_type": "stream",
                    "text": "\n"
                },
                {
                    "name": "stdout",
                    "output_type": "stream",
                    "text": "Downloading http://yann.lecun.com/exdb/mnist/t10k-labels-idx1-ubyte.gz to ./data/MNIST/raw/t10k-labels-idx1-ubyte.gz\n"
                },
                {
                    "name": "stderr",
                    "output_type": "stream",
                    "text": "100%|\u2588\u2588\u2588\u2588\u2588\u2588\u2588\u2588\u2588\u2588| 4542/4542 [00:00<00:00, 6741163.75it/s]"
                },
                {
                    "name": "stdout",
                    "output_type": "stream",
                    "text": "Extracting ./data/MNIST/raw/t10k-labels-idx1-ubyte.gz to ./data/MNIST/raw\n\n"
                },
                {
                    "name": "stderr",
                    "output_type": "stream",
                    "text": "\n"
                }
            ],
            "source": "# Import the prebuilt dataset into variable dataset\n\n\ndataset = dsets.MNIST(\n    root = './data',  \n    download = True, \n    transform = transforms.ToTensor()\n)"
        },
        {
            "cell_type": "markdown",
            "id": "b15dcf55-a6e9-4ba3-8cf7-56853fecaccd",
            "metadata": {},
            "source": "Each element of the dataset object contains a tuple. Let us see whether the first element in the dataset is a tuple and what is in it.\n"
        },
        {
            "cell_type": "code",
            "execution_count": 6,
            "id": "32d08d8b-6644-421c-82ef-4aec4d482aa9",
            "metadata": {},
            "outputs": [
                {
                    "name": "stdout",
                    "output_type": "stream",
                    "text": "Type of the first element:  <class 'tuple'>\nThe length of the tuple:  2\nThe shape of the first element in the tuple:  torch.Size([1, 28, 28])\nThe type of the first element in the tuple <class 'torch.Tensor'>\nThe second element in the tuple:  5\nThe type of the second element in the tuple:  <class 'int'>\nAs the result, the structure of the first element in the dataset is (tensor([1, 28, 28]), tensor(7)).\n"
                }
            ],
            "source": "# Examine whether the elements in dataset MNIST are tuples, and what is in the tuple?\n\nprint(\"Type of the first element: \", type(dataset[0]))\nprint(\"The length of the tuple: \", len(dataset[0]))\nprint(\"The shape of the first element in the tuple: \", dataset[0][0].shape)\nprint(\"The type of the first element in the tuple\", type(dataset[0][0]))\nprint(\"The second element in the tuple: \", dataset[0][1])\nprint(\"The type of the second element in the tuple: \", type(dataset[0][1]))\nprint(\"As the result, the structure of the first element in the dataset is (tensor([1, 28, 28]), tensor(7)).\")"
        },
        {
            "cell_type": "markdown",
            "id": "05762d24-afe0-485d-8550-ca2aa8bbd9ed",
            "metadata": {},
            "source": "As shown in the output, the first element in the tuple is a cuboid tensor. As you can see, there is a dimension with only size 1, so basically, it is a rectangular tensor.<br>\nThe second element in the tuple is a number tensor, which indicate the real number the image shows. As the second element in the tuple is <code>tensor(7)</code>, the image should show a hand-written 7.\n"
        },
        {
            "cell_type": "markdown",
            "id": "21897087-6141-4ac2-b773-bf7dc8216111",
            "metadata": {},
            "source": "<!--Empty Space for separating topics-->\n"
        },
        {
            "cell_type": "markdown",
            "id": "6b429121-cad2-40c3-82da-485049135385",
            "metadata": {},
            "source": "Let us plot the first element in the dataset:\n"
        },
        {
            "cell_type": "code",
            "execution_count": 7,
            "id": "ff67a0a8-8b2a-43c3-bdfe-f303e1e0e60d",
            "metadata": {},
            "outputs": [
                {
                    "data": {
                        "image/png": "[encoded data removed]",
                        "text/plain": "<Figure size 640x480 with 1 Axes>"
                    },
                    "metadata": {},
                    "output_type": "display_data"
                }
            ],
            "source": "# Plot the first element in the dataset\n\nshow_data(dataset[0])"
        },
        {
            "cell_type": "markdown",
            "id": "fab7377d-31b9-4709-bdc7-00c1dbaacd64",
            "metadata": {},
            "source": "As we can see, it is a 7.\n"
        },
        {
            "cell_type": "markdown",
            "id": "7837cfa6-0c74-4c1b-95f1-f59afd3879c3",
            "metadata": {},
            "source": "Plot the second sample:   \n"
        },
        {
            "cell_type": "code",
            "execution_count": 8,
            "id": "2c5b8d0d-ea63-45b5-907c-de57adc723c3",
            "metadata": {},
            "outputs": [
                {
                    "data": {
                        "image/png": "[encoded data removed]",
                        "text/plain": "<Figure size 640x480 with 1 Axes>"
                    },
                    "metadata": {},
                    "output_type": "display_data"
                }
            ],
            "source": "# Plot the second element in the dataset\n\nshow_data(dataset[1])"
        },
        {
            "cell_type": "markdown",
            "id": "968162a5-5779-40eb-9592-8931f0b3f97e",
            "metadata": {},
            "source": "<!--Empty Space for separating topics-->\n"
        },
        {
            "cell_type": "markdown",
            "id": "47f4c83a-6f20-4618-8a29-f72cec38d060",
            "metadata": {},
            "source": "<h2 id=\"Torchvision\"> Torchvision Transforms  </h2> \n"
        },
        {
            "cell_type": "markdown",
            "id": "7e7adccc-d9af-4c9b-be4b-c01694e53d11",
            "metadata": {},
            "source": "We can apply some image transform functions on the MNIST dataset.\n"
        },
        {
            "cell_type": "markdown",
            "id": "64b678bb-410f-4a16-bb41-f959c1a524ab",
            "metadata": {},
            "source": "As an example, the images in the MNIST dataset can be cropped and converted to a tensor. We can use <code>transform.Compose</code> we learned from the previous lab to combine the two transform functions.\n"
        },
        {
            "cell_type": "code",
            "execution_count": null,
            "id": "ad7e2840-b9e4-4703-9d64-8489bc0b66aa",
            "metadata": {},
            "outputs": [],
            "source": "# Combine two transforms: crop and convert to tensor. Apply the compose to MNIST dataset\n\ncroptensor_data_transform = transforms.Compose([transforms.CenterCrop(20), transforms.ToTensor()])\ndataset = dsets.MNIST(root = './data', download = False, transform = croptensor_data_transform)\nprint(\"The shape of the first element in the first tuple: \", dataset[0][0].shape)"
        },
        {
            "cell_type": "markdown",
            "id": "d75ddd5f-80d7-4e93-b571-75e64880926b",
            "metadata": {},
            "source": "We can see the image is now 20 x 20 instead of 28 x 28.\n"
        },
        {
            "cell_type": "markdown",
            "id": "b0abf96d-1be3-4d0c-908c-4ba876f14797",
            "metadata": {},
            "source": "<!--Empty Space for separating topics-->\n"
        },
        {
            "cell_type": "markdown",
            "id": "dc847087-d0d5-48f4-90f6-a62923a574df",
            "metadata": {},
            "source": "Let us plot the first image again. Notice that the black space around the <b>7</b> become less apparent.\n"
        },
        {
            "cell_type": "code",
            "execution_count": null,
            "id": "d2bafd94-d3ee-4a82-b781-85d14be5f210",
            "metadata": {},
            "outputs": [],
            "source": "# Plot the first element in the dataset\n\nshow_data(dataset[0],shape = (20, 20))"
        },
        {
            "cell_type": "code",
            "execution_count": null,
            "id": "e6b292c1-9e17-462b-8771-c33e466dc095",
            "metadata": {},
            "outputs": [],
            "source": "# Plot the second element in the dataset\n\nshow_data(dataset[1],shape = (20, 20))"
        },
        {
            "cell_type": "markdown",
            "id": "8436538d-f30f-4c2b-be3e-7a35449c7e18",
            "metadata": {},
            "source": "In the below example, we horizontally flip the image, and then convert it to a tensor. Use <code>transforms.Compose()</code> to combine these two transform functions. Plot the flipped image.\n"
        },
        {
            "cell_type": "code",
            "execution_count": null,
            "id": "dc771361-902c-4aa6-98f1-e5c90e3f38ea",
            "metadata": {},
            "outputs": [],
            "source": "# Construct the compose. Apply it on MNIST dataset. Plot the image out.\n\nfliptensor_data_transform = transforms.Compose([transforms.RandomHorizontalFlip(p = 1),transforms.ToTensor()])\ndataset = dsets.MNIST(root = './data', download = True, transform = fliptensor_data_transform)\nshow_data(dataset[1])"
        },
        {
            "cell_type": "markdown",
            "id": "e279406a-7529-41b3-9ed8-b86da5e67f25",
            "metadata": {},
            "source": "<!--Empty Space for separating topics-->\n"
        },
        {
            "cell_type": "markdown",
            "id": "7023a8d6-7faa-4ec6-ae69-5816a6553a48",
            "metadata": {},
            "source": "<h3>Practice</h3>\n"
        },
        {
            "cell_type": "markdown",
            "id": "04f8e002-1893-45b7-afc7-1b2709d602ec",
            "metadata": {},
            "source": "Try to use the <code>RandomVerticalFlip</code> (vertically flip the image) with horizontally flip and convert to tensor as a compose. Apply the compose on image. Use <code>show_data()</code> to plot the second image (the image as <b>2</b>).\n"
        },
        {
            "cell_type": "code",
            "execution_count": null,
            "id": "0f1b1126-c778-45da-9060-f955cdcbfcb1",
            "metadata": {},
            "outputs": [],
            "source": "# Practice: Combine vertical flip, horizontal flip and convert to tensor as a compose. Apply the compose on image. Then plot the image\n\n# Type your code here"
        },
        {
            "cell_type": "markdown",
            "id": "899db29b-51a6-4f63-9704-a50bd582dc73",
            "metadata": {},
            "source": "Double-click **here** for the solution.\n\n<!-- \nmy_data_transform = transforms.Compose([transforms.RandomVerticalFlip(p = 1), transforms.RandomHorizontalFlip(p = 1), transforms.ToTensor()])\ndataset = dsets.MNIST(root = './data', train = False, download = True, transform = my_data_transform)\nshow_data(dataset[1])\n -->\n"
        },
        {
            "cell_type": "markdown",
            "id": "8e319956-7085-48cf-865b-553344a6cdc9",
            "metadata": {},
            "source": "<a href=\"https://dataplatform.cloud.ibm.com/registration/stepone?utm_medium=Exinfluencer&utm_source=Exinfluencer&utm_content=000026UJ&utm_term=10006555&utm_id=NA-SkillsNetwork-Channel-SkillsNetworkCoursesIBMDeveloperSkillsNetworkDL0110ENSkillsNetwork952-2022-01-01&context=cpdaas&apps=data_science_experience%2Cwatson_machine_learning\"><img src=\"https://cf-courses-data.s3.us.cloud-object-storage.appdomain.cloud/IBMDeveloperSkillsNetwork-DL0110EN-SkillsNetwork/Template/module%201/images/Watson_Studio.png\"></a>\n"
        },
        {
            "cell_type": "markdown",
            "id": "bb6fdcea-c23d-4b2a-9a9c-4e8ef6e6d2fd",
            "metadata": {},
            "source": "<!--Empty Space for separating topics-->\n"
        },
        {
            "cell_type": "markdown",
            "id": "89b91c4c-f9c4-434d-82e0-786c3403eb58",
            "metadata": {},
            "source": "<h2>About the Authors:</h2> \n\n<a href=\"https://www.linkedin.com/in/joseph-s-50398b136/?utm_medium=Exinfluencer&utm_source=Exinfluencer&utm_content=000026UJ&utm_term=10006555&utm_id=NA-SkillsNetwork-Channel-SkillsNetworkCoursesIBMDeveloperSkillsNetworkDL0110ENSkillsNetwork952-2022-01-01\">Joseph Santarcangelo</a> has a PhD in Electrical Engineering, his research focused on using machine learning, signal processing, and computer vision to determine how videos impact human cognition. Joseph has been working for IBM since he completed his PhD.\n"
        },
        {
            "cell_type": "markdown",
            "id": "f0b0021f-4904-4ce5-9851-662a56e3aba7",
            "metadata": {},
            "source": "Other contributors: <a href=\"https://www.linkedin.com/in/michelleccarey/?utm_medium=Exinfluencer&utm_source=Exinfluencer&utm_content=000026UJ&utm_term=10006555&utm_id=NA-SkillsNetwork-Channel-SkillsNetworkCoursesIBMDeveloperSkillsNetworkDL0110ENSkillsNetwork952-2022-01-01\">Michelle Carey</a>, <a href=\"www.linkedin.com/in/jiahui-mavis-zhou-a4537814a\">Mavis Zhou</a> \n"
        },
        {
            "cell_type": "markdown",
            "id": "7ded9a10-3e10-42cb-ab0f-d46167bfe5c5",
            "metadata": {},
            "source": "## Change Log\n\n| Date (YYYY-MM-DD) | Version | Changed By | Change Description                                          |\n| ----------------- | ------- | ---------- | ----------------------------------------------------------- |\n| 2020-09-21        | 2.0     | Shubham    | Migrated Lab to Markdown and added to course repo in GitLab |\n"
        },
        {
            "cell_type": "markdown",
            "id": "7a16118c-2065-4f9a-bae7-9210a0760a31",
            "metadata": {},
            "source": "<hr>\n"
        },
        {
            "cell_type": "markdown",
            "id": "6d002c7b-17a3-4775-bf34-cd7372d916cd",
            "metadata": {},
            "source": "## <h3 align=\"center\"> \u00a9 IBM Corporation 2020. All rights reserved. <h3/>\n"
        }
    ],
    "metadata": {
        "kernelspec": {
            "display_name": "Python 3.10",
            "language": "python",
            "name": "python3"
        },
        "language_info": {
            "codemirror_mode": {
                "name": "ipython",
                "version": 3
            },
            "file_extension": ".py",
            "mimetype": "text/x-python",
            "name": "python",
            "nbconvert_exporter": "python",
            "pygments_lexer": "ipython3",
            "version": "3.10.13"
        }
    },
    "nbformat": 4,
    "nbformat_minor": 4
}