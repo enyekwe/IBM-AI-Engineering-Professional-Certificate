{
    "cells": [
        {
            "cell_type": "markdown",
            "id": "ad349966-dbd5-4420-a427-8c9066b50e14",
            "metadata": {},
            "source": "<p style=\"text-align:center\">\n    <a href=\"https://skills.network/?utm_medium=Exinfluencer&utm_source=Exinfluencer&utm_content=000026UJ&utm_term=10006555&utm_id=NA-SkillsNetwork-Channel-SkillsNetworkCoursesIBMDeveloperSkillsNetworkDL0110ENSkillsNetwork952-2022-01-01\" target=\"_blank\">\n    <img src=\"https://cf-courses-data.s3.us.cloud-object-storage.appdomain.cloud/assets/logos/SN_web_lightmode.png\" width=\"200\" alt=\"Skills Network Logo\"  />\n    </a>\n</p>\n"
        },
        {
            "cell_type": "markdown",
            "id": "88c80234-3404-4e73-b1f8-661cb9901696",
            "metadata": {},
            "source": "<h1>Torch Tensors in 1D</h1>\n"
        },
        {
            "cell_type": "markdown",
            "id": "5503015b-73b9-4dcb-a977-c57cacffe76a",
            "metadata": {},
            "source": "<h2>Objective</h2><ul><li> How tensor operations work in pytorch.</li></ul> \n"
        },
        {
            "cell_type": "markdown",
            "id": "ca2d66d2-29bb-4858-8ccf-898528d660bd",
            "metadata": {},
            "source": "<h2>Table of Contents</h2>\n"
        },
        {
            "cell_type": "markdown",
            "id": "addcf2e6-12cd-42b9-a3c3-0b6384b87f19",
            "metadata": {},
            "source": "<p>In this lab, you will learn the basics of tensor operations. Tensors are an essential part of PyTorch; there are complex mathematical objects in and of themselves. Fortunately, most of the intricacies are not necessary. In this section, you will compare them to vectors and numpy arrays.</p>\n<ul>\n    <li><a href=\"#Types_Shape\">Types and Shape</a></li>\n    <li><a href=\"#Index_Slice\">Indexing and Slicing</a></li>\n    <li><a href=\"#Tensor_Func\">Tensor Functions</a></li>\n    <li><a href=\"#Tensor_Op\">Tensor Operations</a></li>\n    <li><a href=\"#Device_Op\">Device_Op Operations</a></li>\n</ul>\n\n<p>Estimated Time Needed: <b>25 min</b></p>\n<hr>\n"
        },
        {
            "cell_type": "markdown",
            "id": "bd677312-c5ca-44b3-aaf8-f307e221c24b",
            "metadata": {},
            "source": "<h2>Preparation</h2>\n"
        },
        {
            "cell_type": "markdown",
            "id": "ba37d16b-5cff-49eb-bc96-630210ffac2d",
            "metadata": {},
            "source": "Import the following libraries that you'll use for this lab:\n"
        },
        {
            "cell_type": "code",
            "execution_count": 1,
            "id": "e0bac3e0-647a-40c6-a0c3-f6eb48441a17",
            "metadata": {},
            "outputs": [],
            "source": "# These are the libraries will be used for this lab.\n\nimport torch \nimport numpy as np \nimport pandas as pd\n\nimport matplotlib.pyplot as plt\n%matplotlib inline  "
        },
        {
            "cell_type": "markdown",
            "id": "b0ce5691-6e67-44bf-a7d1-b165abfa111f",
            "metadata": {},
            "source": "Check PyTorch version:\n"
        },
        {
            "cell_type": "code",
            "execution_count": 2,
            "id": "5a8360c5-1c1b-446e-9797-63d80522d8cf",
            "metadata": {},
            "outputs": [
                {
                    "data": {
                        "text/plain": "'2.0.1'"
                    },
                    "execution_count": 2,
                    "metadata": {},
                    "output_type": "execute_result"
                }
            ],
            "source": "torch.__version__"
        },
        {
            "cell_type": "markdown",
            "id": "09db446a-044d-4b4e-8e4a-3c0f417608c3",
            "metadata": {},
            "source": "This is the function for plotting diagrams. You will use this function to plot the vectors in Coordinate system.\n"
        },
        {
            "cell_type": "code",
            "execution_count": 3,
            "id": "435506f7-ff6e-417b-a305-d137474b323d",
            "metadata": {},
            "outputs": [],
            "source": "# Plot vecotrs, please keep the parameters in the same length\n# @param: Vectors = [{\"vector\": vector variable, \"name\": name of vector, \"color\": color of the vector on diagram}]\n    \ndef plotVec(vectors):\n    ax = plt.axes()\n    \n    # For loop to draw the vectors\n    for vec in vectors:\n        ax.arrow(0, 0, *vec[\"vector\"], head_width = 0.05,color = vec[\"color\"], head_length = 0.1)\n        plt.text(*(vec[\"vector\"] + 0.1), vec[\"name\"])\n    \n    plt.ylim(-2,2)\n    plt.xlim(-2,2)"
        },
        {
            "cell_type": "markdown",
            "id": "b6ffb775-3aa8-43f9-82c3-ed2d739d9e79",
            "metadata": {},
            "source": "<!--Empty Space for separating topics-->\n"
        },
        {
            "cell_type": "markdown",
            "id": "0b0a947c-a1b6-405d-ad22-afc09edc6d5f",
            "metadata": {},
            "source": "<h2 id=\"Types_Shape\">Types and Shape</h2>\n"
        },
        {
            "cell_type": "markdown",
            "id": "156ee2a5-5287-45b7-86cb-8f70ea940cde",
            "metadata": {},
            "source": "You can find the type of the following list of integers <i>[0, 1, 2, 3, 4]</i> by applying the constructor <code>torch.tensor()</code>:\n"
        },
        {
            "cell_type": "code",
            "execution_count": 4,
            "id": "45fe118b-cb32-4264-aa36-d1a80d1a01f0",
            "metadata": {},
            "outputs": [
                {
                    "name": "stdout",
                    "output_type": "stream",
                    "text": "The dtype of tensor object after converting it to tensor:  torch.int64\nThe type of tensor object after converting it to tensor:  torch.LongTensor\n"
                }
            ],
            "source": "# Convert a integer list with length 5 to a tensor\n\nints_to_tensor = torch.tensor([0, 1, 2, 3, 4])\nprint(\"The dtype of tensor object after converting it to tensor: \", ints_to_tensor.dtype)\nprint(\"The type of tensor object after converting it to tensor: \", ints_to_tensor.type())"
        },
        {
            "cell_type": "markdown",
            "id": "7c94a701-1645-4d8b-9067-35d856ecb1a0",
            "metadata": {},
            "source": "As a result, the integer list has been converted to a long tensor.\n"
        },
        {
            "cell_type": "markdown",
            "id": "f70a248c-f342-4ec0-aee9-d531cf0f735f",
            "metadata": {},
            "source": "The Python type is still <code>torch.Tensor</code>:\n"
        },
        {
            "cell_type": "code",
            "execution_count": 5,
            "id": "2b31e38e-788b-451d-8c6a-05a0ded0db10",
            "metadata": {},
            "outputs": [
                {
                    "data": {
                        "text/plain": "torch.Tensor"
                    },
                    "execution_count": 5,
                    "metadata": {},
                    "output_type": "execute_result"
                }
            ],
            "source": "type(ints_to_tensor)"
        },
        {
            "cell_type": "markdown",
            "id": "48dd4955-8a66-4593-8687-22761c0f2f90",
            "metadata": {},
            "source": "<!--Empty Space for separate topics-->\n"
        },
        {
            "cell_type": "markdown",
            "id": "576479cb-afaa-43ca-9014-13ffb35fbff5",
            "metadata": {},
            "source": "You can find the type of this float list <i>[0.0, 1.0, 2.0, 3.0, 4.0]</i> by applying the method <code>torch.tensor()</code>:\n"
        },
        {
            "cell_type": "code",
            "execution_count": 6,
            "id": "d5b65869-47ef-4900-ba0c-000ee4d1d27b",
            "metadata": {},
            "outputs": [
                {
                    "name": "stdout",
                    "output_type": "stream",
                    "text": "The dtype of tensor object after converting it to tensor:  torch.float32\nThe type of tensor object after converting it to tensor:  torch.FloatTensor\n"
                }
            ],
            "source": "# Convert a float list with length 5 to a tensor\n\nfloats_to_tensor = torch.tensor([0.0, 1.0, 2.0, 3.0, 4.0])\nprint(\"The dtype of tensor object after converting it to tensor: \", floats_to_tensor.dtype)\nprint(\"The type of tensor object after converting it to tensor: \", floats_to_tensor.type())"
        },
        {
            "cell_type": "markdown",
            "id": "ec5b3a46-f565-4f70-b3c7-9ec180465565",
            "metadata": {},
            "source": "The float list is converted to a float tensor.\n"
        },
        {
            "cell_type": "code",
            "execution_count": 7,
            "id": "69a3b4a1-2d98-4d32-9b02-53f6f86cd21b",
            "metadata": {},
            "outputs": [],
            "source": "list_floats=[0.0, 1.0, 2.0, 3.0, 4.0]\n\nfloats_int_tensor=torch.tensor(list_floats,dtype=torch.int64)"
        },
        {
            "cell_type": "code",
            "execution_count": 8,
            "id": "6f819e90-dae7-432e-9279-0e633305afa2",
            "metadata": {},
            "outputs": [
                {
                    "name": "stdout",
                    "output_type": "stream",
                    "text": "The dtype of tensor object is:  torch.int64\nThe type of tensor object is:  torch.LongTensor\n"
                }
            ],
            "source": "print(\"The dtype of tensor object is: \", floats_int_tensor.dtype)\nprint(\"The type of tensor object is: \", floats_int_tensor.type())"
        },
        {
            "cell_type": "markdown",
            "id": "a87cca1e-7c34-4b96-87c8-765e73b910cb",
            "metadata": {},
            "source": "<b>Note: The elements in the list that will be converted to tensor must have the same type.</b>\n"
        },
        {
            "cell_type": "markdown",
            "id": "4b8ad550-5ca1-4ee2-9806-155d04d2a827",
            "metadata": {},
            "source": "<!--Empty Space for separating topics-->\n"
        },
        {
            "cell_type": "markdown",
            "id": "45796eff-f816-41f7-9f83-07d6adc0c9b6",
            "metadata": {},
            "source": "From the previous examples, you see that <code>torch.tensor()</code> converts the list to the tensor type, which is similar to the original list type. However, what if you want to convert the list to a certain tensor type? <code>torch</code> contains the methods required to do this conversion. The following code  converts an integer list to float tensor:\n"
        },
        {
            "cell_type": "code",
            "execution_count": 9,
            "id": "c3ffbf6f-0356-45fb-a132-8bd9195cdba3",
            "metadata": {},
            "outputs": [
                {
                    "name": "stdout",
                    "output_type": "stream",
                    "text": "The type of the new_float_tensor: torch.FloatTensor\n"
                }
            ],
            "source": "# Convert a integer list with length 5 to float tensor\n\nnew_float_tensor = torch.FloatTensor([0, 1, 2, 3, 4])\nnew_float_tensor.type()\nprint(\"The type of the new_float_tensor:\", new_float_tensor.type())"
        },
        {
            "cell_type": "code",
            "execution_count": 10,
            "id": "0381e914-29f4-4066-a66b-7b8ca9e7316c",
            "metadata": {},
            "outputs": [],
            "source": "new_float_tensor = torch.FloatTensor([0, 1, 2, 3, 4])"
        },
        {
            "cell_type": "markdown",
            "id": "15a08b4e-f1b1-4097-a07c-88e479911837",
            "metadata": {},
            "source": "<!--Empty Space for separating topics-->\n"
        },
        {
            "cell_type": "markdown",
            "id": "fc867091-5c1c-4b71-9e92-9ed3a47c57cc",
            "metadata": {},
            "source": "You can also convert an existing tensor object (<code><i>tensor_obj</i></code>) to another tensor type. Convert the integer tensor to a float tensor:\n"
        },
        {
            "cell_type": "code",
            "execution_count": 11,
            "id": "7ac55b1e-b530-4344-985d-73292c7c1ac1",
            "metadata": {},
            "outputs": [
                {
                    "name": "stdout",
                    "output_type": "stream",
                    "text": "The type of the new_float_tensor: torch.FloatTensor\n"
                }
            ],
            "source": "# Another method to convert the integer list to float tensor\n\nold_int_tensor = torch.tensor([0, 1, 2, 3, 4])\nnew_float_tensor = old_int_tensor.type(torch.FloatTensor)\nprint(\"The type of the new_float_tensor:\", new_float_tensor.type())"
        },
        {
            "cell_type": "markdown",
            "id": "64047be0-9442-46b6-a614-819668fc1ce1",
            "metadata": {},
            "source": "<!--Empty Space for separating topics-->\n"
        },
        {
            "cell_type": "markdown",
            "id": "9e17e103-83b2-4c27-98a1-d72a2d78c3be",
            "metadata": {},
            "source": "The <code><i>tensor_obj</i>.size()</code> helps you to find out the size of the <code><i>tensor_obj</i></code>.\nThe <code><i>tensor_obj</i>.ndimension()</code> shows the dimension of the tensor object.\n"
        },
        {
            "cell_type": "code",
            "execution_count": 12,
            "id": "df8ac41b-9d60-4a7d-ab5b-49c300fea906",
            "metadata": {},
            "outputs": [
                {
                    "name": "stdout",
                    "output_type": "stream",
                    "text": "The size of the new_float_tensor:  torch.Size([5])\nThe dimension of the new_float_tensor:  1\n"
                }
            ],
            "source": "# Introduce the tensor_obj.size() & tensor_ndimension.size() methods\n\nprint(\"The size of the new_float_tensor: \", new_float_tensor.size())\nprint(\"The dimension of the new_float_tensor: \",new_float_tensor.ndimension())"
        },
        {
            "cell_type": "markdown",
            "id": "80b29cf6-681f-46dc-87cb-dca8d767c812",
            "metadata": {},
            "source": "<!--Empty Space for separating topics-->\n"
        },
        {
            "cell_type": "markdown",
            "id": "094af2be-b779-4158-88a4-95c25578ac68",
            "metadata": {},
            "source": "The <code><i>tensor_obj</i>.view(<i>row, column</i>)</code> is used for reshaping a tensor object.<br>\n"
        },
        {
            "cell_type": "markdown",
            "id": "1be422a3-6d46-43d8-ba80-6e8395a9b120",
            "metadata": {},
            "source": "What if you have a tensor object with <code>torch.Size([5])</code> as a <code>new_float_tensor</code> as shown in the previous example?<br>\nAfter you execute <code>new_float_tensor.view(5, 1)</code>, the size of <code>new_float_tensor</code> will be <code>torch.Size([5, 1])</code>.<br>\nThis means that the tensor object <code>new_float_tensor</code> has been reshaped from a one-dimensional  tensor object with 5 elements to a two-dimensional tensor object with 5 rows and 1 column.\n"
        },
        {
            "cell_type": "code",
            "execution_count": 13,
            "id": "fbd5e31f-4ccc-4e44-bca2-74ffec3af29a",
            "metadata": {},
            "outputs": [
                {
                    "name": "stdout",
                    "output_type": "stream",
                    "text": "Original Size:  tensor([0., 1., 2., 3., 4.])\nSize after view method tensor([[0.],\n        [1.],\n        [2.],\n        [3.],\n        [4.]])\n"
                }
            ],
            "source": "# Introduce the tensor_obj.view(row, column) method\n\ntwoD_float_tensor = new_float_tensor.view(5, 1)\nprint(\"Original Size: \", new_float_tensor)\nprint(\"Size after view method\", twoD_float_tensor)"
        },
        {
            "cell_type": "markdown",
            "id": "0db83de5-2ec1-4a44-81da-2e3187bc59bb",
            "metadata": {},
            "source": "Note that the original size is 5. The tensor after reshaping becomes a 5X1 tensor analog to a column vector.\n"
        },
        {
            "cell_type": "markdown",
            "id": "3ef0bbec-64c1-42c3-aa90-c2be26a298b8",
            "metadata": {},
            "source": "<b>Note: The number of elements in a tensor must remain constant after applying view.</b>\n"
        },
        {
            "cell_type": "markdown",
            "id": "57954632-0a0f-4ff8-a275-c5d3457ab14c",
            "metadata": {},
            "source": "<!--Empty Space for separating topics-->\n"
        },
        {
            "cell_type": "markdown",
            "id": "e99ac2e6-710a-44fe-9be5-ac3bdea82d68",
            "metadata": {},
            "source": "What if you have a tensor with dynamic size but you want to reshape it? You can use <b>-1</b> to do just that.\n"
        },
        {
            "cell_type": "code",
            "execution_count": 14,
            "id": "c76f462a-baaa-4ec4-a773-fe492b7b17ee",
            "metadata": {},
            "outputs": [
                {
                    "name": "stdout",
                    "output_type": "stream",
                    "text": "Original Size:  tensor([0., 1., 2., 3., 4.])\nSize after view method tensor([[0.],\n        [1.],\n        [2.],\n        [3.],\n        [4.]])\n"
                }
            ],
            "source": "# Introduce the use of -1 in tensor_obj.view(row, column) method\n\ntwoD_float_tensor = new_float_tensor.view(-1, 1)\nprint(\"Original Size: \", new_float_tensor)\nprint(\"Size after view method\", twoD_float_tensor)"
        },
        {
            "cell_type": "markdown",
            "id": "c8463167-ebf2-4eda-b500-594bca02a75e",
            "metadata": {},
            "source": "You get the same result as the previous example. The <b>-1</b> can represent any size. However, be careful because you can set only one argument as <b>-1</b>.\n"
        },
        {
            "cell_type": "markdown",
            "id": "de8f6beb-2835-4df2-bb73-69ce9d27ae78",
            "metadata": {},
            "source": "<!--Empty Space for separating topics-->\n"
        },
        {
            "cell_type": "markdown",
            "id": "1abc508a-3359-4a6e-a8ea-13552e263043",
            "metadata": {},
            "source": "You can also convert a <b>numpy</b> array to a <b>tensor</b>, for example: \n"
        },
        {
            "cell_type": "code",
            "execution_count": 15,
            "id": "ad6f0906-b3dd-4493-a357-00ed3e7bf9fd",
            "metadata": {},
            "outputs": [
                {
                    "name": "stdout",
                    "output_type": "stream",
                    "text": "The dtype of new tensor:  torch.float64\nThe type of new tensor:  torch.DoubleTensor\n"
                }
            ],
            "source": "# Convert a numpy array to a tensor\n\nnumpy_array = np.array([0.0, 1.0, 2.0, 3.0, 4.0])\nnew_tensor = torch.from_numpy(numpy_array)\n\nprint(\"The dtype of new tensor: \", new_tensor.dtype)\nprint(\"The type of new tensor: \", new_tensor.type())"
        },
        {
            "cell_type": "markdown",
            "id": "72b38e9b-708a-4776-8f0a-397270350fd2",
            "metadata": {},
            "source": "<!--Empty Space for separating topics-->\n"
        },
        {
            "cell_type": "markdown",
            "id": "a7193a60-a233-4211-81dc-ef3f91038d5a",
            "metadata": {},
            "source": "Converting a <b>tensor</b> to a <b>numpy</b> is also supported in PyTorch. The syntax is shown below:\n"
        },
        {
            "cell_type": "code",
            "execution_count": 16,
            "id": "9e7196bf-9024-4d16-b865-341938610640",
            "metadata": {},
            "outputs": [
                {
                    "name": "stdout",
                    "output_type": "stream",
                    "text": "The numpy array from tensor:  [0. 1. 2. 3. 4.]\nThe dtype of numpy array:  float64\n"
                }
            ],
            "source": "# Convert a tensor to a numpy array\n\nback_to_numpy = new_tensor.numpy()\nprint(\"The numpy array from tensor: \", back_to_numpy)\nprint(\"The dtype of numpy array: \", back_to_numpy.dtype)"
        },
        {
            "cell_type": "markdown",
            "id": "c8ccb55d-83b2-4b16-801e-d63e44280c6a",
            "metadata": {},
            "source": "<code>back_to_numpy</code> and <code>new_tensor</code> still point to <code>numpy_array</code>. As a result if we change <code>numpy_array</code> both <code>back_to_numpy</code> and <code>new_tensor</code> will change. For example if we set all the elements in <code>numpy_array</code> to zeros, <code>back_to_numpy</code> and <code> new_tensor</code> will follow suit.\n"
        },
        {
            "cell_type": "code",
            "execution_count": 17,
            "id": "e927e5a6-5b2a-4634-bf5c-ab84fea56e7d",
            "metadata": {},
            "outputs": [
                {
                    "name": "stdout",
                    "output_type": "stream",
                    "text": "The new tensor points to numpy_array :  tensor([0., 0., 0., 0., 0.], dtype=torch.float64)\nand back to numpy array points to the tensor:  [0. 0. 0. 0. 0.]\n"
                }
            ],
            "source": "# Set all elements in numpy array to zero \nnumpy_array[:] = 0\nprint(\"The new tensor points to numpy_array : \", new_tensor)\nprint(\"and back to numpy array points to the tensor: \", back_to_numpy)"
        },
        {
            "cell_type": "markdown",
            "id": "e78df449-0c1e-49c4-a613-623aef4d82a7",
            "metadata": {},
            "source": "<!--Empty Space for separating topics-->\n"
        },
        {
            "cell_type": "markdown",
            "id": "b35540a6-21a5-49cd-89c5-f258f7e47a4f",
            "metadata": {},
            "source": "<b>Pandas Series</b> can also be converted by using the numpy array that is stored in <code>pandas_series.values</code>. Note that <code>pandas_series</code> can be any pandas_series object. \n"
        },
        {
            "cell_type": "code",
            "execution_count": 18,
            "id": "50a943b0-683f-4755-90c2-4d85b05dde04",
            "metadata": {},
            "outputs": [
                {
                    "name": "stdout",
                    "output_type": "stream",
                    "text": "The new tensor from numpy array:  tensor([ 0.1000,  2.0000,  0.3000, 10.1000], dtype=torch.float64)\nThe dtype of new tensor:  torch.float64\nThe type of new tensor:  torch.DoubleTensor\n"
                }
            ],
            "source": "# Convert a panda series to a tensor\n\npandas_series=pd.Series([0.1, 2, 0.3, 10.1])\nnew_tensor=torch.from_numpy(pandas_series.values)\nprint(\"The new tensor from numpy array: \", new_tensor)\nprint(\"The dtype of new tensor: \", new_tensor.dtype)\nprint(\"The type of new tensor: \", new_tensor.type())"
        },
        {
            "cell_type": "markdown",
            "id": "fee1fec7-c6ac-4b59-9e7f-5c89a91c7c95",
            "metadata": {},
            "source": "consider the following tensor \n"
        },
        {
            "cell_type": "code",
            "execution_count": 19,
            "id": "03e090a3-c440-4151-a466-c665307a3a85",
            "metadata": {},
            "outputs": [],
            "source": "this_tensor=torch.tensor([0,1, 2,3]) "
        },
        {
            "cell_type": "markdown",
            "id": "282f519a-14ea-4264-908a-67cb6becb249",
            "metadata": {},
            "source": "The method <code>item()</code> returns the value of this tensor as a standard Python number. This only works for one element. \n"
        },
        {
            "cell_type": "code",
            "execution_count": 20,
            "id": "17d87ab5-f7ef-47d5-b24a-96d065c2d820",
            "metadata": {},
            "outputs": [
                {
                    "name": "stdout",
                    "output_type": "stream",
                    "text": "the first item is given by 0 the first tensor value is given by  tensor(0)\nthe second item is given by 1 the second tensor value is given by  tensor(1)\nthe third  item is given by 2 the third tensor value is given by  tensor(2)\n"
                }
            ],
            "source": "this_tensor=torch.tensor([0,1, 2,3]) \n\nprint(\"the first item is given by\",this_tensor[0].item(),\"the first tensor value is given by \",this_tensor[0])\nprint(\"the second item is given by\",this_tensor[1].item(),\"the second tensor value is given by \",this_tensor[1])\nprint(\"the third  item is given by\",this_tensor[2].item(),\"the third tensor value is given by \",this_tensor[2])"
        },
        {
            "cell_type": "markdown",
            "id": "20c5dc84-6d1e-4d78-b677-f9ca3e01614a",
            "metadata": {},
            "source": "we can use the method <code> tolist()</code> to return a list \n"
        },
        {
            "cell_type": "code",
            "execution_count": 21,
            "id": "15697f52-5eb0-45f9-8359-458b20b69d84",
            "metadata": {},
            "outputs": [
                {
                    "name": "stdout",
                    "output_type": "stream",
                    "text": "tensor: tensor([0, 1, 2, 3]) \nlist: [0, 1, 2, 3]\n"
                }
            ],
            "source": "torch_to_list=this_tensor.tolist()\n\nprint('tensor:', this_tensor,\"\\nlist:\",torch_to_list)"
        },
        {
            "cell_type": "markdown",
            "id": "376ed4f2-e7c4-4e93-99cd-a903435e97e7",
            "metadata": {},
            "source": "<!--Empty Space for separating topics-->\n"
        },
        {
            "cell_type": "markdown",
            "id": "ca2769f6-be5e-4fe7-8c91-c7102fcd8db7",
            "metadata": {},
            "source": "<h3>Practice</h3>\n"
        },
        {
            "cell_type": "markdown",
            "id": "575511e6-0a46-48bd-a6bd-4f9278090869",
            "metadata": {},
            "source": "Try to convert <code>your_tensor</code> to a 1X5 tensor.\n"
        },
        {
            "cell_type": "code",
            "execution_count": 25,
            "id": "4e3fab6b-b9cc-47fb-9e6a-7d239de759d4",
            "metadata": {},
            "outputs": [
                {
                    "name": "stdout",
                    "output_type": "stream",
                    "text": "The initial size is, tensor([1, 2, 3, 4, 5]) the adjusted size is, tensor([[1, 2, 3, 4, 5]])\n"
                }
            ],
            "source": "# Practice: convert the following tensor to a tensor object with 1 row and 5 columns\n\nyour_tensor = torch.tensor([1, 2, 3, 4, 5])\nprint(\"The initial size is,\", your_tensor, \"the adjusted size is,\",your_tensor.view(1,-1))"
        },
        {
            "cell_type": "markdown",
            "id": "9ac056f5-21ca-423a-9c51-88581d60d6d7",
            "metadata": {},
            "source": "Double-click <b>here</b> for the solution.\n<!-- \nyour_new_tensor = your_tensor.view(1, 5)\nprint(\"Original Size: \", your_tensor)\nprint(\"Size after view method\", your_new_tensor)\n-->\n"
        },
        {
            "cell_type": "markdown",
            "id": "f31eb680-62d6-4b96-8705-92e8940d0169",
            "metadata": {},
            "source": "<!--Empty Space for separating topics-->\n"
        },
        {
            "cell_type": "markdown",
            "id": "3d728490-18c7-4059-a44f-1b8423be3182",
            "metadata": {},
            "source": "<h2 id=\"Index_Slice\">Indexing and Slicing</h2>\n"
        },
        {
            "cell_type": "markdown",
            "id": "655fcc81-dfe2-436d-9623-4f80e9ac957f",
            "metadata": {},
            "source": "In Python, <b>the index starts with 0</b>. Therefore, the last index will always be 1 less than the length of the tensor object.\nYou can access the value on a certain index by using the square bracket, for example:\n"
        },
        {
            "cell_type": "code",
            "execution_count": 26,
            "id": "0294ce5f-1a97-46ff-8b8d-4b33bf076206",
            "metadata": {},
            "outputs": [
                {
                    "name": "stdout",
                    "output_type": "stream",
                    "text": "The value on index 0: tensor(0)\nThe value on index 1: tensor(1)\nThe value on index 2: tensor(2)\nThe value on index 3: tensor(3)\nThe value on index 4: tensor(4)\n"
                }
            ],
            "source": "# A tensor for showing how the indexs work on tensors\n\nindex_tensor = torch.tensor([0, 1, 2, 3, 4])\nprint(\"The value on index 0:\",index_tensor[0])\nprint(\"The value on index 1:\",index_tensor[1])\nprint(\"The value on index 2:\",index_tensor[2])\nprint(\"The value on index 3:\",index_tensor[3])\nprint(\"The value on index 4:\",index_tensor[4])"
        },
        {
            "cell_type": "markdown",
            "id": "445313bc-bada-4a36-8159-0bf76c9bc0e6",
            "metadata": {},
            "source": "<b>Note that the <code>index_tensor[5]</code> will create an error.</b>\n"
        },
        {
            "cell_type": "markdown",
            "id": "9a50af1c-49fb-41a0-b92d-bad700a97bba",
            "metadata": {},
            "source": "<!--Empty Space for separating topics-->\n"
        },
        {
            "cell_type": "markdown",
            "id": "f026f65f-ad48-49ef-97ba-bcf5f89804eb",
            "metadata": {},
            "source": "The index is shown in the following figure: \n"
        },
        {
            "cell_type": "markdown",
            "id": "b53775fc-289c-4094-964e-ee9d811043e2",
            "metadata": {},
            "source": "<img src=\"https://s3-api.us-geo.objectstorage.softlayer.net/cf-courses-data/CognitiveClass/DL0110EN/notebook_images%20/chapter%201/idex_1.png\" width=\"500\" alt=\"Python Index\">\n"
        },
        {
            "cell_type": "markdown",
            "id": "50ba7c68-5e5b-4aaf-aefa-6956482d7d27",
            "metadata": {},
            "source": "<!--Empty Space for separating topics-->\n"
        },
        {
            "cell_type": "markdown",
            "id": "49bf6130-ed8e-4eec-8f5e-50ee340b615f",
            "metadata": {},
            "source": "Now, you'll see how to change the values on certain indexes.\n"
        },
        {
            "cell_type": "markdown",
            "id": "2d8828a5-ffa5-481c-80cc-276e03449bd2",
            "metadata": {},
            "source": "Suppose you have a tensor as shown here: \n"
        },
        {
            "cell_type": "code",
            "execution_count": 27,
            "id": "67e9ea52-08a3-4696-8ae7-5d7c0629e155",
            "metadata": {},
            "outputs": [],
            "source": "# A tensor for showing how to change value according to the index\n\ntensor_sample = torch.tensor([20, 1, 2, 3, 4])"
        },
        {
            "cell_type": "markdown",
            "id": "aacb7cf5-a611-41fa-8970-8152233cca75",
            "metadata": {},
            "source": "Assign the value on index 0 as 100:\n"
        },
        {
            "cell_type": "code",
            "execution_count": 28,
            "id": "9556d84b-9823-4760-aee8-a4494072fcdf",
            "metadata": {},
            "outputs": [
                {
                    "name": "stdout",
                    "output_type": "stream",
                    "text": "Inital value on index 0: tensor(20)\nModified tensor: tensor([100,   1,   2,   3,   4])\n"
                }
            ],
            "source": "# Change the value on the index 0 to 100\n\nprint(\"Inital value on index 0:\", tensor_sample[0])\ntensor_sample[0] = 100\nprint(\"Modified tensor:\", tensor_sample)"
        },
        {
            "cell_type": "markdown",
            "id": "81d401a8-0335-4207-836c-24866886dbeb",
            "metadata": {},
            "source": "As you can see, the value on index 0 changes. Change the value on index 4 to 0:\n"
        },
        {
            "cell_type": "code",
            "execution_count": 29,
            "id": "431d033a-8a65-47b5-b95a-fef57a47889b",
            "metadata": {},
            "outputs": [
                {
                    "name": "stdout",
                    "output_type": "stream",
                    "text": "Inital value on index 4: tensor(4)\nModified tensor: tensor([100,   1,   2,   3,   0])\n"
                }
            ],
            "source": "# Change the value on the index 4 to 0\n\nprint(\"Inital value on index 4:\", tensor_sample[4])\ntensor_sample[4] = 0\nprint(\"Modified tensor:\", tensor_sample)"
        },
        {
            "cell_type": "markdown",
            "id": "7bd4d693-2ab7-487b-a3a8-9fbb1ea66e8c",
            "metadata": {},
            "source": "The value on index 4 turns to 0.\n"
        },
        {
            "cell_type": "markdown",
            "id": "6df0267c-6ae7-468a-9e58-7a2f645b11ae",
            "metadata": {},
            "source": "<!--Empty Space for separating topics-->\n"
        },
        {
            "cell_type": "markdown",
            "id": "71f945e0-08d9-4735-89c8-a64ed3588da3",
            "metadata": {},
            "source": "If you are familiar with Python, you know that there is a feature called slicing on a list. Tensors support the same feature. \n"
        },
        {
            "cell_type": "markdown",
            "id": "3c5d3d24-b091-4294-a666-fa13816fc337",
            "metadata": {},
            "source": "Get the subset of <code>tensor_sample</code>. The subset should contain the values in <code>tensor_sample</code> from index 1 to index 3.\n"
        },
        {
            "cell_type": "code",
            "execution_count": 30,
            "id": "6247949d-f628-41e1-b9db-a740de19d8a5",
            "metadata": {},
            "outputs": [
                {
                    "name": "stdout",
                    "output_type": "stream",
                    "text": "Original tensor sample:  tensor([100,   1,   2,   3,   0])\nThe subset of tensor sample: tensor([1, 2, 3])\n"
                }
            ],
            "source": "# Slice tensor_sample\n\nsubset_tensor_sample = tensor_sample[1:4]\nprint(\"Original tensor sample: \", tensor_sample)\nprint(\"The subset of tensor sample:\", subset_tensor_sample)"
        },
        {
            "cell_type": "markdown",
            "id": "3dac4f79-f4f5-4412-9313-15ed3d182d3e",
            "metadata": {},
            "source": "As a result, the <code>subset_tensor_sample</code> returned only the values on index 1, index 2, and index 3. Then, it stored them in a <code>subset_tensor_sample</code>.\n"
        },
        {
            "cell_type": "markdown",
            "id": "96f78c38-3900-4e22-94d8-7c27f70acfe2",
            "metadata": {},
            "source": "<b>Note: The number on the left side of the colon represents the index of the first value. The number on the right side of the colon is always 1 larger than the index of the last value. For example, <code>tensor_sample[1:4]</code> means you get values from the index 1 to index 3 <i>(4-1)</i></b>.\n"
        },
        {
            "cell_type": "markdown",
            "id": "6fb23b38-e281-4d11-b4fe-8d81dcc01762",
            "metadata": {},
            "source": "<!--Empty Space for separating topics-->\n"
        },
        {
            "cell_type": "markdown",
            "id": "3a029c10-711f-45a7-8057-02acbf85765d",
            "metadata": {},
            "source": "As for assigning values to the certain index, you can also assign the value to the slices:\n"
        },
        {
            "cell_type": "markdown",
            "id": "1188591e-0aee-43f7-b711-86ad479d885a",
            "metadata": {},
            "source": "Change the value of <code>tensor_sample</code> from index 3 to index 4:\n"
        },
        {
            "cell_type": "code",
            "execution_count": 31,
            "id": "a3d06f90-51ee-4a15-91b6-3c50131942ea",
            "metadata": {},
            "outputs": [
                {
                    "name": "stdout",
                    "output_type": "stream",
                    "text": "Inital value on index 3 and index 4: tensor([3, 0])\nModified tensor: tensor([100,   1,   2, 300, 400])\n"
                }
            ],
            "source": "# Change the values on index 3 and index 4\n\nprint(\"Inital value on index 3 and index 4:\", tensor_sample[3:5])\ntensor_sample[3:5] = torch.tensor([300.0, 400.0])\nprint(\"Modified tensor:\", tensor_sample)"
        },
        {
            "cell_type": "markdown",
            "id": "4e839755-8f7e-4636-998c-de351b977a39",
            "metadata": {},
            "source": "The values on both index 3 and index 4 were changed. The values on other indexes remain the same.\n"
        },
        {
            "cell_type": "markdown",
            "id": "0b621fc4-45d4-4a95-80b4-dc04e0506f8c",
            "metadata": {},
            "source": "<!--Empty Space for separating topics-->\n"
        },
        {
            "cell_type": "markdown",
            "id": "3889379d-efc0-46c0-bcda-e8b9c3ae1e89",
            "metadata": {},
            "source": "You can also use a variable to contain the selected indexes and pass that variable to a tensor slice operation as a parameter, for example:  \n"
        },
        {
            "cell_type": "code",
            "execution_count": 32,
            "id": "da36df79-aa1e-49c4-bc9f-40f3556aa0e1",
            "metadata": {},
            "outputs": [
                {
                    "name": "stdout",
                    "output_type": "stream",
                    "text": "The inital tensor_sample tensor([100,   1,   2, 300, 400])\nThe subset of tensor_sample with the values on index 3 and 4:  tensor([300, 400])\n"
                }
            ],
            "source": "# Using variable to contain the selected index, and pass it to slice operation\n\nselected_indexes = [3, 4]\nsubset_tensor_sample = tensor_sample[selected_indexes]\nprint(\"The inital tensor_sample\", tensor_sample)\nprint(\"The subset of tensor_sample with the values on index 3 and 4: \", subset_tensor_sample)"
        },
        {
            "cell_type": "markdown",
            "id": "138f93ed-0327-4f14-b120-752d275f956a",
            "metadata": {},
            "source": "<!--Empty Space for separating topics-->\n"
        },
        {
            "cell_type": "markdown",
            "id": "49552fab-334e-46e8-bc56-fcd096dd1775",
            "metadata": {},
            "source": "You can also assign one value to the selected indexes by using the variable. For example, assign 100,000 to all the <code>selected_indexes</code>:\n"
        },
        {
            "cell_type": "code",
            "execution_count": 33,
            "id": "3d95bbf1-2aa5-40de-9e7e-0471164299af",
            "metadata": {},
            "outputs": [
                {
                    "name": "stdout",
                    "output_type": "stream",
                    "text": "The inital tensor_sample tensor([100,   1,   2, 300, 400])\nModified tensor with one value:  tensor([   100, 100000,      2, 100000,    400])\n"
                }
            ],
            "source": "#Using variable to assign the value to the selected indexes\n\nprint(\"The inital tensor_sample\", tensor_sample)\nselected_indexes = [1, 3]\ntensor_sample[selected_indexes] = 100000\nprint(\"Modified tensor with one value: \", tensor_sample)"
        },
        {
            "cell_type": "markdown",
            "id": "87d5c3db-87b1-4e8b-98e0-6a56a737d8a2",
            "metadata": {},
            "source": "The values on index 1 and index 3 were changed to 100,000. Others remain the same.\n"
        },
        {
            "cell_type": "markdown",
            "id": "1059faa8-7f45-42c5-b39b-b3575eb3622d",
            "metadata": {},
            "source": "<b>Note: You can use only one value for the assignment.</b>\n"
        },
        {
            "cell_type": "markdown",
            "id": "b1ab18b1-513e-45b6-b67e-fbb1bb8d9238",
            "metadata": {},
            "source": "<!--Empty Space for separating topics-->\n"
        },
        {
            "cell_type": "markdown",
            "id": "760dc48d-41a4-44e7-97bd-3b944f3f6279",
            "metadata": {},
            "source": "<h3>Practice</h3>\n"
        },
        {
            "cell_type": "markdown",
            "id": "580d7137-33c1-4238-9d0e-eb6113e2c6e4",
            "metadata": {},
            "source": "Try to change the values on index 3, 4, 7 of the following tensor to 0.\n"
        },
        {
            "cell_type": "code",
            "execution_count": 34,
            "id": "e3c4c477-aaef-436a-b670-eb129927c703",
            "metadata": {},
            "outputs": [
                {
                    "name": "stdout",
                    "output_type": "stream",
                    "text": "The inital tensor_sample tensor([2, 7, 3, 4, 6, 2, 3, 1, 2])\nModified tensor with one value:  tensor([2, 7, 3, 0, 0, 2, 3, 0, 2])\n"
                }
            ],
            "source": "# Practice: Change the values on index 3, 4, 7 to 0\n\npractice_tensor = torch.tensor([2, 7, 3, 4, 6, 2, 3, 1, 2])\nprint(\"The inital tensor_sample\", practice_tensor)\nselected_indexes = [3,4,7]\npractice_tensor[selected_indexes] = 0\nprint(\"Modified tensor with one value: \", practice_tensor)"
        },
        {
            "cell_type": "markdown",
            "id": "bedbec72-e182-425e-ae89-cb3d8f8cd637",
            "metadata": {},
            "source": "Double-click <b>here</b> for the solution.\n<!-- \nselected_indexes = [3, 4, 7]\npractice_tensor[selected_indexes] = 0\nprint(\"New Practice Tensor: \", practice_tensor)\n-->\n"
        },
        {
            "cell_type": "markdown",
            "id": "290b71c1-8566-419f-af68-c81b571314b7",
            "metadata": {},
            "source": "<!--Empty Space for separating topics-->\n"
        },
        {
            "cell_type": "markdown",
            "id": "89c001bb-1909-42ba-ae57-a6d9f004a7b0",
            "metadata": {},
            "source": "<h2 id=\"Tensor_Func\">Tensor Functions</h2>\n"
        },
        {
            "cell_type": "markdown",
            "id": "a5e74b59-017f-4c51-8569-e3ae01eb95a4",
            "metadata": {},
            "source": "For this section, you'll work with some methods that you can apply to tensor objects.\n"
        },
        {
            "cell_type": "markdown",
            "id": "e66f997e-a7cf-4477-bca2-440b0705bb1f",
            "metadata": {},
            "source": "<h3>Mean and Standard Deviation</h3>\n"
        },
        {
            "cell_type": "markdown",
            "id": "dd284a1e-8bc0-4303-9d0e-43ad80791373",
            "metadata": {},
            "source": "You'll review the mean and standard deviation methods first. They are two basic statistical methods.\n"
        },
        {
            "cell_type": "markdown",
            "id": "5b0a8e41-dcc2-4b9c-97c7-54d686b9e963",
            "metadata": {},
            "source": "<!--Empty Space for separating topics-->\n"
        },
        {
            "cell_type": "markdown",
            "id": "fa501439-82b0-4660-bf85-8ff26691d2c1",
            "metadata": {},
            "source": "Create a tensor with values <i>[1.0, -1, 1, -1]</i>:\n"
        },
        {
            "cell_type": "code",
            "execution_count": 35,
            "id": "4f0cc134-f2e4-4757-a3e0-65fbd44880d1",
            "metadata": {},
            "outputs": [
                {
                    "name": "stdout",
                    "output_type": "stream",
                    "text": "Tensor example:  tensor([ 1., -1.,  1., -1.])\n"
                }
            ],
            "source": "# Sample tensor for mathmatic calculation methods on tensor\n\nmath_tensor = torch.tensor([1.0, -1.0, 1, -1])\nprint(\"Tensor example: \", math_tensor)"
        },
        {
            "cell_type": "markdown",
            "id": "ae65334c-a3fa-4e02-af71-06d9c7f03ac4",
            "metadata": {},
            "source": "<!--Empty Space for separating topics-->\n"
        },
        {
            "cell_type": "markdown",
            "id": "eb00f250-5336-44dd-b9d6-b78237fd8ce1",
            "metadata": {},
            "source": "Here is the mean method:  \n"
        },
        {
            "cell_type": "code",
            "execution_count": 36,
            "id": "a563441e-95b5-475b-8b6b-a2643709a1c3",
            "metadata": {},
            "outputs": [
                {
                    "name": "stdout",
                    "output_type": "stream",
                    "text": "The mean of math_tensor:  tensor(0.)\n"
                }
            ],
            "source": "#Calculate the mean for math_tensor\n\nmean = math_tensor.mean()\nprint(\"The mean of math_tensor: \", mean)"
        },
        {
            "cell_type": "markdown",
            "id": "1599c979-6d32-4cb4-ac9f-4d035505d741",
            "metadata": {},
            "source": "<!--Empty Space for separating topics-->\n"
        },
        {
            "cell_type": "markdown",
            "id": "90c0a2a4-7e90-40b4-bfab-acca0948e671",
            "metadata": {},
            "source": "The standard deviation can also be calculated by using <code><i>tensor_obj</i>.std()</code>:\n"
        },
        {
            "cell_type": "code",
            "execution_count": 37,
            "id": "0cefd8e9-d668-494d-b4cd-4181ee6babe1",
            "metadata": {},
            "outputs": [
                {
                    "name": "stdout",
                    "output_type": "stream",
                    "text": "The standard deviation of math_tensor:  tensor(1.1547)\n"
                }
            ],
            "source": "#Calculate the standard deviation for math_tensor\n\nstandard_deviation = math_tensor.std()\nprint(\"The standard deviation of math_tensor: \", standard_deviation)"
        },
        {
            "cell_type": "markdown",
            "id": "39a9b576-aca9-45ee-b9f1-87dad5407635",
            "metadata": {},
            "source": "<!--Empty Space for separating topics-->\n"
        },
        {
            "cell_type": "markdown",
            "id": "9c5ca94f-d847-4e91-a308-fb9361f33cce",
            "metadata": {},
            "source": "<h3>Max and Min</h3>\n"
        },
        {
            "cell_type": "markdown",
            "id": "5f76e295-1113-441c-99e0-ca981191d973",
            "metadata": {},
            "source": "Now, you'll review another two useful methods: <code><i>tensor_obj</i>.max()</code> and <code><i>tensor_obj</i>.min()</code>. These two methods are used for finding the maximum value and the minimum value in the tensor.\n"
        },
        {
            "cell_type": "markdown",
            "id": "94badc36-b158-4103-b774-8733bf44df01",
            "metadata": {},
            "source": "<!--Empty Space for separating topics-->\n"
        },
        {
            "cell_type": "markdown",
            "id": "dd41be91-d2aa-4da4-8111-de7c5c74cdba",
            "metadata": {},
            "source": "Create a <code>max_min_tensor</code>: \n"
        },
        {
            "cell_type": "code",
            "execution_count": 38,
            "id": "c2af1bb5-c60b-4d8f-a92e-172950e41b0b",
            "metadata": {},
            "outputs": [
                {
                    "name": "stdout",
                    "output_type": "stream",
                    "text": "Tensor example:  tensor([1, 1, 3, 5, 5])\n"
                }
            ],
            "source": "# Sample for introducing max and min methods\n\nmax_min_tensor = torch.tensor([1, 1, 3, 5, 5])\nprint(\"Tensor example: \", max_min_tensor)"
        },
        {
            "cell_type": "markdown",
            "id": "7931e6b1-38cb-4b56-a9a9-e27b76ec3ca7",
            "metadata": {},
            "source": "<b>Note: There are two minimum numbers as 1 and two maximum numbers as 5 in the tensor. Can you guess how PyTorch is going to deal with the duplicates?</b>\n"
        },
        {
            "cell_type": "markdown",
            "id": "a77696e6-2b88-4916-bea5-b3f1645691b4",
            "metadata": {},
            "source": "<!--Empty Space for separating topics-->\n"
        },
        {
            "cell_type": "markdown",
            "id": "b5dffdc4-de84-446f-97d4-6d3cf97e81fd",
            "metadata": {},
            "source": "Apply <code><i>tensor_obj</i>.max()</code> on <code>max_min_tensor</code>:\n"
        },
        {
            "cell_type": "code",
            "execution_count": 39,
            "id": "2011b5fd-20e2-4514-8259-4b1d19c0bc30",
            "metadata": {},
            "outputs": [
                {
                    "name": "stdout",
                    "output_type": "stream",
                    "text": "Maximum number in the tensor:  tensor(5)\n"
                }
            ],
            "source": "# Method for finding the maximum value in the tensor\n\nmax_val = max_min_tensor.max()\nprint(\"Maximum number in the tensor: \", max_val)"
        },
        {
            "cell_type": "markdown",
            "id": "c71f6847-befd-447e-b219-cf925f843de2",
            "metadata": {},
            "source": "The answer is <code>tensor(5)</code>. Therefore, the method <code><i>tensor_obj</i>.max()</code> is grabbing the maximum value but not the elements that contain the maximum value in the tensor.\n"
        },
        {
            "cell_type": "code",
            "execution_count": 40,
            "id": "15e65b9a-2b97-4191-8515-e76624f0d1bf",
            "metadata": {},
            "outputs": [
                {
                    "data": {
                        "text/plain": "tensor(5)"
                    },
                    "execution_count": 40,
                    "metadata": {},
                    "output_type": "execute_result"
                }
            ],
            "source": " max_min_tensor.max()"
        },
        {
            "cell_type": "markdown",
            "id": "b2ed8b93-c238-4064-a551-f4ea945418f1",
            "metadata": {},
            "source": "<!--Empty Space for separating topics-->\n"
        },
        {
            "cell_type": "markdown",
            "id": "c3e1448e-0774-498d-ab37-d6797012dc47",
            "metadata": {},
            "source": "Use <code><i>tensor_obj</i>.min()</code> on <code>max_min_tensor</code>:\n"
        },
        {
            "cell_type": "code",
            "execution_count": 41,
            "id": "7f6325e8-541b-4df2-819f-21ada2c72c19",
            "metadata": {},
            "outputs": [
                {
                    "name": "stdout",
                    "output_type": "stream",
                    "text": "Minimum number in the tensor:  tensor(1)\n"
                }
            ],
            "source": "# Method for finding the minimum value in the tensor\n\nmin_val = max_min_tensor.min()\nprint(\"Minimum number in the tensor: \", min_val)"
        },
        {
            "cell_type": "markdown",
            "id": "5d0d39ce-08bd-41e0-82da-8f553b5cbf57",
            "metadata": {},
            "source": "The answer is <code>tensor(1)</code>. Therefore, the method <code><i>tensor_obj</i>.min()</code> is grabbing the minimum value but not the elements that contain the minimum value in the tensor.\n"
        },
        {
            "cell_type": "markdown",
            "id": "3fcfcf47-8c82-4221-a176-46074a05e850",
            "metadata": {},
            "source": "<!--Empty Space for separating topics-->\n"
        },
        {
            "cell_type": "markdown",
            "id": "7df19eb4-61d0-4252-a862-44d4c3a5a6bb",
            "metadata": {},
            "source": "<h3>Sin</h3>\n"
        },
        {
            "cell_type": "markdown",
            "id": "2087ff76-9228-4c96-b657-ea2e01c7c833",
            "metadata": {},
            "source": "Sin is the trigonometric function of an angle. Again, you will not be introducedvto any mathematic functions. You'll focus on Python.\n"
        },
        {
            "cell_type": "markdown",
            "id": "5d387cda-5fb9-4a9f-b383-5bc8c61be842",
            "metadata": {},
            "source": "<!--Empty Space for separating topics-->\n"
        },
        {
            "cell_type": "markdown",
            "id": "aba297b2-4375-44a3-a93e-6029c9d16117",
            "metadata": {},
            "source": "Create a tensor with 0, \u03c0/2 and \u03c0. Then, apply the sin function on the tensor. Notice here that the <code>sin()</code> is not a method of tensor object but is a function of torch:\n"
        },
        {
            "cell_type": "code",
            "execution_count": 42,
            "id": "babae362-14fb-433d-b61e-e1194da6b7b6",
            "metadata": {},
            "outputs": [
                {
                    "name": "stdout",
                    "output_type": "stream",
                    "text": "The sin result of pi_tensor:  tensor([ 0.0000e+00,  1.0000e+00, -8.7423e-08])\n"
                }
            ],
            "source": "# Method for calculating the sin result of each element in the tensor\n\npi_tensor = torch.tensor([0, np.pi/2, np.pi])\nsin = torch.sin(pi_tensor)\nprint(\"The sin result of pi_tensor: \", sin)"
        },
        {
            "cell_type": "markdown",
            "id": "4ae9b7f0-ada9-49a5-9ce2-acd601e56e22",
            "metadata": {},
            "source": "The resultant tensor <code>sin</code> contains the result of the <code>sin</code> function applied to each element in the <code>pi_tensor</code>.<br>\nThis is different from the previous methods. For <code><i>tensor_obj</i>.mean()</code>, <code><i>tensor_obj</i>.std()</code>, <code><i>tensor_obj</i>.max()</code>, and <code><i>tensor_obj</i>.min()</code>, the result is a tensor with only one number because these are aggregate methods.<br>\nHowever, the <code>torch.sin()</code> is not. Therefore, the resultant tensors have the same length as the input tensor.\n"
        },
        {
            "cell_type": "markdown",
            "id": "95984063-16f6-4887-8ab1-7d100542e5be",
            "metadata": {},
            "source": "<!--Empty Space for separating topics-->\n"
        },
        {
            "cell_type": "markdown",
            "id": "3e73791c-de7b-405f-9aa9-3a064ad3cbcc",
            "metadata": {},
            "source": "<h3>Create Tensor by <code>torch.linspace()</code></h3>\n"
        },
        {
            "cell_type": "markdown",
            "id": "437a8711-3324-481c-a12f-4c50e349c1b9",
            "metadata": {},
            "source": "A useful function for plotting mathematical functions is <code>torch.linspace()</code>. <code>torch.linspace()</code> returns evenly spaced numbers over a specified interval. You specify the starting point of the sequence and the ending point of the sequence. The parameter <code>steps</code> indicates the number of samples to generate. Now, you'll work with <code>steps = 5</code>.\n"
        },
        {
            "cell_type": "code",
            "execution_count": 43,
            "id": "22dcd820-37c6-492a-a470-54f757fec58d",
            "metadata": {},
            "outputs": [
                {
                    "name": "stdout",
                    "output_type": "stream",
                    "text": "First Try on linspace tensor([-2., -1.,  0.,  1.,  2.])\n"
                }
            ],
            "source": "# First try on using linspace to create tensor\n\nlen_5_tensor = torch.linspace(-2, 2, steps = 5)\nprint (\"First Try on linspace\", len_5_tensor)"
        },
        {
            "cell_type": "markdown",
            "id": "1ecdccf1-b481-40e3-acda-0279a2a01734",
            "metadata": {},
            "source": "<!--Empty Space for separating topics-->\n"
        },
        {
            "cell_type": "markdown",
            "id": "b7cccc23-cedd-4674-8190-5a91f4c3af11",
            "metadata": {},
            "source": "Assign <code>steps</code> with 9:\n"
        },
        {
            "cell_type": "code",
            "execution_count": 44,
            "id": "29312587-053c-4656-997c-556eeab2f26c",
            "metadata": {},
            "outputs": [
                {
                    "name": "stdout",
                    "output_type": "stream",
                    "text": "Second Try on linspace tensor([-2.0000, -1.5000, -1.0000, -0.5000,  0.0000,  0.5000,  1.0000,  1.5000,\n         2.0000])\n"
                }
            ],
            "source": "# Second try on using linspace to create tensor\n\nlen_9_tensor = torch.linspace(-2, 2, steps = 9)\nprint (\"Second Try on linspace\", len_9_tensor)"
        },
        {
            "cell_type": "markdown",
            "id": "bfe3d579-197d-4558-a9ee-be0aaff15ebd",
            "metadata": {},
            "source": "<!--Empty Space for separating topics-->\n"
        },
        {
            "cell_type": "markdown",
            "id": "a63f0845-7ee8-42f4-aff2-0ed62a8838d5",
            "metadata": {},
            "source": "Use both <code>torch.linspace()</code> and <code>torch.sin()</code> to construct a tensor that contains the 100 sin result in range from 0 (0 degree) to 2\u03c0 (360 degree): \n"
        },
        {
            "cell_type": "code",
            "execution_count": 45,
            "id": "0a759908-bcf5-4166-8806-1d36fddae510",
            "metadata": {},
            "outputs": [],
            "source": "# Construct the tensor within 0 to 360 degree\n\npi_tensor = torch.linspace(0, 2*np.pi, 100)\nsin_result = torch.sin(pi_tensor)"
        },
        {
            "cell_type": "markdown",
            "id": "261e99b6-2fc8-4b04-bb12-f54828760c48",
            "metadata": {},
            "source": "Plot the result to get a clearer picture. You must cast the tensor to a numpy array before plotting it.\n"
        },
        {
            "cell_type": "code",
            "execution_count": 46,
            "id": "feb3fdb4-db6b-43be-aa77-6ff24af837d1",
            "metadata": {},
            "outputs": [
                {
                    "data": {
                        "text/plain": "[<matplotlib.lines.Line2D at 0x7fee76ba8070>]"
                    },
                    "execution_count": 46,
                    "metadata": {},
                    "output_type": "execute_result"
                },
                {
                    "data": {
                        "image/png": "[encoded data removed]",
                        "text/plain": "<Figure size 640x480 with 1 Axes>"
                    },
                    "metadata": {},
                    "output_type": "display_data"
                }
            ],
            "source": "# Plot sin_result\n\nplt.plot(pi_tensor.numpy(), sin_result.numpy())"
        },
        {
            "cell_type": "markdown",
            "id": "d22bc9ce-f631-4f07-9d98-8f9110dc1303",
            "metadata": {},
            "source": "If you know the trigonometric function, you will notice this is the diagram of the sin result in the range 0 to 360 degrees.\n"
        },
        {
            "cell_type": "markdown",
            "id": "b6d6df52-b20a-45bb-85e8-dff72e162983",
            "metadata": {},
            "source": "<!--Empty Space for separating topics-->\n"
        },
        {
            "cell_type": "markdown",
            "id": "cee7523f-af67-4d1d-8aca-304ef024c891",
            "metadata": {},
            "source": "<h3>Practice</h3>\n"
        },
        {
            "cell_type": "markdown",
            "id": "b9d76eeb-d0b6-46eb-bebf-f3a1655204c0",
            "metadata": {},
            "source": "Construct a tensor with 25 steps in the range 0 to \u03c0/2. Print out the Maximum and Minimum number. Also, plot  a graph showing the diagram that shows the result.\n"
        },
        {
            "cell_type": "code",
            "execution_count": 47,
            "id": "acc7f3da-2bea-40cd-9a79-90de0aa3196d",
            "metadata": {},
            "outputs": [
                {
                    "name": "stdout",
                    "output_type": "stream",
                    "text": "Max Number:  tensor(1.5708)\nMin Number tensor(0.)\n"
                },
                {
                    "data": {
                        "text/plain": "[<matplotlib.lines.Line2D at 0x7fee76a71660>]"
                    },
                    "execution_count": 47,
                    "metadata": {},
                    "output_type": "execute_result"
                },
                {
                    "data": {
                        "image/png": "[encoded data removed]",
                        "text/plain": "<Figure size 640x480 with 1 Axes>"
                    },
                    "metadata": {},
                    "output_type": "display_data"
                }
            ],
            "source": "# Practice: Create your tensor, print max and min number, plot the sin result diagram\n\n# Type your code here\npi_tensor = torch.linspace(0, np.pi/2, 100)\nprint(\"Max Number: \", pi_tensor.max())\nprint(\"Min Number\", pi_tensor.min())\nsin_result = torch.sin(pi_tensor)\nplt.plot(pi_tensor.numpy(), sin_result.numpy())"
        },
        {
            "cell_type": "markdown",
            "id": "4ddd7e47-73f3-4b4a-a171-b619df456bd2",
            "metadata": {},
            "source": "Double-click <b>here</b> for the solution.\n<!-- \npi_tensor = torch.linspace(0, np.pi/2, 100)\nprint(\"Max Number: \", pi_tensor.max())\nprint(\"Min Number\", pi_tensor.min())\nsin_result = torch.sin(pi_tensor)\nplt.plot(pi_tensor.numpy(), sin_result.numpy())\n-->\n"
        },
        {
            "cell_type": "markdown",
            "id": "4bfbab80-ced9-41b9-9b93-4f2955db1170",
            "metadata": {},
            "source": "<!--Empty Space for separating topics-->\n"
        },
        {
            "cell_type": "markdown",
            "id": "56449d5e-dd87-4fc5-af32-c845df47d705",
            "metadata": {},
            "source": "<h2 id=\"Tensor_Op\">Tensor Operations</h2>\n"
        },
        {
            "cell_type": "markdown",
            "id": "392a810d-6d55-45f2-85bf-0e35609e059f",
            "metadata": {},
            "source": "In the following section, you'll work with operations that you can apply to a tensor.\n"
        },
        {
            "cell_type": "markdown",
            "id": "0105f457-24af-407f-85ed-de2463d350d0",
            "metadata": {},
            "source": "<!--Empty Space for separating topics-->\n"
        },
        {
            "cell_type": "markdown",
            "id": "3542d6e0-f50b-49b2-9245-57001948ab1a",
            "metadata": {},
            "source": "<h3>Tensor Addition</h3>\n"
        },
        {
            "cell_type": "markdown",
            "id": "ce6b65b8-f0ae-495f-9a14-003766c9dca5",
            "metadata": {},
            "source": "You can perform addition between two tensors.\n"
        },
        {
            "cell_type": "markdown",
            "id": "e570eac5-0f1b-4deb-91c8-126f9f3ac838",
            "metadata": {},
            "source": "Create a tensor <code>u</code> with 1 dimension and 2 elements. Then, create another tensor <code>v</code> with the same number of dimensions and the same number of elements:\n"
        },
        {
            "cell_type": "code",
            "execution_count": 48,
            "id": "1b2eb672-7bd1-4eea-a9e4-4939d5515af9",
            "metadata": {},
            "outputs": [],
            "source": "# Create two sample tensors\n\nu = torch.tensor([1, 0])\nv = torch.tensor([0, 1])"
        },
        {
            "cell_type": "markdown",
            "id": "7b37e74e-fb87-40be-a50a-500eaea3ad60",
            "metadata": {},
            "source": "Add <code>u</code> and <code>v</code> together:\n"
        },
        {
            "cell_type": "code",
            "execution_count": 49,
            "id": "2fc846a0-db04-4b6f-8864-f6f625f80251",
            "metadata": {},
            "outputs": [
                {
                    "name": "stdout",
                    "output_type": "stream",
                    "text": "The result tensor:  tensor([1, 1])\n"
                }
            ],
            "source": "# Add u and v\n\nw = u + v\nprint(\"The result tensor: \", w)"
        },
        {
            "cell_type": "markdown",
            "id": "cec209ae-7374-4c0a-8e36-c3bd0d3ac2c5",
            "metadata": {},
            "source": "The result is <code>tensor([1, 1])</code>. The behavior is <i>[1 + 0, 0 + 1]</i>.\n"
        },
        {
            "cell_type": "markdown",
            "id": "92fb5078-f17e-4cdf-a127-b87cf68300f6",
            "metadata": {},
            "source": "Plot the result to to get a clearer picture.\n"
        },
        {
            "cell_type": "code",
            "execution_count": 50,
            "id": "8e0b68e7-47b4-4f99-8b09-86b23121ab71",
            "metadata": {},
            "outputs": [
                {
                    "data": {
                        "image/png": "[encoded data removed]",
                        "text/plain": "<Figure size 640x480 with 1 Axes>"
                    },
                    "metadata": {},
                    "output_type": "display_data"
                }
            ],
            "source": "# Plot u, v, w\n\nplotVec([\n    {\"vector\": u.numpy(), \"name\": 'u', \"color\": 'r'},\n    {\"vector\": v.numpy(), \"name\": 'v', \"color\": 'b'},\n    {\"vector\": w.numpy(), \"name\": 'w', \"color\": 'g'}\n])"
        },
        {
            "cell_type": "markdown",
            "id": "b4c962f0-4b60-4d76-a6f3-a9a7dcb1b15c",
            "metadata": {},
            "source": "<!--Empty Space for separating topics-->\n"
        },
        {
            "cell_type": "markdown",
            "id": "3fbbb318-f9a0-4be5-957c-19ac01d314bc",
            "metadata": {},
            "source": "<h3>Try</h3> \n"
        },
        {
            "cell_type": "markdown",
            "id": "76ec43f6-ef64-48cb-abec-4a9c0c499cdc",
            "metadata": {},
            "source": "Implement the tensor subtraction with <code>u</code> and <code>v</code> as u-v.\n"
        },
        {
            "cell_type": "code",
            "execution_count": 53,
            "id": "a0c84787-8935-4ae1-a5a0-855ab8a7fcb6",
            "metadata": {},
            "outputs": [
                {
                    "name": "stdout",
                    "output_type": "stream",
                    "text": "The result tensor:  tensor([ 1, -1])\n"
                },
                {
                    "data": {
                        "image/png": "[encoded data removed]",
                        "text/plain": "<Figure size 640x480 with 1 Axes>"
                    },
                    "metadata": {},
                    "output_type": "display_data"
                }
            ],
            "source": "# Try by yourself to get a result of u-v\n\nu = torch.tensor([1, 0])\nv = torch.tensor([0, 1])\nw = u-v\nprint(\"The result tensor: \", w)\n\nplotVec([\n    {\"vector\": u.numpy(), \"name\": 'u', \"color\": 'r'},\n    {\"vector\": v.numpy(), \"name\": 'v', \"color\": 'b'},\n    {\"vector\": w.numpy(), \"name\": 'w', \"color\": 'g'}\n])"
        },
        {
            "cell_type": "markdown",
            "id": "f1bdc303-960d-4a2b-941f-97f32516f827",
            "metadata": {},
            "source": "Double-click <b>here</b> for the solution.\n<!--\nprint(\"The result tensor: \", u-v)\n-->\n"
        },
        {
            "cell_type": "markdown",
            "id": "21dc2e2c-e24e-4f3e-a0d8-56001738b9ea",
            "metadata": {},
            "source": "Tensors must be of the same data type to perform addition as well as other operations.If you uncomment the  following code and try to run it you will get an error as the two tensors are of two different data types. **NOTE This lab was created on a older PyTorch version so in the current version we are using this is possible and will produce a float64 tensor.**\n"
        },
        {
            "cell_type": "code",
            "execution_count": 54,
            "id": "7dfb24c2-70b8-401f-902d-12ff7761755f",
            "metadata": {},
            "outputs": [],
            "source": "#torch.tensor([1,2,3],dtype=torch.int64)+torch.tensor([1,2,3],dtype=torch.float64)"
        },
        {
            "cell_type": "markdown",
            "id": "12c5d51f-3412-4d7a-ac62-ed19fd6cffea",
            "metadata": {},
            "source": "<!--Empty Space for separating topics-->\n"
        },
        {
            "cell_type": "markdown",
            "id": "4a6ebce0-cc3d-413e-9cf0-e6fd90bbe159",
            "metadata": {},
            "source": "You can add a scalar to the tensor. Use <code>u</code> as the sample tensor:\n"
        },
        {
            "cell_type": "code",
            "execution_count": 55,
            "id": "324fe46b-bcef-4b3f-bfda-d8f8e55390ee",
            "metadata": {},
            "outputs": [
                {
                    "name": "stdout",
                    "output_type": "stream",
                    "text": "Addition Result:  tensor([2, 3, 4, 0])\n"
                }
            ],
            "source": "# tensor + scalar\n\nu = torch.tensor([1, 2, 3, -1])\nv = u + 1\nprint (\"Addition Result: \", v)"
        },
        {
            "cell_type": "markdown",
            "id": "7e93aa5a-8962-4a14-b9b6-11b35ca9f590",
            "metadata": {},
            "source": "The result is simply adding 1 to each element in tensor <code>u</code> as shown in the following image:\n"
        },
        {
            "cell_type": "markdown",
            "id": "9a7a0477-daa6-418c-af1b-7f4f55fe2442",
            "metadata": {},
            "source": "<img src=\"https://s3-api.us-geo.objectstorage.softlayer.net/cf-courses-data/CognitiveClass/DL0110EN/notebook_images%20/chapter%201/brodcasting.gif\" width=\"500\" alt=\"tensor addition\">\n"
        },
        {
            "cell_type": "markdown",
            "id": "916f6583-fd4e-47ec-8856-ab5bf75dbe6e",
            "metadata": {},
            "source": "<!--Empty Space for separating topics-->\n"
        },
        {
            "cell_type": "markdown",
            "id": "eeac3ce3-6b02-448f-812b-7e134cf64b72",
            "metadata": {},
            "source": "<h3>Tensor Multiplication </h3>\n"
        },
        {
            "cell_type": "markdown",
            "id": "251fd3af-647f-4f0c-aaa9-a259528d4f16",
            "metadata": {},
            "source": "Now, you'll review the multiplication between a tensor and a scalar.\n"
        },
        {
            "cell_type": "markdown",
            "id": "b49fa3d5-f4c2-4676-a261-5c52b27e9099",
            "metadata": {},
            "source": "Create a tensor with value <code>[1, 2]</code> and then multiply it by 2:\n"
        },
        {
            "cell_type": "code",
            "execution_count": 56,
            "id": "de8d5f74-af58-4d7f-a3c8-bc61cb0d813d",
            "metadata": {},
            "outputs": [
                {
                    "name": "stdout",
                    "output_type": "stream",
                    "text": "The result of 2 * u:  tensor([2, 4])\n"
                }
            ],
            "source": "# tensor * scalar\n\nu = torch.tensor([1, 2])\nv = 2 * u\nprint(\"The result of 2 * u: \", v)"
        },
        {
            "cell_type": "markdown",
            "id": "2998355c-650e-447c-8810-f3516c8fb2c1",
            "metadata": {},
            "source": "The result is <code>tensor([2, 4])</code>, so the code <code>2 * u</code> multiplies each element in the tensor by 2. This is how you get the product between a vector or matrix and a scalar in linear algebra.\n"
        },
        {
            "cell_type": "markdown",
            "id": "de59abf6-6dba-47bd-a98e-2abed38472c9",
            "metadata": {},
            "source": "<!--Empty Space for separating topics-->\n"
        },
        {
            "cell_type": "markdown",
            "id": "cfb87892-ce86-48a2-a248-23b9af254302",
            "metadata": {},
            "source": "You can use multiplication between two tensors.\n"
        },
        {
            "cell_type": "markdown",
            "id": "a9c7a7b8-1172-4800-bbb2-5aebf70aab55",
            "metadata": {},
            "source": "Create two tensors <code>u</code> and <code>v</code> and then multiply them together:\n"
        },
        {
            "cell_type": "code",
            "execution_count": 57,
            "id": "c0957c27-8698-4c1a-9caa-bca8763539f3",
            "metadata": {},
            "outputs": [
                {
                    "name": "stdout",
                    "output_type": "stream",
                    "text": "The result of u * v tensor([3, 4])\n"
                }
            ],
            "source": "# tensor * tensor\n\nu = torch.tensor([1, 2])\nv = torch.tensor([3, 2])\nw = u * v\nprint (\"The result of u * v\", w)"
        },
        {
            "cell_type": "markdown",
            "id": "8d81256b-2c41-40eb-b457-c705fa9a01dc",
            "metadata": {},
            "source": "The result is simply <code>tensor([3, 4])</code>. This result is achieved by multiplying every element in <code>u</code> with the corresponding element in the same position <code>v</code>, which is similar to <i>[1 * 3, 2 * 2]</i>.\n"
        },
        {
            "cell_type": "markdown",
            "id": "0d77f9c0-7f74-4302-ab05-f3c31878ae54",
            "metadata": {},
            "source": "<!--Empty Space for separating topics-->\n"
        },
        {
            "cell_type": "markdown",
            "id": "8715cda5-a724-4a4f-bd4d-d868ef058e6e",
            "metadata": {},
            "source": "<h3>Dot Product</h3>\n"
        },
        {
            "cell_type": "markdown",
            "id": "17d056d6-5f29-4e23-b741-186084f4b12b",
            "metadata": {},
            "source": "The dot product is a special operation for a vector that you can use in Torch.\n"
        },
        {
            "cell_type": "markdown",
            "id": "dc06e2e3-c3a8-4192-8271-8b690b93db96",
            "metadata": {},
            "source": "Here is the dot product of the two tensors <code>u</code> and <code>v</code>:\n"
        },
        {
            "cell_type": "code",
            "execution_count": 60,
            "id": "7f2d972e-a565-4d13-9cfd-6b367c2473b3",
            "metadata": {},
            "outputs": [
                {
                    "name": "stdout",
                    "output_type": "stream",
                    "text": "Dot Product of u, v: tensor(7)\n"
                }
            ],
            "source": "# Calculate dot product of u, v\n\nu = torch.tensor([1, 2])\nv = torch.tensor([3, 2])\nw = torch.dot(u,v)\nprint(\"Dot Product of u, v:\", w)\n"
        },
        {
            "cell_type": "markdown",
            "id": "48b9cd72-5fa2-4460-81da-8528cbc92266",
            "metadata": {},
            "source": "The result is <code>tensor(7)</code>. The function is <i>1 x 3 + 2 x 2 = 7</i>.\n"
        },
        {
            "cell_type": "markdown",
            "id": "ad06d560-0720-4a17-ac9b-b963f68584c8",
            "metadata": {},
            "source": "<!--Empty Space for separating topics-->\n"
        },
        {
            "cell_type": "markdown",
            "id": "69f75336-a04a-4ce4-9afa-8f6b1d61fabb",
            "metadata": {},
            "source": "<h3>Practice</h3>\n"
        },
        {
            "cell_type": "markdown",
            "id": "478ec9cb-e76f-418a-8b35-e073b5ad938f",
            "metadata": {},
            "source": "Convert the list <i>[-1, 1]</i> and <i>[1, 1]</i> to tensors <code>u</code> and <code>v</code>. Then, plot the tensor <code>u</code> and <code>v</code> as a vector by using the function <code>plotVec</code> and find the dot product:\n"
        },
        {
            "cell_type": "code",
            "execution_count": 62,
            "id": "c29c63fd-e02f-4e73-abc1-4aef8a10f8cc",
            "metadata": {},
            "outputs": [
                {
                    "name": "stdout",
                    "output_type": "stream",
                    "text": "Dot Product of u, v: tensor(0)\n"
                },
                {
                    "data": {
                        "image/png": "[encoded data removed]",
                        "text/plain": "<Figure size 640x480 with 1 Axes>"
                    },
                    "metadata": {},
                    "output_type": "display_data"
                }
            ],
            "source": "# Practice: calculate the dot product of u and v, and plot out two vectors\n\n# Type your code here\nu = torch.tensor([-1,1])\nv = torch.tensor([1,1])\nprint(\"Dot Product of u, v:\", torch.dot(u,v))\n\n\nplotVec([\n    {\"vector\": u.numpy(), \"name\": 'u', \"color\": 'r'},\n    {\"vector\": v.numpy(), \"name\": 'v', \"color\": 'b'}\n])"
        },
        {
            "cell_type": "markdown",
            "id": "6ed706d7-0649-404a-b079-3bf6f0edee02",
            "metadata": {},
            "source": "Double-click <b>here</b> for the solution.\n<!-- \nu= torch.tensor([-1, 1])\nv= torch.tensor([1, 1])\nplotVec([\n    {\"vector\": u.numpy(), \"name\": 'u', \"color\": 'r'},\n    {\"vector\": v.numpy(), \"name\": 'v', \"color\": 'b'}\n])\nprint(\"The Dot Product is\",np.dot(u, v))\n -->\n"
        },
        {
            "cell_type": "markdown",
            "id": "aeffb7b4-f820-433c-82f4-dbd2d06ae2c9",
            "metadata": {},
            "source": "<!--Empty Space for separating topics-->\n"
        },
        {
            "cell_type": "markdown",
            "id": "3cdb98dc-2bbc-43a6-8042-3d4d33bdb824",
            "metadata": {},
            "source": "See <a href=\"https://docs.scipy.org/doc/numpy-1.13.0/user/basics.broadcasting.html?utm_medium=Exinfluencer&utm_source=Exinfluencer&utm_content=000026UJ&utm_term=10006555&utm_id=NA-SkillsNetwork-Channel-SkillsNetworkCoursesIBMDeveloperSkillsNetworkDL0110ENSkillsNetwork952-2022-01-01\">Broadcasting</a> for more information on numpy that is similar to PyTorch.\n"
        },
        {
            "cell_type": "markdown",
            "id": "0a629cce-6906-480e-9090-bbe64394a5c8",
            "metadata": {},
            "source": "<a href=\"https://dataplatform.cloud.ibm.com/registration/stepone?utm_medium=Exinfluencer&utm_source=Exinfluencer&utm_content=000026UJ&utm_term=10006555&utm_id=NA-SkillsNetwork-Channel-SkillsNetworkCoursesIBMDeveloperSkillsNetworkDL0110ENSkillsNetwork952-2022-01-01&context=cpdaas&apps=data_science_experience%2Cwatson_machine_learning\"><img src=\"https://cf-courses-data.s3.us.cloud-object-storage.appdomain.cloud/IBMDeveloperSkillsNetwork-DL0110EN-SkillsNetwork/Template/module%201/images/Watson_Studio.png\"></a>\n"
        },
        {
            "cell_type": "markdown",
            "id": "460a6742-ec6e-41b7-9837-d922aa5105f6",
            "metadata": {},
            "source": "<h2>About the Authors:</h2> \n\n<a href=\"https://www.linkedin.com/in/joseph-s-50398b136/?utm_medium=Exinfluencer&utm_source=Exinfluencer&utm_content=000026UJ&utm_term=10006555&utm_id=NA-SkillsNetwork-Channel-SkillsNetworkCoursesIBMDeveloperSkillsNetworkDL0110ENSkillsNetwork952-2022-01-01\">Joseph Santarcangelo</a> has a PhD in Electrical Engineering, his research focused on using machine learning, signal processing, and computer vision to determine how videos impact human cognition. Joseph has been working for IBM since he completed his PhD.\n"
        },
        {
            "cell_type": "markdown",
            "id": "920a8877-990c-459f-8b68-fc5860816414",
            "metadata": {},
            "source": "Other contributors: <a href=\"https://www.linkedin.com/in/michelleccarey/?utm_medium=Exinfluencer&utm_source=Exinfluencer&utm_content=000026UJ&utm_term=10006555&utm_id=NA-SkillsNetwork-Channel-SkillsNetworkCoursesIBMDeveloperSkillsNetworkDL0110ENSkillsNetwork952-2022-01-01\">Michelle Carey</a>, <a href=\"www.linkedin.com/in/jiahui-mavis-zhou-a4537814a\">Mavis Zhou</a> \n"
        },
        {
            "cell_type": "markdown",
            "id": "1224407d-bc91-4e94-ada5-bcf50cfbf40c",
            "metadata": {},
            "source": "\n## Change Log\n\n|  Date (YYYY-MM-DD) |  Version | Changed By  |  Change Description |\n|---|---|---|---|\n| 2020-09-21  | 2.0  | Shubham  |  Migrated Lab to Markdown and added to course repo in GitLab |\n\n"
        },
        {
            "cell_type": "markdown",
            "id": "4dadb66a-55be-4981-91ae-13c07096375a",
            "metadata": {},
            "source": "<hr>\n"
        },
        {
            "cell_type": "markdown",
            "id": "b00b65e0-bd3c-48ab-8cff-377f30419a52",
            "metadata": {},
            "source": "## <h3 align=\"center\"> \u00a9 IBM Corporation 2020. All rights reserved. <h3/>\n"
        }
    ],
    "metadata": {
        "kernelspec": {
            "display_name": "Python 3.10",
            "language": "python",
            "name": "python3"
        },
        "language_info": {
            "codemirror_mode": {
                "name": "ipython",
                "version": 3
            },
            "file_extension": ".py",
            "mimetype": "text/x-python",
            "name": "python",
            "nbconvert_exporter": "python",
            "pygments_lexer": "ipython3",
            "version": "3.10.13"
        }
    },
    "nbformat": 4,
    "nbformat_minor": 4
}