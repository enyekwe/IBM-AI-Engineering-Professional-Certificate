{
    "cells": [
        {
            "cell_type": "markdown",
            "id": "a6e74afe-4e22-42ae-9d76-12f5dd29a533",
            "metadata": {},
            "source": "<p style=\"text-align:center\">\n    <a href=\"https://skills.network/?utm_medium=Exinfluencer&utm_source=Exinfluencer&utm_content=000026UJ&utm_term=10006555&utm_id=NA-SkillsNetwork-Channel-SkillsNetworkCoursesIBMDeveloperSkillsNetworkDL0110ENSkillsNetwork952-2022-01-01\" target=\"_blank\">\n    <img src=\"https://cf-courses-data.s3.us.cloud-object-storage.appdomain.cloud/assets/logos/SN_web_lightmode.png\" width=\"200\" alt=\"Skills Network Logo\"  />\n    </a>\n</p>\n"
        },
        {
            "cell_type": "markdown",
            "id": "e994e93c-8823-401d-95bc-033b3669c80e",
            "metadata": {},
            "source": "<h1>Simple Dataset</h1> \n"
        },
        {
            "cell_type": "markdown",
            "id": "7ad19792-c298-4c99-9c86-c6465f1cd672",
            "metadata": {},
            "source": "<h2>Objective</h2><ul><li> How to create a dataset in pytorch.</li><li> How to perform transformations on the dataset.</li></ul> \n"
        },
        {
            "cell_type": "markdown",
            "id": "e90f4bca-718c-4da8-806e-acc5aa753d0e",
            "metadata": {},
            "source": "<h2>Table of Contents</h2>\n"
        },
        {
            "cell_type": "markdown",
            "id": "e696db6a-8b3e-4ffc-9645-452c68c65618",
            "metadata": {},
            "source": "<p>In this lab, you will construct a basic dataset by using PyTorch and learn how to apply basic transformations to it.</p> \n<ul>\n    <li><a href=\"#Simple_Dataset\">Simple dataset</a></li>\n    <li><a href=\"#Transforms\">Transforms</a></li>\n    <li><a href=\"#Compose\">Compose</a></li>\n</ul>\n<p>Estimated Time Needed: <strong>30 min</strong></p>\n<hr>\n"
        },
        {
            "cell_type": "markdown",
            "id": "874edf53-58ef-484c-8bbd-ddc319bfbcec",
            "metadata": {},
            "source": "<h2>Preparation</h2>\n"
        },
        {
            "cell_type": "markdown",
            "id": "7b0a0a6d-0310-4691-a0f9-ff5e0461111f",
            "metadata": {},
            "source": "The following are the libraries we are going to use for this lab. The <code>torch.manual_seed()</code> is for forcing the random function to give the same number every time we try to recompile it.\n"
        },
        {
            "cell_type": "code",
            "execution_count": 1,
            "id": "343de19a-3ab9-4aa7-9984-51b8e6e4a5c6",
            "metadata": {},
            "outputs": [
                {
                    "data": {
                        "text/plain": "<torch._C.Generator at 0x7f4f2b4a71f0>"
                    },
                    "execution_count": 1,
                    "metadata": {},
                    "output_type": "execute_result"
                }
            ],
            "source": "# These are the libraries will be used for this lab.\n\nimport torch\nfrom torch.utils.data import Dataset\ntorch.manual_seed(1)"
        },
        {
            "cell_type": "markdown",
            "id": "e4bca8cc-b5e2-4d8b-8320-7cd8c2d95115",
            "metadata": {},
            "source": "<!--Empty Space for separating topics-->\n"
        },
        {
            "cell_type": "markdown",
            "id": "629862b7-ceac-4c9d-b520-39b4f2d64e7d",
            "metadata": {},
            "source": "<h2 id=\"Simple_Dataset\">Simple dataset</h2>\n"
        },
        {
            "cell_type": "markdown",
            "id": "0cc10400-6398-41c4-b1fa-26997f2f1094",
            "metadata": {},
            "source": "Let us try to create our own dataset class.\n"
        },
        {
            "cell_type": "code",
            "execution_count": 2,
            "id": "a6bc6efb-3e84-46a2-9353-f3dd6f21c009",
            "metadata": {},
            "outputs": [],
            "source": "# Define class for dataset\n\nclass toy_set(Dataset):\n    \n    # Constructor with defult values \n    def __init__(self, length = 100, transform = None):\n        self.len = length\n        self.x = 2 * torch.ones(length, 2)\n        self.y = torch.ones(length, 1)\n        self.transform = transform\n     \n    # Getter\n    def __getitem__(self, index):\n        sample = self.x[index], self.y[index]\n        if self.transform:\n            sample = self.transform(sample)     \n        return sample\n    \n    # Get Length\n    def __len__(self):\n        return self.len"
        },
        {
            "cell_type": "markdown",
            "id": "7e4d38b1-611c-4890-ad35-a65f0057700d",
            "metadata": {},
            "source": "Now, let us create our <code>toy_set</code> object, and find out the value on index 1 and the length of the inital dataset\n"
        },
        {
            "cell_type": "code",
            "execution_count": 3,
            "id": "402d69d1-e7bc-48c9-bd92-0ae6a9a31490",
            "metadata": {},
            "outputs": [
                {
                    "name": "stdout",
                    "output_type": "stream",
                    "text": "Our toy_set object:  <__main__.toy_set object at 0x7f4f28833d30>\nValue on index 0 of our toy_set object:  (tensor([2., 2.]), tensor([1.]))\nOur toy_set length:  100\n"
                }
            ],
            "source": "# Create Dataset Object. Find out the value on index 1. Find out the length of Dataset Object.\n\nour_dataset = toy_set()\nprint(\"Our toy_set object: \", our_dataset)\nprint(\"Value on index 0 of our toy_set object: \", our_dataset[0])\nprint(\"Our toy_set length: \", len(our_dataset))"
        },
        {
            "cell_type": "markdown",
            "id": "e9e6cac0-f5c8-440b-bb21-3c53bf8e6437",
            "metadata": {},
            "source": "As a result, we can apply the same indexing convention as a <code>list</code>,\nand apply the fuction <code>len</code> on the <code>toy_set</code> object. We are able to customize the indexing and length method by <code>def &#95;&#95;getitem&#95;&#95;(self, index)</code> and <code>def &#95;&#95;len&#95;&#95;(self)</code>.\n"
        },
        {
            "cell_type": "markdown",
            "id": "5de51d16-bd23-420a-9b36-89c62e5a3299",
            "metadata": {},
            "source": "Now, let us print out the first 3 elements and assign them to x and y:\n"
        },
        {
            "cell_type": "code",
            "execution_count": 4,
            "id": "94046c88-6c73-47a3-b049-28f523d56e7b",
            "metadata": {},
            "outputs": [
                {
                    "name": "stdout",
                    "output_type": "stream",
                    "text": "index:  0 ; x: tensor([2., 2.]) ; y: tensor([1.])\nindex:  1 ; x: tensor([2., 2.]) ; y: tensor([1.])\nindex:  2 ; x: tensor([2., 2.]) ; y: tensor([1.])\n"
                }
            ],
            "source": "# Use loop to print out first 3 elements in dataset\n\nfor i in range(3):\n    x, y=our_dataset[i]\n    print(\"index: \", i, '; x:', x, '; y:', y)"
        },
        {
            "cell_type": "markdown",
            "id": "cd9f3775-391b-44b9-8384-f059d43cf811",
            "metadata": {},
            "source": "The dataset object is an Iterable; as a result, we  apply the loop directly on the dataset object \n"
        },
        {
            "cell_type": "code",
            "execution_count": 5,
            "id": "4d90c840-bf80-4c7f-8252-58ae7d130267",
            "metadata": {},
            "outputs": [
                {
                    "name": "stdout",
                    "output_type": "stream",
                    "text": " x: tensor([2., 2.]) y: tensor([1.])\n x: tensor([2., 2.]) y: tensor([1.])\n x: tensor([2., 2.]) y: tensor([1.])\n x: tensor([2., 2.]) y: tensor([1.])\n x: tensor([2., 2.]) y: tensor([1.])\n x: tensor([2., 2.]) y: tensor([1.])\n x: tensor([2., 2.]) y: tensor([1.])\n x: tensor([2., 2.]) y: tensor([1.])\n x: tensor([2., 2.]) y: tensor([1.])\n x: tensor([2., 2.]) y: tensor([1.])\n x: tensor([2., 2.]) y: tensor([1.])\n x: tensor([2., 2.]) y: tensor([1.])\n x: tensor([2., 2.]) y: tensor([1.])\n x: tensor([2., 2.]) y: tensor([1.])\n x: tensor([2., 2.]) y: tensor([1.])\n x: tensor([2., 2.]) y: tensor([1.])\n x: tensor([2., 2.]) y: tensor([1.])\n x: tensor([2., 2.]) y: tensor([1.])\n x: tensor([2., 2.]) y: tensor([1.])\n x: tensor([2., 2.]) y: tensor([1.])\n x: tensor([2., 2.]) y: tensor([1.])\n x: tensor([2., 2.]) y: tensor([1.])\n x: tensor([2., 2.]) y: tensor([1.])\n x: tensor([2., 2.]) y: tensor([1.])\n x: tensor([2., 2.]) y: tensor([1.])\n x: tensor([2., 2.]) y: tensor([1.])\n x: tensor([2., 2.]) y: tensor([1.])\n x: tensor([2., 2.]) y: tensor([1.])\n x: tensor([2., 2.]) y: tensor([1.])\n x: tensor([2., 2.]) y: tensor([1.])\n x: tensor([2., 2.]) y: tensor([1.])\n x: tensor([2., 2.]) y: tensor([1.])\n x: tensor([2., 2.]) y: tensor([1.])\n x: tensor([2., 2.]) y: tensor([1.])\n x: tensor([2., 2.]) y: tensor([1.])\n x: tensor([2., 2.]) y: tensor([1.])\n x: tensor([2., 2.]) y: tensor([1.])\n x: tensor([2., 2.]) y: tensor([1.])\n x: tensor([2., 2.]) y: tensor([1.])\n x: tensor([2., 2.]) y: tensor([1.])\n x: tensor([2., 2.]) y: tensor([1.])\n x: tensor([2., 2.]) y: tensor([1.])\n x: tensor([2., 2.]) y: tensor([1.])\n x: tensor([2., 2.]) y: tensor([1.])\n x: tensor([2., 2.]) y: tensor([1.])\n x: tensor([2., 2.]) y: tensor([1.])\n x: tensor([2., 2.]) y: tensor([1.])\n x: tensor([2., 2.]) y: tensor([1.])\n x: tensor([2., 2.]) y: tensor([1.])\n x: tensor([2., 2.]) y: tensor([1.])\n x: tensor([2., 2.]) y: tensor([1.])\n x: tensor([2., 2.]) y: tensor([1.])\n x: tensor([2., 2.]) y: tensor([1.])\n x: tensor([2., 2.]) y: tensor([1.])\n x: tensor([2., 2.]) y: tensor([1.])\n x: tensor([2., 2.]) y: tensor([1.])\n x: tensor([2., 2.]) y: tensor([1.])\n x: tensor([2., 2.]) y: tensor([1.])\n x: tensor([2., 2.]) y: tensor([1.])\n x: tensor([2., 2.]) y: tensor([1.])\n x: tensor([2., 2.]) y: tensor([1.])\n x: tensor([2., 2.]) y: tensor([1.])\n x: tensor([2., 2.]) y: tensor([1.])\n x: tensor([2., 2.]) y: tensor([1.])\n x: tensor([2., 2.]) y: tensor([1.])\n x: tensor([2., 2.]) y: tensor([1.])\n x: tensor([2., 2.]) y: tensor([1.])\n x: tensor([2., 2.]) y: tensor([1.])\n x: tensor([2., 2.]) y: tensor([1.])\n x: tensor([2., 2.]) y: tensor([1.])\n x: tensor([2., 2.]) y: tensor([1.])\n x: tensor([2., 2.]) y: tensor([1.])\n x: tensor([2., 2.]) y: tensor([1.])\n x: tensor([2., 2.]) y: tensor([1.])\n x: tensor([2., 2.]) y: tensor([1.])\n x: tensor([2., 2.]) y: tensor([1.])\n x: tensor([2., 2.]) y: tensor([1.])\n x: tensor([2., 2.]) y: tensor([1.])\n x: tensor([2., 2.]) y: tensor([1.])\n x: tensor([2., 2.]) y: tensor([1.])\n x: tensor([2., 2.]) y: tensor([1.])\n x: tensor([2., 2.]) y: tensor([1.])\n x: tensor([2., 2.]) y: tensor([1.])\n x: tensor([2., 2.]) y: tensor([1.])\n x: tensor([2., 2.]) y: tensor([1.])\n x: tensor([2., 2.]) y: tensor([1.])\n x: tensor([2., 2.]) y: tensor([1.])\n x: tensor([2., 2.]) y: tensor([1.])\n x: tensor([2., 2.]) y: tensor([1.])\n x: tensor([2., 2.]) y: tensor([1.])\n x: tensor([2., 2.]) y: tensor([1.])\n x: tensor([2., 2.]) y: tensor([1.])\n x: tensor([2., 2.]) y: tensor([1.])\n x: tensor([2., 2.]) y: tensor([1.])\n x: tensor([2., 2.]) y: tensor([1.])\n x: tensor([2., 2.]) y: tensor([1.])\n x: tensor([2., 2.]) y: tensor([1.])\n x: tensor([2., 2.]) y: tensor([1.])\n x: tensor([2., 2.]) y: tensor([1.])\n x: tensor([2., 2.]) y: tensor([1.])\n"
                }
            ],
            "source": "for x,y in our_dataset:\n    print(' x:', x, 'y:', y)"
        },
        {
            "cell_type": "markdown",
            "id": "5d1c4143-6ac6-4e14-8d5c-fb707f9299eb",
            "metadata": {},
            "source": "<!--Empty Space for separating topics-->\n"
        },
        {
            "cell_type": "markdown",
            "id": "8bbf72ea-7a22-432e-b1b8-4b361fcb74fc",
            "metadata": {},
            "source": "<h3>Practice</h3>\n"
        },
        {
            "cell_type": "markdown",
            "id": "c1abc467-22b0-42d0-9b1c-a0978474d11b",
            "metadata": {},
            "source": "Try to create an <code>toy_set</code> object with length <b>50</b>. Print out the length of your object.\n"
        },
        {
            "cell_type": "code",
            "execution_count": 6,
            "id": "3631317e-7aa0-4f81-a12a-2b7f5b88d545",
            "metadata": {},
            "outputs": [
                {
                    "name": "stdout",
                    "output_type": "stream",
                    "text": "Our toy_set length:  50\n"
                }
            ],
            "source": "# Practice: Create a new object with length 50, and print the length of object out.\n\n# Type your code here\ntest_dataset = toy_set(length = 50)\nprint(\"Our toy_set length: \", len(test_dataset))"
        },
        {
            "cell_type": "markdown",
            "id": "1e568e1f-f8db-42b9-a61a-069532c0f088",
            "metadata": {},
            "source": "Double-click <b>here</b> for the solution.\n<!-- \nmy_dataset = toy_set(length = 50)\nprint(\"My toy_set length: \", len(my_dataset))\n-->\n"
        },
        {
            "cell_type": "markdown",
            "id": "08b2438d-d6cc-4846-ac16-495ce2087135",
            "metadata": {},
            "source": "<!--Empty Space for separating topics-->\n"
        },
        {
            "cell_type": "markdown",
            "id": "ab39ed88-9211-45c7-a8cc-ae35de7b67d7",
            "metadata": {},
            "source": "<h2 id=\"Transforms\">Transforms</h2>\n"
        },
        {
            "cell_type": "markdown",
            "id": "e71f4693-52aa-40a3-a24e-428000aa37e3",
            "metadata": {},
            "source": "You can also create a class for transforming the data. In this case, we will try to add 1 to x and multiply y by 2:\n"
        },
        {
            "cell_type": "code",
            "execution_count": 7,
            "id": "a991b0c8-a471-4be8-8305-a4481e2fb393",
            "metadata": {},
            "outputs": [],
            "source": "# Create tranform class add_mult\n\nclass add_mult(object):\n    \n    # Constructor\n    def __init__(self, addx = 1, muly = 2):\n        self.addx = addx\n        self.muly = muly\n    \n    # Executor\n    def __call__(self, sample):\n        x = sample[0]\n        y = sample[1]\n        x = x + self.addx\n        y = y * self.muly\n        sample = x, y\n        return sample"
        },
        {
            "cell_type": "markdown",
            "id": "55af4127-b5d9-421c-ad93-748b11b21656",
            "metadata": {},
            "source": "<!--Empty Space for separating topics-->\n"
        },
        {
            "cell_type": "markdown",
            "id": "d958e424-5781-4a84-8b3a-15a6cd67f58e",
            "metadata": {},
            "source": "Now, create a transform object:.\n"
        },
        {
            "cell_type": "code",
            "execution_count": 8,
            "id": "276bfa09-47df-4a0f-8f15-75586efc9d4f",
            "metadata": {},
            "outputs": [],
            "source": "# Create an add_mult transform object, and an toy_set object\n\na_m = add_mult()\ndata_set = toy_set()"
        },
        {
            "cell_type": "markdown",
            "id": "53f4aa9c-f4ea-4abe-be4d-5b8d631c5f2b",
            "metadata": {},
            "source": "Assign the outputs of the original dataset to <code>x</code> and <code>y</code>. Then, apply the transform <code>add_mult</code> to the dataset and output the values as <code>x_</code> and <code>y_</code>, respectively: \n"
        },
        {
            "cell_type": "code",
            "execution_count": 9,
            "id": "ee55095e-6cf5-4ee0-a118-b518917b097f",
            "metadata": {},
            "outputs": [
                {
                    "name": "stdout",
                    "output_type": "stream",
                    "text": "Index:  0 Original x:  tensor([2., 2.]) Original y:  tensor([1.])\nIndex:  0 Transformed x_: tensor([3., 3.]) Transformed y_: tensor([2.])\nIndex:  1 Original x:  tensor([2., 2.]) Original y:  tensor([1.])\nIndex:  1 Transformed x_: tensor([3., 3.]) Transformed y_: tensor([2.])\nIndex:  2 Original x:  tensor([2., 2.]) Original y:  tensor([1.])\nIndex:  2 Transformed x_: tensor([3., 3.]) Transformed y_: tensor([2.])\nIndex:  3 Original x:  tensor([2., 2.]) Original y:  tensor([1.])\nIndex:  3 Transformed x_: tensor([3., 3.]) Transformed y_: tensor([2.])\nIndex:  4 Original x:  tensor([2., 2.]) Original y:  tensor([1.])\nIndex:  4 Transformed x_: tensor([3., 3.]) Transformed y_: tensor([2.])\nIndex:  5 Original x:  tensor([2., 2.]) Original y:  tensor([1.])\nIndex:  5 Transformed x_: tensor([3., 3.]) Transformed y_: tensor([2.])\nIndex:  6 Original x:  tensor([2., 2.]) Original y:  tensor([1.])\nIndex:  6 Transformed x_: tensor([3., 3.]) Transformed y_: tensor([2.])\nIndex:  7 Original x:  tensor([2., 2.]) Original y:  tensor([1.])\nIndex:  7 Transformed x_: tensor([3., 3.]) Transformed y_: tensor([2.])\nIndex:  8 Original x:  tensor([2., 2.]) Original y:  tensor([1.])\nIndex:  8 Transformed x_: tensor([3., 3.]) Transformed y_: tensor([2.])\nIndex:  9 Original x:  tensor([2., 2.]) Original y:  tensor([1.])\nIndex:  9 Transformed x_: tensor([3., 3.]) Transformed y_: tensor([2.])\n"
                }
            ],
            "source": "# Use loop to print out first 10 elements in dataset\n\nfor i in range(10):\n    x, y = data_set[i]\n    print('Index: ', i, 'Original x: ', x, 'Original y: ', y)\n    x_, y_ = a_m(data_set[i])\n    print('Index: ', i, 'Transformed x_:', x_, 'Transformed y_:', y_)"
        },
        {
            "cell_type": "markdown",
            "id": "88b51094-8fef-4dc1-94e8-7b76348b2dad",
            "metadata": {},
            "source": "As the result, <code>x</code> has been added by 1 and y has been multiplied by 2, as <i>[2, 2] + 1 = [3, 3]</i> and <i>[1] x 2 = [2]</i>\n"
        },
        {
            "cell_type": "markdown",
            "id": "6022a42d-0528-4591-8ca9-ce8811dc641c",
            "metadata": {},
            "source": "<!--Empty Space for separating topics-->\n"
        },
        {
            "cell_type": "markdown",
            "id": "f129a047-a6c4-417f-a59a-c12f149b0573",
            "metadata": {},
            "source": "We can apply the transform object every time we create a new <code>toy_set object</code>? Remember, we have the constructor in toy_set class with the parameter <code>transform = None</code>.\nWhen we create a new object using the constructor, we can assign the transform object to the parameter transform, as the following code demonstrates.\n"
        },
        {
            "cell_type": "code",
            "execution_count": 10,
            "id": "95c90450-da41-42da-b8b3-7acfde59ac95",
            "metadata": {},
            "outputs": [],
            "source": "# Create a new data_set object with add_mult object as transform\n\ncust_data_set = toy_set(transform = a_m)"
        },
        {
            "cell_type": "markdown",
            "id": "3ba0ded7-b3f9-49c4-ab5c-3be732aad9ed",
            "metadata": {},
            "source": "This applied <code>a_m</code> object (a transform method) to every element in <code>cust_data_set</code> as initialized. Let us print out the first 10 elements in <code>cust_data_set</code> in order to see whether the <code>a_m</code> applied on <code>cust_data_set</code>\n"
        },
        {
            "cell_type": "code",
            "execution_count": 11,
            "id": "a4043c59-16fc-4743-be7c-cf9365fc4dfc",
            "metadata": {},
            "outputs": [
                {
                    "name": "stdout",
                    "output_type": "stream",
                    "text": "Index:  0 Original x:  tensor([2., 2.]) Original y:  tensor([1.])\nIndex:  0 Transformed x_: tensor([3., 3.]) Transformed y_: tensor([2.])\nIndex:  1 Original x:  tensor([2., 2.]) Original y:  tensor([1.])\nIndex:  1 Transformed x_: tensor([3., 3.]) Transformed y_: tensor([2.])\nIndex:  2 Original x:  tensor([2., 2.]) Original y:  tensor([1.])\nIndex:  2 Transformed x_: tensor([3., 3.]) Transformed y_: tensor([2.])\nIndex:  3 Original x:  tensor([2., 2.]) Original y:  tensor([1.])\nIndex:  3 Transformed x_: tensor([3., 3.]) Transformed y_: tensor([2.])\nIndex:  4 Original x:  tensor([2., 2.]) Original y:  tensor([1.])\nIndex:  4 Transformed x_: tensor([3., 3.]) Transformed y_: tensor([2.])\nIndex:  5 Original x:  tensor([2., 2.]) Original y:  tensor([1.])\nIndex:  5 Transformed x_: tensor([3., 3.]) Transformed y_: tensor([2.])\nIndex:  6 Original x:  tensor([2., 2.]) Original y:  tensor([1.])\nIndex:  6 Transformed x_: tensor([3., 3.]) Transformed y_: tensor([2.])\nIndex:  7 Original x:  tensor([2., 2.]) Original y:  tensor([1.])\nIndex:  7 Transformed x_: tensor([3., 3.]) Transformed y_: tensor([2.])\nIndex:  8 Original x:  tensor([2., 2.]) Original y:  tensor([1.])\nIndex:  8 Transformed x_: tensor([3., 3.]) Transformed y_: tensor([2.])\nIndex:  9 Original x:  tensor([2., 2.]) Original y:  tensor([1.])\nIndex:  9 Transformed x_: tensor([3., 3.]) Transformed y_: tensor([2.])\n"
                }
            ],
            "source": "# Use loop to print out first 10 elements in dataset\n\nfor i in range(10):\n    x, y = data_set[i]\n    print('Index: ', i, 'Original x: ', x, 'Original y: ', y)\n    x_, y_ = cust_data_set[i]\n    print('Index: ', i, 'Transformed x_:', x_, 'Transformed y_:', y_)"
        },
        {
            "cell_type": "markdown",
            "id": "4205f73e-7742-4406-acc9-51d9bae15638",
            "metadata": {},
            "source": "The result is the same as the previous method.\n"
        },
        {
            "cell_type": "markdown",
            "id": "255990f2-737e-4028-b0c4-51276d7fd986",
            "metadata": {},
            "source": "<!--Empty Space for separating topics-->\n"
        },
        {
            "cell_type": "code",
            "execution_count": 12,
            "id": "e88294bd-bec2-4e89-b40e-1daeb8aa6048",
            "metadata": {},
            "outputs": [
                {
                    "name": "stdout",
                    "output_type": "stream",
                    "text": "Index:  0 Transformed x_: tensor([40., 40.]) Transformed y_: tensor([30.])\nIndex:  1 Transformed x_: tensor([40., 40.]) Transformed y_: tensor([30.])\nIndex:  2 Transformed x_: tensor([40., 40.]) Transformed y_: tensor([30.])\n"
                }
            ],
            "source": "# Practice: Construct your own my_add_mult transform. Apply my_add_mult on a new toy_set object. Print out the first three elements from the transformed dataset.\n\n# Type your code here.\nclass my_add_mult(object):   \n    def __init__(self, add = 2, mul = 10):\n        self.add=add\n        self.mul=mul\n        \n    def __call__(self, sample):\n        x = sample[0]\n        y = sample[1]\n        x = x + self.add\n        y = y + self.add\n        x = x * self.mul\n        y = y * self.mul\n        sample = x, y\n        return sample\n        \n       \nmy_dataset = toy_set(transform = my_add_mult())\nfor i in range(3):\n    x_, y_ = my_dataset[i]\n    print('Index: ', i, 'Transformed x_:', x_, 'Transformed y_:', y_)"
        },
        {
            "cell_type": "markdown",
            "id": "a46c077f-59ad-4fe2-98ec-c0d2dde2772d",
            "metadata": {},
            "source": "Double-click <b>here</b> for the solution.\n<!-- \nclass my_add_mult(object):   \n    def __init__(self, add = 2, mul = 10):\n        self.add=add\n        self.mul=mul\n        \n    def __call__(self, sample):\n        x = sample[0]\n        y = sample[1]\n        x = x + self.add\n        y = y + self.add\n        x = x * self.mul\n        y = y * self.mul\n        sample = x, y\n        return sample\n        \n       \nmy_dataset = toy_set(transform = my_add_mult())\nfor i in range(3):\n    x_, y_ = my_dataset[i]\n    print('Index: ', i, 'Transformed x_:', x_, 'Transformed y_:', y_)\n    \n -->\n"
        },
        {
            "cell_type": "markdown",
            "id": "2be2c33b-eaf4-41f9-8e11-ddcabede1fe8",
            "metadata": {},
            "source": "<!--Empty Space for separating topics-->\n"
        },
        {
            "cell_type": "markdown",
            "id": "f8d27ccc-6a60-4430-9157-41bb33eb01d8",
            "metadata": {},
            "source": "<h2 id=\"Compose\">Compose</h2>\n"
        },
        {
            "cell_type": "markdown",
            "id": "91f357c2-4633-4ac4-9619-6335a6d882c1",
            "metadata": {},
            "source": "You can compose multiple transforms on the dataset object. First, import <code>transforms</code> from <code>torchvision</code>:\n"
        },
        {
            "cell_type": "code",
            "execution_count": 13,
            "id": "106f8c9c-13c3-470c-998c-f08929e880b1",
            "metadata": {},
            "outputs": [],
            "source": "# Run the command below when you do not have torchvision installed\n# !mamba install -y torchvision\n\nfrom torchvision import transforms"
        },
        {
            "cell_type": "markdown",
            "id": "7c32ed4b-a9ff-4f5a-8db5-4d28d4ad8525",
            "metadata": {},
            "source": "Then, create a new transform class that multiplies each of the elements by 100: \n"
        },
        {
            "cell_type": "code",
            "execution_count": 14,
            "id": "a5fd66e4-9f8d-48fb-88ca-e60b1d286062",
            "metadata": {},
            "outputs": [],
            "source": "# Create tranform class mult\n\nclass mult(object):\n    \n    # Constructor\n    def __init__(self, mult = 100):\n        self.mult = mult\n        \n    # Executor\n    def __call__(self, sample):\n        x = sample[0]\n        y = sample[1]\n        x = x * self.mult\n        y = y * self.mult\n        sample = x, y\n        return sample"
        },
        {
            "cell_type": "markdown",
            "id": "663e28cd-0770-4063-88bd-e1847338ccd1",
            "metadata": {},
            "source": "Now let us try to combine the transforms <code>add_mult</code> and <code>mult</code>\n"
        },
        {
            "cell_type": "code",
            "execution_count": 15,
            "id": "01e501a2-d873-4197-a58a-43c7e88ad6fb",
            "metadata": {},
            "outputs": [
                {
                    "name": "stdout",
                    "output_type": "stream",
                    "text": "The combination of transforms (Compose):  Compose(\n    <__main__.add_mult object at 0x7f4f2b78bd90>\n    <__main__.mult object at 0x7f4f2b78bca0>\n)\n"
                }
            ],
            "source": "# Combine the add_mult() and mult()\n\ndata_transform = transforms.Compose([add_mult(), mult()])\nprint(\"The combination of transforms (Compose): \", data_transform)\n"
        },
        {
            "cell_type": "markdown",
            "id": "6d22de1c-e7d7-4ca3-a5f5-a862d0e3be73",
            "metadata": {},
            "source": "The new <code>Compose</code> object will perform each transform concurrently as shown in this figure:\n"
        },
        {
            "cell_type": "markdown",
            "id": "192b937b-0609-4e41-ae27-24af1b62b386",
            "metadata": {},
            "source": "<img src=\"https://s3-api.us-geo.objectstorage.softlayer.net/cf-courses-data/CognitiveClass/DL0110EN/notebook_images%20/chapter%201/1.3.1_trasform.png\" width=\"500\" alt=\"Compose PyTorch\">\n"
        },
        {
            "cell_type": "code",
            "execution_count": 16,
            "id": "f29e0dfa-41b8-414f-820d-1b299c9bd69e",
            "metadata": {},
            "outputs": [
                {
                    "data": {
                        "text/plain": "(tensor([300., 300.]), tensor([200.]))"
                    },
                    "execution_count": 16,
                    "metadata": {},
                    "output_type": "execute_result"
                }
            ],
            "source": "data_transform(data_set[0])"
        },
        {
            "cell_type": "code",
            "execution_count": 17,
            "id": "8979d1f9-187e-45e8-adf3-144329a27979",
            "metadata": {},
            "outputs": [
                {
                    "name": "stdout",
                    "output_type": "stream",
                    "text": "Original x:  tensor([2., 2.]) Original y:  tensor([1.])\nTransformed x_: tensor([300., 300.]) Transformed y_: tensor([200.])\n"
                }
            ],
            "source": "x,y=data_set[0]\nx_,y_=data_transform(data_set[0])\nprint( 'Original x: ', x, 'Original y: ', y)\n\nprint( 'Transformed x_:', x_, 'Transformed y_:', y_)"
        },
        {
            "cell_type": "markdown",
            "id": "61145a5c-8edd-4db5-aafa-8c8270e5e120",
            "metadata": {},
            "source": "Now we can pass the new <code>Compose</code> object (The combination of methods <code>add_mult()</code> and <code>mult</code>) to the constructor for creating <code>toy_set</code> object.\n"
        },
        {
            "cell_type": "code",
            "execution_count": 18,
            "id": "a2d3d501-3076-4760-afb8-3d53ea1f0a87",
            "metadata": {},
            "outputs": [],
            "source": "# Create a new toy_set object with compose object as transform\n\ncompose_data_set = toy_set(transform = data_transform)"
        },
        {
            "cell_type": "markdown",
            "id": "e5552e06-0c15-4497-a6e3-d2e1d3439feb",
            "metadata": {},
            "source": "Let us print out the first 3 elements in different <code>toy_set</code> datasets in order to compare the output after different transforms have been applied: \n"
        },
        {
            "cell_type": "code",
            "execution_count": 19,
            "id": "0c664fb6-464a-4b58-bee5-15a7162630ab",
            "metadata": {},
            "outputs": [
                {
                    "name": "stdout",
                    "output_type": "stream",
                    "text": "Index:  0 Original x:  tensor([2., 2.]) Original y:  tensor([1.])\nIndex:  0 Transformed x_: tensor([3., 3.]) Transformed y_: tensor([2.])\nIndex:  0 Compose Transformed x_co:  tensor([300., 300.]) Compose Transformed y_co:  tensor([200.])\nIndex:  1 Original x:  tensor([2., 2.]) Original y:  tensor([1.])\nIndex:  1 Transformed x_: tensor([3., 3.]) Transformed y_: tensor([2.])\nIndex:  1 Compose Transformed x_co:  tensor([300., 300.]) Compose Transformed y_co:  tensor([200.])\nIndex:  2 Original x:  tensor([2., 2.]) Original y:  tensor([1.])\nIndex:  2 Transformed x_: tensor([3., 3.]) Transformed y_: tensor([2.])\nIndex:  2 Compose Transformed x_co:  tensor([300., 300.]) Compose Transformed y_co:  tensor([200.])\n"
                }
            ],
            "source": "# Use loop to print out first 3 elements in dataset\n\nfor i in range(3):\n    x, y = data_set[i]\n    print('Index: ', i, 'Original x: ', x, 'Original y: ', y)\n    x_, y_ = cust_data_set[i]\n    print('Index: ', i, 'Transformed x_:', x_, 'Transformed y_:', y_)\n    x_co, y_co = compose_data_set[i]\n    print('Index: ', i, 'Compose Transformed x_co: ', x_co ,'Compose Transformed y_co: ',y_co)"
        },
        {
            "cell_type": "markdown",
            "id": "b37dbac4-201b-4671-8eeb-89367b775942",
            "metadata": {},
            "source": "Let us see what happened on index 0. The original value of <code>x</code> is <i>[2, 2]</i>, and the original value of <code>y</code> is [1]. If we only applied <code>add_mult()</code> on the original dataset, then the <code>x</code> became <i>[3, 3]</i> and y became <i>[2]</i>. Now let us see what is the value after applied both <code>add_mult()</code> and <code>mult()</code>. The result of x is <i>[300, 300]</i> and y is <i>[200]</i>. The calculation which is equavalent to the compose is <i> x = ([2, 2] + 1) x 100 = [300, 300], y = ([1] x 2) x 100 = 200</i>\n"
        },
        {
            "cell_type": "markdown",
            "id": "5cbc74b1-b56c-4ec5-b1ea-c17eabe69915",
            "metadata": {},
            "source": "<h3>Practice</h3>\n"
        },
        {
            "cell_type": "markdown",
            "id": "13c2075c-02b8-4185-a1f3-8a62d4555702",
            "metadata": {},
            "source": "Try to combine the <code>mult()</code> and <code>add_mult()</code> as <code>mult()</code> to be executed first. And apply this on a new <code>toy_set</code> dataset. Print out the first 3 elements in the transformed dataset.\n"
        },
        {
            "cell_type": "code",
            "execution_count": null,
            "id": "a9b92f23-bdb5-4a84-953b-e7d18d9e6a0f",
            "metadata": {},
            "outputs": [],
            "source": "# Practice: Make a compose as mult() execute first and then add_mult(). Apply the compose on toy_set dataset. Print out the first 3 elements in the transformed dataset.\n\n# Type your code here."
        },
        {
            "cell_type": "markdown",
            "id": "10248287-f29c-4388-befc-a865eab294ae",
            "metadata": {},
            "source": "Double-click <b>here</b> for the solution.\n<!--\nmy_compose = transforms.Compose([mult(), add_mult()])\nmy_transformed_dataset = toy_set(transform = my_compose)\nfor i in range(3):\n    x_, y_ = my_transformed_dataset[i]\n    print('Index: ', i, 'Transformed x_:', x_, 'Transformed y_:', y_)\n-->\n"
        },
        {
            "cell_type": "markdown",
            "id": "8411b7f7-896c-4fbf-8b61-0717fc1bb578",
            "metadata": {},
            "source": "<a href=\"https://dataplatform.cloud.ibm.com/registration/stepone?utm_medium=Exinfluencer&utm_source=Exinfluencer&utm_content=000026UJ&utm_term=10006555&utm_id=NA-SkillsNetwork-Channel-SkillsNetworkCoursesIBMDeveloperSkillsNetworkDL0110ENSkillsNetwork952-2022-01-01&context=cpdaas&apps=data_science_experience%2Cwatson_machine_learning\"><img src=\"https://cf-courses-data.s3.us.cloud-object-storage.appdomain.cloud/IBMDeveloperSkillsNetwork-DL0110EN-SkillsNetwork/Template/module%201/images/Watson_Studio.png\"></a>\n"
        },
        {
            "cell_type": "markdown",
            "id": "6041452c-8f17-4e88-8146-250a9ab084c9",
            "metadata": {},
            "source": "<h2>About the Authors:</h2> \n\n<a href=\"https://www.linkedin.com/in/joseph-s-50398b136/?utm_medium=Exinfluencer&utm_source=Exinfluencer&utm_content=000026UJ&utm_term=10006555&utm_id=NA-SkillsNetwork-Channel-SkillsNetworkCoursesIBMDeveloperSkillsNetworkDL0110ENSkillsNetwork952-2022-01-01\">Joseph Santarcangelo</a> has a PhD in Electrical Engineering, his research focused on using machine learning, signal processing, and computer vision to determine how videos impact human cognition. Joseph has been working for IBM since he completed his PhD.\n"
        },
        {
            "cell_type": "markdown",
            "id": "8c9980fd-017c-4bc6-95a2-acae66c6b725",
            "metadata": {},
            "source": "Other contributors: <a href=\"https://www.linkedin.com/in/michelleccarey/?utm_medium=Exinfluencer&utm_source=Exinfluencer&utm_content=000026UJ&utm_term=10006555&utm_id=NA-SkillsNetwork-Channel-SkillsNetworkCoursesIBMDeveloperSkillsNetworkDL0110ENSkillsNetwork952-2022-01-01\">Michelle Carey</a>, <a href=\"www.linkedin.com/in/jiahui-mavis-zhou-a4537814a\">Mavis Zhou</a> \n"
        },
        {
            "cell_type": "markdown",
            "id": "2d53f3e7-ec21-4604-af0e-9fadad557883",
            "metadata": {},
            "source": "\n## Change Log\n\n|  Date (YYYY-MM-DD) |  Version | Changed By  |  Change Description |\n|---|---|---|---|\n| 2020-09-21  | 2.0  | Shubham  |  Migrated Lab to Markdown and added to course repo in GitLab |\n\n"
        },
        {
            "cell_type": "markdown",
            "id": "c8e6147d-723a-4df9-bde0-dbc2654b1d97",
            "metadata": {},
            "source": "<hr>\n"
        },
        {
            "cell_type": "markdown",
            "id": "ea9feeb3-81b3-4017-bfdd-d8c5417d26cc",
            "metadata": {},
            "source": "## <h3 align=\"center\"> \u00a9 IBM Corporation 2020. All rights reserved. <h3/>\n"
        }
    ],
    "metadata": {
        "kernelspec": {
            "display_name": "Python 3.10",
            "language": "python",
            "name": "python3"
        },
        "language_info": {
            "codemirror_mode": {
                "name": "ipython",
                "version": 3
            },
            "file_extension": ".py",
            "mimetype": "text/x-python",
            "name": "python",
            "nbconvert_exporter": "python",
            "pygments_lexer": "ipython3",
            "version": "3.10.13"
        }
    },
    "nbformat": 4,
    "nbformat_minor": 4
}